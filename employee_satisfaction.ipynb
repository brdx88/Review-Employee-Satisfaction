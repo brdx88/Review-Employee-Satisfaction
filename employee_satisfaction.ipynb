{
  "nbformat": 4,
  "nbformat_minor": 0,
  "metadata": {
    "colab": {
      "name": "employee satisfaction.ipynb",
      "provenance": [],
      "collapsed_sections": [],
      "toc_visible": true,
      "machine_shape": "hm"
    },
    "kernelspec": {
      "name": "python3",
      "display_name": "Python 3"
    },
    "accelerator": "TPU"
  },
  "cells": [
    {
      "cell_type": "markdown",
      "metadata": {
        "id": "3_jtis-h-24d"
      },
      "source": [
        "# Reviewing Employee Satisfaction\n",
        "Employment is a relationship between two parties, usually based on contract where work is paid for, where one party, which may be a corporation, for profit, not-for-profit organization, co-operative or other entity is the employer and the other is the employee.\n",
        "\n",
        "\n",
        "\n",
        "\n",
        "\n"
      ]
    },
    {
      "cell_type": "markdown",
      "metadata": {
        "id": "RrmYH__V_dr9"
      },
      "source": [
        "## Problems\n",
        "Company performance is determined based on employee performance. If most of the employees have poor performance, it can be said that the company's performance is also not good. Therefore, the quality of employees needs to be considered. One indicator of seeing the quality of employees is by knowing employee satisfaction while working at the company.\n",
        "1. What are the factors that make employees feel satisfied?\n",
        "2. Can employee satisfaction be predicted using Machine Learning to measure employee performance so that it can measure company performance as well?"
      ]
    },
    {
      "cell_type": "markdown",
      "metadata": {
        "id": "e6E5KmxEAPl-"
      },
      "source": [
        "## Goals\n",
        "1. Knowing what factors affect employee satisfaction.\n",
        "2. Predicting employee satisfaction using Machine Learning."
      ]
    },
    {
      "cell_type": "markdown",
      "metadata": {
        "id": "7r7SKaQISt8_"
      },
      "source": [
        "# 1) Preparation of Dataset"
      ]
    },
    {
      "cell_type": "code",
      "metadata": {
        "id": "13otSpPHTQMP",
        "outputId": "5f111151-5fa3-423d-9cc2-914a33267c78",
        "colab": {
          "base_uri": "https://localhost:8080/"
        }
      },
      "source": [
        "import pandas as pd\n",
        "import numpy as np\n",
        "import matplotlib.pyplot as plt\n",
        "import seaborn as sns\n",
        "\n",
        "!pip install sidetable\n",
        "import sidetable\n",
        "\n",
        "import warnings\n",
        "warnings.filterwarnings('ignore')"
      ],
      "execution_count": 1,
      "outputs": [
        {
          "output_type": "stream",
          "text": [
            "Requirement already satisfied: sidetable in /usr/local/lib/python3.6/dist-packages (0.7.0)\n",
            "Requirement already satisfied: pandas>=1.0 in /usr/local/lib/python3.6/dist-packages (from sidetable) (1.1.4)\n",
            "Requirement already satisfied: pytz>=2017.2 in /usr/local/lib/python3.6/dist-packages (from pandas>=1.0->sidetable) (2018.9)\n",
            "Requirement already satisfied: numpy>=1.15.4 in /usr/local/lib/python3.6/dist-packages (from pandas>=1.0->sidetable) (1.18.5)\n",
            "Requirement already satisfied: python-dateutil>=2.7.3 in /usr/local/lib/python3.6/dist-packages (from pandas>=1.0->sidetable) (2.8.1)\n",
            "Requirement already satisfied: six>=1.5 in /usr/local/lib/python3.6/dist-packages (from python-dateutil>=2.7.3->pandas>=1.0->sidetable) (1.15.0)\n"
          ],
          "name": "stdout"
        }
      ]
    },
    {
      "cell_type": "code",
      "metadata": {
        "id": "XZLlx0L-TzIv"
      },
      "source": [
        "satis = pd.read_csv('satisfaction.csv',index_col = 0)"
      ],
      "execution_count": 2,
      "outputs": []
    },
    {
      "cell_type": "code",
      "metadata": {
        "id": "lk5tFH9JinEa",
        "outputId": "19377641-1058-429d-9dfc-b7d6c2950666",
        "colab": {
          "base_uri": "https://localhost:8080/",
          "height": 241
        }
      },
      "source": [
        "satis.head()"
      ],
      "execution_count": 3,
      "outputs": [
        {
          "output_type": "execute_result",
          "data": {
            "text/html": [
              "<div>\n",
              "<style scoped>\n",
              "    .dataframe tbody tr th:only-of-type {\n",
              "        vertical-align: middle;\n",
              "    }\n",
              "\n",
              "    .dataframe tbody tr th {\n",
              "        vertical-align: top;\n",
              "    }\n",
              "\n",
              "    .dataframe thead th {\n",
              "        text-align: right;\n",
              "    }\n",
              "</style>\n",
              "<table border=\"1\" class=\"dataframe\">\n",
              "  <thead>\n",
              "    <tr style=\"text-align: right;\">\n",
              "      <th></th>\n",
              "      <th>emp_id</th>\n",
              "      <th>age</th>\n",
              "      <th>Dept</th>\n",
              "      <th>location</th>\n",
              "      <th>education</th>\n",
              "      <th>recruitment_type</th>\n",
              "      <th>job_level</th>\n",
              "      <th>rating</th>\n",
              "      <th>onsite</th>\n",
              "      <th>awards</th>\n",
              "      <th>certifications</th>\n",
              "      <th>salary</th>\n",
              "      <th>satisfied</th>\n",
              "    </tr>\n",
              "  </thead>\n",
              "  <tbody>\n",
              "    <tr>\n",
              "      <th>0</th>\n",
              "      <td>HR8270</td>\n",
              "      <td>28</td>\n",
              "      <td>HR</td>\n",
              "      <td>Suburb</td>\n",
              "      <td>PG</td>\n",
              "      <td>Referral</td>\n",
              "      <td>5</td>\n",
              "      <td>2</td>\n",
              "      <td>0</td>\n",
              "      <td>1</td>\n",
              "      <td>0</td>\n",
              "      <td>86750</td>\n",
              "      <td>1</td>\n",
              "    </tr>\n",
              "    <tr>\n",
              "      <th>1</th>\n",
              "      <td>TECH1860</td>\n",
              "      <td>50</td>\n",
              "      <td>Technology</td>\n",
              "      <td>Suburb</td>\n",
              "      <td>PG</td>\n",
              "      <td>Walk-in</td>\n",
              "      <td>3</td>\n",
              "      <td>5</td>\n",
              "      <td>1</td>\n",
              "      <td>2</td>\n",
              "      <td>1</td>\n",
              "      <td>42419</td>\n",
              "      <td>0</td>\n",
              "    </tr>\n",
              "    <tr>\n",
              "      <th>2</th>\n",
              "      <td>TECH6390</td>\n",
              "      <td>43</td>\n",
              "      <td>Technology</td>\n",
              "      <td>Suburb</td>\n",
              "      <td>UG</td>\n",
              "      <td>Referral</td>\n",
              "      <td>4</td>\n",
              "      <td>1</td>\n",
              "      <td>0</td>\n",
              "      <td>2</td>\n",
              "      <td>0</td>\n",
              "      <td>65715</td>\n",
              "      <td>0</td>\n",
              "    </tr>\n",
              "    <tr>\n",
              "      <th>3</th>\n",
              "      <td>SAL6191</td>\n",
              "      <td>44</td>\n",
              "      <td>Sales</td>\n",
              "      <td>City</td>\n",
              "      <td>PG</td>\n",
              "      <td>On-Campus</td>\n",
              "      <td>2</td>\n",
              "      <td>3</td>\n",
              "      <td>1</td>\n",
              "      <td>0</td>\n",
              "      <td>0</td>\n",
              "      <td>29805</td>\n",
              "      <td>1</td>\n",
              "    </tr>\n",
              "    <tr>\n",
              "      <th>4</th>\n",
              "      <td>HR6734</td>\n",
              "      <td>33</td>\n",
              "      <td>HR</td>\n",
              "      <td>City</td>\n",
              "      <td>UG</td>\n",
              "      <td>Recruitment Agency</td>\n",
              "      <td>2</td>\n",
              "      <td>1</td>\n",
              "      <td>0</td>\n",
              "      <td>5</td>\n",
              "      <td>0</td>\n",
              "      <td>29805</td>\n",
              "      <td>1</td>\n",
              "    </tr>\n",
              "  </tbody>\n",
              "</table>\n",
              "</div>"
            ],
            "text/plain": [
              "     emp_id  age        Dept  ... certifications salary satisfied\n",
              "0    HR8270   28          HR  ...              0  86750         1\n",
              "1  TECH1860   50  Technology  ...              1  42419         0\n",
              "2  TECH6390   43  Technology  ...              0  65715         0\n",
              "3   SAL6191   44       Sales  ...              0  29805         1\n",
              "4    HR6734   33          HR  ...              0  29805         1\n",
              "\n",
              "[5 rows x 13 columns]"
            ]
          },
          "metadata": {
            "tags": []
          },
          "execution_count": 3
        }
      ]
    },
    {
      "cell_type": "code",
      "metadata": {
        "id": "XLMoestwi6eW",
        "outputId": "8185b1b9-5714-4739-d52b-f48460ed82d0",
        "colab": {
          "base_uri": "https://localhost:8080/"
        }
      },
      "source": [
        "satis.isnull().sum()"
      ],
      "execution_count": 4,
      "outputs": [
        {
          "output_type": "execute_result",
          "data": {
            "text/plain": [
              "emp_id              0\n",
              "age                 0\n",
              "Dept                0\n",
              "location            0\n",
              "education           0\n",
              "recruitment_type    0\n",
              "job_level           0\n",
              "rating              0\n",
              "onsite              0\n",
              "awards              0\n",
              "certifications      0\n",
              "salary              0\n",
              "satisfied           0\n",
              "dtype: int64"
            ]
          },
          "metadata": {
            "tags": []
          },
          "execution_count": 4
        }
      ]
    },
    {
      "cell_type": "markdown",
      "metadata": {
        "id": "Ul_NBbDlSyQL"
      },
      "source": [
        "#2) Explaination of Each Column"
      ]
    },
    {
      "cell_type": "code",
      "metadata": {
        "id": "GLaZzfabU73s",
        "outputId": "04acfa59-d160-4459-be89-eb975cd7ad52",
        "colab": {
          "base_uri": "https://localhost:8080/"
        }
      },
      "source": [
        "col_detail = [\"unique ID\",\n",
        "              \"age\",\n",
        "              \"department\",\n",
        "              \"employee's location\",\n",
        "              \"employee's education status\",\n",
        "              \"mode of recruitment\",\n",
        "              \"1 to 5. The job level of the employee. 1 being the least and 5 being the hightest position\",\n",
        "              \"1 to 5. The previous year rating of the employee. 1 begin the least and 5 being the highest position\",\n",
        "              \"Has the employee ever went to an onsite location? 0 means no, 1 means yes\",\n",
        "              \"Number of awards\",\n",
        "              \"Is the employee certified?\",\n",
        "              \"Net salary\",\n",
        "              \"Is the employee satisfied with his job?\"]\n",
        "\n",
        "descr = []\n",
        "j = 0\n",
        "for name in satis.columns:\n",
        "  descr.append(\n",
        "      [\n",
        "       name,\n",
        "       satis[name].dtypes,\n",
        "       satis[name].isnull().sum(),\n",
        "       round(satis[name].isnull().sum()/len(satis)*100, 2),\n",
        "       satis[name].nunique(),\n",
        "       satis[name].unique(),\n",
        "       col_detail[j]\n",
        "       ]\n",
        "       )\n",
        "  j += 1\n",
        "\n",
        "column_desc = pd.DataFrame(descr, columns = ['Column', 'Dtype', 'Null', 'Null (%)', 'nUnique', 'Unique','Description'])\n",
        "print(f\"Total column of this data set is: {len(satis.columns)} columns.\")"
      ],
      "execution_count": 5,
      "outputs": [
        {
          "output_type": "stream",
          "text": [
            "Total column of this data set is: 13 columns.\n"
          ],
          "name": "stdout"
        }
      ]
    },
    {
      "cell_type": "code",
      "metadata": {
        "id": "by69Tz6XmusC",
        "outputId": "ec711a34-8bd1-4cbc-bdf2-15be681e35f3",
        "colab": {
          "base_uri": "https://localhost:8080/",
          "height": 537
        }
      },
      "source": [
        "column_desc\n",
        "# there are no nulls, so we move ahead to Outliers check."
      ],
      "execution_count": 6,
      "outputs": [
        {
          "output_type": "execute_result",
          "data": {
            "text/html": [
              "<div>\n",
              "<style scoped>\n",
              "    .dataframe tbody tr th:only-of-type {\n",
              "        vertical-align: middle;\n",
              "    }\n",
              "\n",
              "    .dataframe tbody tr th {\n",
              "        vertical-align: top;\n",
              "    }\n",
              "\n",
              "    .dataframe thead th {\n",
              "        text-align: right;\n",
              "    }\n",
              "</style>\n",
              "<table border=\"1\" class=\"dataframe\">\n",
              "  <thead>\n",
              "    <tr style=\"text-align: right;\">\n",
              "      <th></th>\n",
              "      <th>Column</th>\n",
              "      <th>Dtype</th>\n",
              "      <th>Null</th>\n",
              "      <th>Null (%)</th>\n",
              "      <th>nUnique</th>\n",
              "      <th>Unique</th>\n",
              "      <th>Description</th>\n",
              "    </tr>\n",
              "  </thead>\n",
              "  <tbody>\n",
              "    <tr>\n",
              "      <th>0</th>\n",
              "      <td>emp_id</td>\n",
              "      <td>object</td>\n",
              "      <td>0</td>\n",
              "      <td>0.0</td>\n",
              "      <td>499</td>\n",
              "      <td>[HR8270, TECH1860, TECH6390, SAL6191, HR6734, ...</td>\n",
              "      <td>unique ID</td>\n",
              "    </tr>\n",
              "    <tr>\n",
              "      <th>1</th>\n",
              "      <td>age</td>\n",
              "      <td>int64</td>\n",
              "      <td>0</td>\n",
              "      <td>0.0</td>\n",
              "      <td>32</td>\n",
              "      <td>[28, 50, 43, 44, 33, 40, 26, 25, 35, 45, 31, 4...</td>\n",
              "      <td>age</td>\n",
              "    </tr>\n",
              "    <tr>\n",
              "      <th>2</th>\n",
              "      <td>Dept</td>\n",
              "      <td>object</td>\n",
              "      <td>0</td>\n",
              "      <td>0.0</td>\n",
              "      <td>5</td>\n",
              "      <td>[HR, Technology, Sales, Purchasing, Marketing]</td>\n",
              "      <td>department</td>\n",
              "    </tr>\n",
              "    <tr>\n",
              "      <th>3</th>\n",
              "      <td>location</td>\n",
              "      <td>object</td>\n",
              "      <td>0</td>\n",
              "      <td>0.0</td>\n",
              "      <td>2</td>\n",
              "      <td>[Suburb, City]</td>\n",
              "      <td>employee's location</td>\n",
              "    </tr>\n",
              "    <tr>\n",
              "      <th>4</th>\n",
              "      <td>education</td>\n",
              "      <td>object</td>\n",
              "      <td>0</td>\n",
              "      <td>0.0</td>\n",
              "      <td>2</td>\n",
              "      <td>[PG, UG]</td>\n",
              "      <td>employee's education status</td>\n",
              "    </tr>\n",
              "    <tr>\n",
              "      <th>5</th>\n",
              "      <td>recruitment_type</td>\n",
              "      <td>object</td>\n",
              "      <td>0</td>\n",
              "      <td>0.0</td>\n",
              "      <td>4</td>\n",
              "      <td>[Referral, Walk-in, On-Campus, Recruitment Age...</td>\n",
              "      <td>mode of recruitment</td>\n",
              "    </tr>\n",
              "    <tr>\n",
              "      <th>6</th>\n",
              "      <td>job_level</td>\n",
              "      <td>int64</td>\n",
              "      <td>0</td>\n",
              "      <td>0.0</td>\n",
              "      <td>5</td>\n",
              "      <td>[5, 3, 4, 2, 1]</td>\n",
              "      <td>1 to 5. The job level of the employee. 1 being...</td>\n",
              "    </tr>\n",
              "    <tr>\n",
              "      <th>7</th>\n",
              "      <td>rating</td>\n",
              "      <td>int64</td>\n",
              "      <td>0</td>\n",
              "      <td>0.0</td>\n",
              "      <td>5</td>\n",
              "      <td>[2, 5, 1, 3, 4]</td>\n",
              "      <td>1 to 5. The previous year rating of the employ...</td>\n",
              "    </tr>\n",
              "    <tr>\n",
              "      <th>8</th>\n",
              "      <td>onsite</td>\n",
              "      <td>int64</td>\n",
              "      <td>0</td>\n",
              "      <td>0.0</td>\n",
              "      <td>2</td>\n",
              "      <td>[0, 1]</td>\n",
              "      <td>Has the employee ever went to an onsite locati...</td>\n",
              "    </tr>\n",
              "    <tr>\n",
              "      <th>9</th>\n",
              "      <td>awards</td>\n",
              "      <td>int64</td>\n",
              "      <td>0</td>\n",
              "      <td>0.0</td>\n",
              "      <td>10</td>\n",
              "      <td>[1, 2, 0, 5, 7, 4, 9, 6, 8, 3]</td>\n",
              "      <td>Number of awards</td>\n",
              "    </tr>\n",
              "    <tr>\n",
              "      <th>10</th>\n",
              "      <td>certifications</td>\n",
              "      <td>int64</td>\n",
              "      <td>0</td>\n",
              "      <td>0.0</td>\n",
              "      <td>2</td>\n",
              "      <td>[0, 1]</td>\n",
              "      <td>Is the employee certified?</td>\n",
              "    </tr>\n",
              "    <tr>\n",
              "      <th>11</th>\n",
              "      <td>salary</td>\n",
              "      <td>int64</td>\n",
              "      <td>0</td>\n",
              "      <td>0.0</td>\n",
              "      <td>5</td>\n",
              "      <td>[86750, 42419, 65715, 29805, 24076]</td>\n",
              "      <td>Net salary</td>\n",
              "    </tr>\n",
              "    <tr>\n",
              "      <th>12</th>\n",
              "      <td>satisfied</td>\n",
              "      <td>int64</td>\n",
              "      <td>0</td>\n",
              "      <td>0.0</td>\n",
              "      <td>2</td>\n",
              "      <td>[1, 0]</td>\n",
              "      <td>Is the employee satisfied with his job?</td>\n",
              "    </tr>\n",
              "  </tbody>\n",
              "</table>\n",
              "</div>"
            ],
            "text/plain": [
              "              Column  ...                                        Description\n",
              "0             emp_id  ...                                          unique ID\n",
              "1                age  ...                                                age\n",
              "2               Dept  ...                                         department\n",
              "3           location  ...                                employee's location\n",
              "4          education  ...                        employee's education status\n",
              "5   recruitment_type  ...                                mode of recruitment\n",
              "6          job_level  ...  1 to 5. The job level of the employee. 1 being...\n",
              "7             rating  ...  1 to 5. The previous year rating of the employ...\n",
              "8             onsite  ...  Has the employee ever went to an onsite locati...\n",
              "9             awards  ...                                   Number of awards\n",
              "10    certifications  ...                         Is the employee certified?\n",
              "11            salary  ...                                         Net salary\n",
              "12         satisfied  ...            Is the employee satisfied with his job?\n",
              "\n",
              "[13 rows x 7 columns]"
            ]
          },
          "metadata": {
            "tags": []
          },
          "execution_count": 6
        }
      ]
    },
    {
      "cell_type": "code",
      "metadata": {
        "id": "7rpiKu72oMNH"
      },
      "source": [
        ""
      ],
      "execution_count": 6,
      "outputs": []
    },
    {
      "cell_type": "code",
      "metadata": {
        "id": "F8JzUUbLMFNc",
        "outputId": "d2b0d826-104b-4977-db9a-a6a6c21c6785",
        "colab": {
          "base_uri": "https://localhost:8080/",
          "height": 350
        }
      },
      "source": [
        "plt.figure(figsize = (15,5))\n",
        "\n",
        "sns.countplot(satis['satisfied'], palette = 'Set2')\n",
        "plt.title(\"Is Employee Satisfied?\")\n",
        "\n",
        "plt.style.use('seaborn-whitegrid')\n",
        "plt.tight_layout()\n",
        "plt.show()\n",
        "\n",
        "# 52.6% employees are satisfied and the rest 47.4% are not."
      ],
      "execution_count": 7,
      "outputs": [
        {
          "output_type": "display_data",
          "data": {
            "image/png": "[encoded data removed]",
            "text/plain": [
              "<Figure size 1080x360 with 1 Axes>"
            ]
          },
          "metadata": {
            "tags": [],
            "needs_background": "light"
          }
        }
      ]
    },
    {
      "cell_type": "code",
      "metadata": {
        "id": "i5JTupZZMUZA",
        "outputId": "50fbee96-262c-4629-ef52-258aec6dd3be",
        "colab": {
          "base_uri": "https://localhost:8080/",
          "height": 111
        }
      },
      "source": [
        "satis.stb.freq(['satisfied'], cum_cols = False)"
      ],
      "execution_count": 8,
      "outputs": [
        {
          "output_type": "execute_result",
          "data": {
            "text/html": [
              "<div>\n",
              "<style scoped>\n",
              "    .dataframe tbody tr th:only-of-type {\n",
              "        vertical-align: middle;\n",
              "    }\n",
              "\n",
              "    .dataframe tbody tr th {\n",
              "        vertical-align: top;\n",
              "    }\n",
              "\n",
              "    .dataframe thead th {\n",
              "        text-align: right;\n",
              "    }\n",
              "</style>\n",
              "<table border=\"1\" class=\"dataframe\">\n",
              "  <thead>\n",
              "    <tr style=\"text-align: right;\">\n",
              "      <th></th>\n",
              "      <th>satisfied</th>\n",
              "      <th>count</th>\n",
              "      <th>percent</th>\n",
              "    </tr>\n",
              "  </thead>\n",
              "  <tbody>\n",
              "    <tr>\n",
              "      <th>0</th>\n",
              "      <td>1</td>\n",
              "      <td>263</td>\n",
              "      <td>52.6</td>\n",
              "    </tr>\n",
              "    <tr>\n",
              "      <th>1</th>\n",
              "      <td>0</td>\n",
              "      <td>237</td>\n",
              "      <td>47.4</td>\n",
              "    </tr>\n",
              "  </tbody>\n",
              "</table>\n",
              "</div>"
            ],
            "text/plain": [
              "   satisfied  count  percent\n",
              "0          1    263     52.6\n",
              "1          0    237     47.4"
            ]
          },
          "metadata": {
            "tags": []
          },
          "execution_count": 8
        }
      ]
    },
    {
      "cell_type": "code",
      "metadata": {
        "id": "7kP0cE_CoMJH"
      },
      "source": [
        ""
      ],
      "execution_count": 8,
      "outputs": []
    },
    {
      "cell_type": "markdown",
      "metadata": {
        "id": "WXIV7MP1S1vr"
      },
      "source": [
        "# 3) Handling Missing Value"
      ]
    },
    {
      "cell_type": "code",
      "metadata": {
        "id": "SshWA8nSTIbl"
      },
      "source": [
        ""
      ],
      "execution_count": 8,
      "outputs": []
    },
    {
      "cell_type": "markdown",
      "metadata": {
        "id": "2tA0oTRnTJMZ"
      },
      "source": [
        "# 4) Datetime Dtype"
      ]
    },
    {
      "cell_type": "code",
      "metadata": {
        "id": "6NJISjSoTKUu",
        "outputId": "d97a6dcc-51d9-48a9-cfac-065e38aa7f95",
        "colab": {
          "base_uri": "https://localhost:8080/",
          "height": 241
        }
      },
      "source": [
        "satis.head()"
      ],
      "execution_count": 9,
      "outputs": [
        {
          "output_type": "execute_result",
          "data": {
            "text/html": [
              "<div>\n",
              "<style scoped>\n",
              "    .dataframe tbody tr th:only-of-type {\n",
              "        vertical-align: middle;\n",
              "    }\n",
              "\n",
              "    .dataframe tbody tr th {\n",
              "        vertical-align: top;\n",
              "    }\n",
              "\n",
              "    .dataframe thead th {\n",
              "        text-align: right;\n",
              "    }\n",
              "</style>\n",
              "<table border=\"1\" class=\"dataframe\">\n",
              "  <thead>\n",
              "    <tr style=\"text-align: right;\">\n",
              "      <th></th>\n",
              "      <th>emp_id</th>\n",
              "      <th>age</th>\n",
              "      <th>Dept</th>\n",
              "      <th>location</th>\n",
              "      <th>education</th>\n",
              "      <th>recruitment_type</th>\n",
              "      <th>job_level</th>\n",
              "      <th>rating</th>\n",
              "      <th>onsite</th>\n",
              "      <th>awards</th>\n",
              "      <th>certifications</th>\n",
              "      <th>salary</th>\n",
              "      <th>satisfied</th>\n",
              "    </tr>\n",
              "  </thead>\n",
              "  <tbody>\n",
              "    <tr>\n",
              "      <th>0</th>\n",
              "      <td>HR8270</td>\n",
              "      <td>28</td>\n",
              "      <td>HR</td>\n",
              "      <td>Suburb</td>\n",
              "      <td>PG</td>\n",
              "      <td>Referral</td>\n",
              "      <td>5</td>\n",
              "      <td>2</td>\n",
              "      <td>0</td>\n",
              "      <td>1</td>\n",
              "      <td>0</td>\n",
              "      <td>86750</td>\n",
              "      <td>1</td>\n",
              "    </tr>\n",
              "    <tr>\n",
              "      <th>1</th>\n",
              "      <td>TECH1860</td>\n",
              "      <td>50</td>\n",
              "      <td>Technology</td>\n",
              "      <td>Suburb</td>\n",
              "      <td>PG</td>\n",
              "      <td>Walk-in</td>\n",
              "      <td>3</td>\n",
              "      <td>5</td>\n",
              "      <td>1</td>\n",
              "      <td>2</td>\n",
              "      <td>1</td>\n",
              "      <td>42419</td>\n",
              "      <td>0</td>\n",
              "    </tr>\n",
              "    <tr>\n",
              "      <th>2</th>\n",
              "      <td>TECH6390</td>\n",
              "      <td>43</td>\n",
              "      <td>Technology</td>\n",
              "      <td>Suburb</td>\n",
              "      <td>UG</td>\n",
              "      <td>Referral</td>\n",
              "      <td>4</td>\n",
              "      <td>1</td>\n",
              "      <td>0</td>\n",
              "      <td>2</td>\n",
              "      <td>0</td>\n",
              "      <td>65715</td>\n",
              "      <td>0</td>\n",
              "    </tr>\n",
              "    <tr>\n",
              "      <th>3</th>\n",
              "      <td>SAL6191</td>\n",
              "      <td>44</td>\n",
              "      <td>Sales</td>\n",
              "      <td>City</td>\n",
              "      <td>PG</td>\n",
              "      <td>On-Campus</td>\n",
              "      <td>2</td>\n",
              "      <td>3</td>\n",
              "      <td>1</td>\n",
              "      <td>0</td>\n",
              "      <td>0</td>\n",
              "      <td>29805</td>\n",
              "      <td>1</td>\n",
              "    </tr>\n",
              "    <tr>\n",
              "      <th>4</th>\n",
              "      <td>HR6734</td>\n",
              "      <td>33</td>\n",
              "      <td>HR</td>\n",
              "      <td>City</td>\n",
              "      <td>UG</td>\n",
              "      <td>Recruitment Agency</td>\n",
              "      <td>2</td>\n",
              "      <td>1</td>\n",
              "      <td>0</td>\n",
              "      <td>5</td>\n",
              "      <td>0</td>\n",
              "      <td>29805</td>\n",
              "      <td>1</td>\n",
              "    </tr>\n",
              "  </tbody>\n",
              "</table>\n",
              "</div>"
            ],
            "text/plain": [
              "     emp_id  age        Dept  ... certifications salary satisfied\n",
              "0    HR8270   28          HR  ...              0  86750         1\n",
              "1  TECH1860   50  Technology  ...              1  42419         0\n",
              "2  TECH6390   43  Technology  ...              0  65715         0\n",
              "3   SAL6191   44       Sales  ...              0  29805         1\n",
              "4    HR6734   33          HR  ...              0  29805         1\n",
              "\n",
              "[5 rows x 13 columns]"
            ]
          },
          "metadata": {
            "tags": []
          },
          "execution_count": 9
        }
      ]
    },
    {
      "cell_type": "markdown",
      "metadata": {
        "id": "bSG-tCh6TKyY"
      },
      "source": [
        "#5) Outliers"
      ]
    },
    {
      "cell_type": "code",
      "metadata": {
        "id": "diinHsXzTMgF",
        "outputId": "4fd79faf-80f0-4472-e07b-8a0c75c10e96",
        "colab": {
          "base_uri": "https://localhost:8080/",
          "height": 297
        }
      },
      "source": [
        "satis.describe().T\n",
        "\n",
        "# The average of each column is:\n",
        "    # age : 38 years old\n",
        "    # job_level = 3 of 5\n",
        "    # rating = 3 of 5\n",
        "    # onsite = tend to not going to on site\n",
        "    # awards = about 4-5 awards received\n",
        "    # certifications = tend to not certified\n",
        "    # salary = $50,416\n",
        "    # satisfied = tend to satisfied"
      ],
      "execution_count": 10,
      "outputs": [
        {
          "output_type": "execute_result",
          "data": {
            "text/html": [
              "<div>\n",
              "<style scoped>\n",
              "    .dataframe tbody tr th:only-of-type {\n",
              "        vertical-align: middle;\n",
              "    }\n",
              "\n",
              "    .dataframe tbody tr th {\n",
              "        vertical-align: top;\n",
              "    }\n",
              "\n",
              "    .dataframe thead th {\n",
              "        text-align: right;\n",
              "    }\n",
              "</style>\n",
              "<table border=\"1\" class=\"dataframe\">\n",
              "  <thead>\n",
              "    <tr style=\"text-align: right;\">\n",
              "      <th></th>\n",
              "      <th>count</th>\n",
              "      <th>mean</th>\n",
              "      <th>std</th>\n",
              "      <th>min</th>\n",
              "      <th>25%</th>\n",
              "      <th>50%</th>\n",
              "      <th>75%</th>\n",
              "      <th>max</th>\n",
              "    </tr>\n",
              "  </thead>\n",
              "  <tbody>\n",
              "    <tr>\n",
              "      <th>age</th>\n",
              "      <td>500.0</td>\n",
              "      <td>38.610</td>\n",
              "      <td>9.438648</td>\n",
              "      <td>23.0</td>\n",
              "      <td>30.0</td>\n",
              "      <td>39.0</td>\n",
              "      <td>47.0</td>\n",
              "      <td>54.0</td>\n",
              "    </tr>\n",
              "    <tr>\n",
              "      <th>job_level</th>\n",
              "      <td>500.0</td>\n",
              "      <td>3.032</td>\n",
              "      <td>1.423738</td>\n",
              "      <td>1.0</td>\n",
              "      <td>2.0</td>\n",
              "      <td>3.0</td>\n",
              "      <td>4.0</td>\n",
              "      <td>5.0</td>\n",
              "    </tr>\n",
              "    <tr>\n",
              "      <th>rating</th>\n",
              "      <td>500.0</td>\n",
              "      <td>3.072</td>\n",
              "      <td>1.425089</td>\n",
              "      <td>1.0</td>\n",
              "      <td>2.0</td>\n",
              "      <td>3.0</td>\n",
              "      <td>4.0</td>\n",
              "      <td>5.0</td>\n",
              "    </tr>\n",
              "    <tr>\n",
              "      <th>onsite</th>\n",
              "      <td>500.0</td>\n",
              "      <td>0.466</td>\n",
              "      <td>0.499342</td>\n",
              "      <td>0.0</td>\n",
              "      <td>0.0</td>\n",
              "      <td>0.0</td>\n",
              "      <td>1.0</td>\n",
              "      <td>1.0</td>\n",
              "    </tr>\n",
              "    <tr>\n",
              "      <th>awards</th>\n",
              "      <td>500.0</td>\n",
              "      <td>4.538</td>\n",
              "      <td>2.853215</td>\n",
              "      <td>0.0</td>\n",
              "      <td>2.0</td>\n",
              "      <td>5.0</td>\n",
              "      <td>7.0</td>\n",
              "      <td>9.0</td>\n",
              "    </tr>\n",
              "    <tr>\n",
              "      <th>certifications</th>\n",
              "      <td>500.0</td>\n",
              "      <td>0.496</td>\n",
              "      <td>0.500485</td>\n",
              "      <td>0.0</td>\n",
              "      <td>0.0</td>\n",
              "      <td>0.0</td>\n",
              "      <td>1.0</td>\n",
              "      <td>1.0</td>\n",
              "    </tr>\n",
              "    <tr>\n",
              "      <th>salary</th>\n",
              "      <td>500.0</td>\n",
              "      <td>50416.056</td>\n",
              "      <td>23671.392661</td>\n",
              "      <td>24076.0</td>\n",
              "      <td>29805.0</td>\n",
              "      <td>42419.0</td>\n",
              "      <td>65715.0</td>\n",
              "      <td>86750.0</td>\n",
              "    </tr>\n",
              "    <tr>\n",
              "      <th>satisfied</th>\n",
              "      <td>500.0</td>\n",
              "      <td>0.526</td>\n",
              "      <td>0.499824</td>\n",
              "      <td>0.0</td>\n",
              "      <td>0.0</td>\n",
              "      <td>1.0</td>\n",
              "      <td>1.0</td>\n",
              "      <td>1.0</td>\n",
              "    </tr>\n",
              "  </tbody>\n",
              "</table>\n",
              "</div>"
            ],
            "text/plain": [
              "                count       mean           std  ...      50%      75%      max\n",
              "age             500.0     38.610      9.438648  ...     39.0     47.0     54.0\n",
              "job_level       500.0      3.032      1.423738  ...      3.0      4.0      5.0\n",
              "rating          500.0      3.072      1.425089  ...      3.0      4.0      5.0\n",
              "onsite          500.0      0.466      0.499342  ...      0.0      1.0      1.0\n",
              "awards          500.0      4.538      2.853215  ...      5.0      7.0      9.0\n",
              "certifications  500.0      0.496      0.500485  ...      0.0      1.0      1.0\n",
              "salary          500.0  50416.056  23671.392661  ...  42419.0  65715.0  86750.0\n",
              "satisfied       500.0      0.526      0.499824  ...      1.0      1.0      1.0\n",
              "\n",
              "[8 rows x 8 columns]"
            ]
          },
          "metadata": {
            "tags": []
          },
          "execution_count": 10
        }
      ]
    },
    {
      "cell_type": "code",
      "metadata": {
        "id": "Na6k0RM_oAIZ",
        "outputId": "cabec163-8e37-421f-e1fc-aa867acebe24",
        "colab": {
          "base_uri": "https://localhost:8080/",
          "height": 1000
        }
      },
      "source": [
        "plt.figure(figsize = (20,20))\n",
        "\n",
        "n = 1\n",
        "for name in satis.describe().columns:\n",
        "  plt.subplot(2,4,n)\n",
        "  sns.boxplot(satis[name])\n",
        "  n += 1\n",
        "\n",
        "plt.style.use('seaborn-whitegrid')\n",
        "plt.show()\n",
        "\n",
        "# there are no outliers, so we move ahead to Exploratory Data Analysis"
      ],
      "execution_count": 11,
      "outputs": [
        {
          "output_type": "display_data",
          "data": {
            "image/png": "[encoded data removed]",
            "text/plain": [
              "<Figure size 1440x1440 with 8 Axes>"
            ]
          },
          "metadata": {
            "tags": []
          }
        }
      ]
    },
    {
      "cell_type": "markdown",
      "metadata": {
        "id": "Gv3w2GkQTNNY"
      },
      "source": [
        "#6) Exploratory Data Analysis"
      ]
    },
    {
      "cell_type": "code",
      "metadata": {
        "id": "I4twNyHYpKPu",
        "outputId": "9f911af0-2e2f-46e5-c43f-9d86db2e51c7",
        "colab": {
          "base_uri": "https://localhost:8080/",
          "height": 241
        }
      },
      "source": [
        "satis.head()"
      ],
      "execution_count": 12,
      "outputs": [
        {
          "output_type": "execute_result",
          "data": {
            "text/html": [
              "<div>\n",
              "<style scoped>\n",
              "    .dataframe tbody tr th:only-of-type {\n",
              "        vertical-align: middle;\n",
              "    }\n",
              "\n",
              "    .dataframe tbody tr th {\n",
              "        vertical-align: top;\n",
              "    }\n",
              "\n",
              "    .dataframe thead th {\n",
              "        text-align: right;\n",
              "    }\n",
              "</style>\n",
              "<table border=\"1\" class=\"dataframe\">\n",
              "  <thead>\n",
              "    <tr style=\"text-align: right;\">\n",
              "      <th></th>\n",
              "      <th>emp_id</th>\n",
              "      <th>age</th>\n",
              "      <th>Dept</th>\n",
              "      <th>location</th>\n",
              "      <th>education</th>\n",
              "      <th>recruitment_type</th>\n",
              "      <th>job_level</th>\n",
              "      <th>rating</th>\n",
              "      <th>onsite</th>\n",
              "      <th>awards</th>\n",
              "      <th>certifications</th>\n",
              "      <th>salary</th>\n",
              "      <th>satisfied</th>\n",
              "    </tr>\n",
              "  </thead>\n",
              "  <tbody>\n",
              "    <tr>\n",
              "      <th>0</th>\n",
              "      <td>HR8270</td>\n",
              "      <td>28</td>\n",
              "      <td>HR</td>\n",
              "      <td>Suburb</td>\n",
              "      <td>PG</td>\n",
              "      <td>Referral</td>\n",
              "      <td>5</td>\n",
              "      <td>2</td>\n",
              "      <td>0</td>\n",
              "      <td>1</td>\n",
              "      <td>0</td>\n",
              "      <td>86750</td>\n",
              "      <td>1</td>\n",
              "    </tr>\n",
              "    <tr>\n",
              "      <th>1</th>\n",
              "      <td>TECH1860</td>\n",
              "      <td>50</td>\n",
              "      <td>Technology</td>\n",
              "      <td>Suburb</td>\n",
              "      <td>PG</td>\n",
              "      <td>Walk-in</td>\n",
              "      <td>3</td>\n",
              "      <td>5</td>\n",
              "      <td>1</td>\n",
              "      <td>2</td>\n",
              "      <td>1</td>\n",
              "      <td>42419</td>\n",
              "      <td>0</td>\n",
              "    </tr>\n",
              "    <tr>\n",
              "      <th>2</th>\n",
              "      <td>TECH6390</td>\n",
              "      <td>43</td>\n",
              "      <td>Technology</td>\n",
              "      <td>Suburb</td>\n",
              "      <td>UG</td>\n",
              "      <td>Referral</td>\n",
              "      <td>4</td>\n",
              "      <td>1</td>\n",
              "      <td>0</td>\n",
              "      <td>2</td>\n",
              "      <td>0</td>\n",
              "      <td>65715</td>\n",
              "      <td>0</td>\n",
              "    </tr>\n",
              "    <tr>\n",
              "      <th>3</th>\n",
              "      <td>SAL6191</td>\n",
              "      <td>44</td>\n",
              "      <td>Sales</td>\n",
              "      <td>City</td>\n",
              "      <td>PG</td>\n",
              "      <td>On-Campus</td>\n",
              "      <td>2</td>\n",
              "      <td>3</td>\n",
              "      <td>1</td>\n",
              "      <td>0</td>\n",
              "      <td>0</td>\n",
              "      <td>29805</td>\n",
              "      <td>1</td>\n",
              "    </tr>\n",
              "    <tr>\n",
              "      <th>4</th>\n",
              "      <td>HR6734</td>\n",
              "      <td>33</td>\n",
              "      <td>HR</td>\n",
              "      <td>City</td>\n",
              "      <td>UG</td>\n",
              "      <td>Recruitment Agency</td>\n",
              "      <td>2</td>\n",
              "      <td>1</td>\n",
              "      <td>0</td>\n",
              "      <td>5</td>\n",
              "      <td>0</td>\n",
              "      <td>29805</td>\n",
              "      <td>1</td>\n",
              "    </tr>\n",
              "  </tbody>\n",
              "</table>\n",
              "</div>"
            ],
            "text/plain": [
              "     emp_id  age        Dept  ... certifications salary satisfied\n",
              "0    HR8270   28          HR  ...              0  86750         1\n",
              "1  TECH1860   50  Technology  ...              1  42419         0\n",
              "2  TECH6390   43  Technology  ...              0  65715         0\n",
              "3   SAL6191   44       Sales  ...              0  29805         1\n",
              "4    HR6734   33          HR  ...              0  29805         1\n",
              "\n",
              "[5 rows x 13 columns]"
            ]
          },
          "metadata": {
            "tags": []
          },
          "execution_count": 12
        }
      ]
    },
    {
      "cell_type": "code",
      "metadata": {
        "id": "qnQO8C54qb5n",
        "outputId": "2b414aa6-5418-49a7-c821-b4fea03804b4",
        "colab": {
          "base_uri": "https://localhost:8080/",
          "height": 350
        }
      },
      "source": [
        "plt.figure(figsize = (15,5))\n",
        "\n",
        "sns.distplot(satis['age'])\n",
        "plt.title(\"Employee's Age\")\n",
        "\n",
        "plt.style.use('seaborn-whitegrid')\n",
        "plt.tight_layout()\n",
        "plt.show()"
      ],
      "execution_count": 13,
      "outputs": [
        {
          "output_type": "display_data",
          "data": {
            "image/png": "[encoded data removed]",
            "text/plain": [
              "<Figure size 1080x360 with 1 Axes>"
            ]
          },
          "metadata": {
            "tags": []
          }
        }
      ]
    },
    {
      "cell_type": "code",
      "metadata": {
        "id": "v3sI5ppLTPAU",
        "outputId": "1ca0bd5a-04ef-40cf-e65f-698ce53a284d",
        "colab": {
          "base_uri": "https://localhost:8080/",
          "height": 350
        }
      },
      "source": [
        "plt.figure(figsize = (15,5))\n",
        "\n",
        "sns.countplot(satis['age'], palette = 'Set2_r')\n",
        "plt.title(\"Employee's Age\")\n",
        "\n",
        "plt.style.use('seaborn-whitegrid')\n",
        "plt.tight_layout()\n",
        "plt.show()\n",
        "\n",
        "# Office are dominated by employee who 39, 50, 53, 35, and 54 years old."
      ],
      "execution_count": 14,
      "outputs": [
        {
          "output_type": "display_data",
          "data": {
            "image/png": "[encoded data removed]",
            "text/plain": [
              "<Figure size 1080x360 with 1 Axes>"
            ]
          },
          "metadata": {
            "tags": []
          }
        }
      ]
    },
    {
      "cell_type": "code",
      "metadata": {
        "id": "oIEionQfqDH4",
        "outputId": "b9f6d99f-499c-49eb-e765-b6cd9d5cb66f",
        "colab": {
          "base_uri": "https://localhost:8080/",
          "height": 1000
        }
      },
      "source": [
        "satis.stb.freq(['age'], cum_cols = False)"
      ],
      "execution_count": 15,
      "outputs": [
        {
          "output_type": "execute_result",
          "data": {
            "text/html": [
              "<div>\n",
              "<style scoped>\n",
              "    .dataframe tbody tr th:only-of-type {\n",
              "        vertical-align: middle;\n",
              "    }\n",
              "\n",
              "    .dataframe tbody tr th {\n",
              "        vertical-align: top;\n",
              "    }\n",
              "\n",
              "    .dataframe thead th {\n",
              "        text-align: right;\n",
              "    }\n",
              "</style>\n",
              "<table border=\"1\" class=\"dataframe\">\n",
              "  <thead>\n",
              "    <tr style=\"text-align: right;\">\n",
              "      <th></th>\n",
              "      <th>age</th>\n",
              "      <th>count</th>\n",
              "      <th>percent</th>\n",
              "    </tr>\n",
              "  </thead>\n",
              "  <tbody>\n",
              "    <tr>\n",
              "      <th>0</th>\n",
              "      <td>39</td>\n",
              "      <td>22</td>\n",
              "      <td>4.4</td>\n",
              "    </tr>\n",
              "    <tr>\n",
              "      <th>1</th>\n",
              "      <td>50</td>\n",
              "      <td>21</td>\n",
              "      <td>4.2</td>\n",
              "    </tr>\n",
              "    <tr>\n",
              "      <th>2</th>\n",
              "      <td>53</td>\n",
              "      <td>20</td>\n",
              "      <td>4.0</td>\n",
              "    </tr>\n",
              "    <tr>\n",
              "      <th>3</th>\n",
              "      <td>35</td>\n",
              "      <td>20</td>\n",
              "      <td>4.0</td>\n",
              "    </tr>\n",
              "    <tr>\n",
              "      <th>4</th>\n",
              "      <td>54</td>\n",
              "      <td>19</td>\n",
              "      <td>3.8</td>\n",
              "    </tr>\n",
              "    <tr>\n",
              "      <th>5</th>\n",
              "      <td>41</td>\n",
              "      <td>19</td>\n",
              "      <td>3.8</td>\n",
              "    </tr>\n",
              "    <tr>\n",
              "      <th>6</th>\n",
              "      <td>26</td>\n",
              "      <td>19</td>\n",
              "      <td>3.8</td>\n",
              "    </tr>\n",
              "    <tr>\n",
              "      <th>7</th>\n",
              "      <td>25</td>\n",
              "      <td>19</td>\n",
              "      <td>3.8</td>\n",
              "    </tr>\n",
              "    <tr>\n",
              "      <th>8</th>\n",
              "      <td>24</td>\n",
              "      <td>19</td>\n",
              "      <td>3.8</td>\n",
              "    </tr>\n",
              "    <tr>\n",
              "      <th>9</th>\n",
              "      <td>44</td>\n",
              "      <td>18</td>\n",
              "      <td>3.6</td>\n",
              "    </tr>\n",
              "    <tr>\n",
              "      <th>10</th>\n",
              "      <td>27</td>\n",
              "      <td>18</td>\n",
              "      <td>3.6</td>\n",
              "    </tr>\n",
              "    <tr>\n",
              "      <th>11</th>\n",
              "      <td>46</td>\n",
              "      <td>17</td>\n",
              "      <td>3.4</td>\n",
              "    </tr>\n",
              "    <tr>\n",
              "      <th>12</th>\n",
              "      <td>33</td>\n",
              "      <td>17</td>\n",
              "      <td>3.4</td>\n",
              "    </tr>\n",
              "    <tr>\n",
              "      <th>13</th>\n",
              "      <td>30</td>\n",
              "      <td>17</td>\n",
              "      <td>3.4</td>\n",
              "    </tr>\n",
              "    <tr>\n",
              "      <th>14</th>\n",
              "      <td>49</td>\n",
              "      <td>16</td>\n",
              "      <td>3.2</td>\n",
              "    </tr>\n",
              "    <tr>\n",
              "      <th>15</th>\n",
              "      <td>45</td>\n",
              "      <td>16</td>\n",
              "      <td>3.2</td>\n",
              "    </tr>\n",
              "    <tr>\n",
              "      <th>16</th>\n",
              "      <td>43</td>\n",
              "      <td>16</td>\n",
              "      <td>3.2</td>\n",
              "    </tr>\n",
              "    <tr>\n",
              "      <th>17</th>\n",
              "      <td>40</td>\n",
              "      <td>16</td>\n",
              "      <td>3.2</td>\n",
              "    </tr>\n",
              "    <tr>\n",
              "      <th>18</th>\n",
              "      <td>37</td>\n",
              "      <td>16</td>\n",
              "      <td>3.2</td>\n",
              "    </tr>\n",
              "    <tr>\n",
              "      <th>19</th>\n",
              "      <td>52</td>\n",
              "      <td>15</td>\n",
              "      <td>3.0</td>\n",
              "    </tr>\n",
              "    <tr>\n",
              "      <th>20</th>\n",
              "      <td>28</td>\n",
              "      <td>15</td>\n",
              "      <td>3.0</td>\n",
              "    </tr>\n",
              "    <tr>\n",
              "      <th>21</th>\n",
              "      <td>34</td>\n",
              "      <td>14</td>\n",
              "      <td>2.8</td>\n",
              "    </tr>\n",
              "    <tr>\n",
              "      <th>22</th>\n",
              "      <td>48</td>\n",
              "      <td>13</td>\n",
              "      <td>2.6</td>\n",
              "    </tr>\n",
              "    <tr>\n",
              "      <th>23</th>\n",
              "      <td>31</td>\n",
              "      <td>13</td>\n",
              "      <td>2.6</td>\n",
              "    </tr>\n",
              "    <tr>\n",
              "      <th>24</th>\n",
              "      <td>51</td>\n",
              "      <td>12</td>\n",
              "      <td>2.4</td>\n",
              "    </tr>\n",
              "    <tr>\n",
              "      <th>25</th>\n",
              "      <td>36</td>\n",
              "      <td>12</td>\n",
              "      <td>2.4</td>\n",
              "    </tr>\n",
              "    <tr>\n",
              "      <th>26</th>\n",
              "      <td>23</td>\n",
              "      <td>12</td>\n",
              "      <td>2.4</td>\n",
              "    </tr>\n",
              "    <tr>\n",
              "      <th>27</th>\n",
              "      <td>29</td>\n",
              "      <td>11</td>\n",
              "      <td>2.2</td>\n",
              "    </tr>\n",
              "    <tr>\n",
              "      <th>28</th>\n",
              "      <td>47</td>\n",
              "      <td>10</td>\n",
              "      <td>2.0</td>\n",
              "    </tr>\n",
              "    <tr>\n",
              "      <th>29</th>\n",
              "      <td>32</td>\n",
              "      <td>10</td>\n",
              "      <td>2.0</td>\n",
              "    </tr>\n",
              "    <tr>\n",
              "      <th>30</th>\n",
              "      <td>42</td>\n",
              "      <td>9</td>\n",
              "      <td>1.8</td>\n",
              "    </tr>\n",
              "    <tr>\n",
              "      <th>31</th>\n",
              "      <td>38</td>\n",
              "      <td>9</td>\n",
              "      <td>1.8</td>\n",
              "    </tr>\n",
              "  </tbody>\n",
              "</table>\n",
              "</div>"
            ],
            "text/plain": [
              "    age  count  percent\n",
              "0    39     22      4.4\n",
              "1    50     21      4.2\n",
              "2    53     20      4.0\n",
              "3    35     20      4.0\n",
              "4    54     19      3.8\n",
              "5    41     19      3.8\n",
              "6    26     19      3.8\n",
              "7    25     19      3.8\n",
              "8    24     19      3.8\n",
              "9    44     18      3.6\n",
              "10   27     18      3.6\n",
              "11   46     17      3.4\n",
              "12   33     17      3.4\n",
              "13   30     17      3.4\n",
              "14   49     16      3.2\n",
              "15   45     16      3.2\n",
              "16   43     16      3.2\n",
              "17   40     16      3.2\n",
              "18   37     16      3.2\n",
              "19   52     15      3.0\n",
              "20   28     15      3.0\n",
              "21   34     14      2.8\n",
              "22   48     13      2.6\n",
              "23   31     13      2.6\n",
              "24   51     12      2.4\n",
              "25   36     12      2.4\n",
              "26   23     12      2.4\n",
              "27   29     11      2.2\n",
              "28   47     10      2.0\n",
              "29   32     10      2.0\n",
              "30   42      9      1.8\n",
              "31   38      9      1.8"
            ]
          },
          "metadata": {
            "tags": []
          },
          "execution_count": 15
        }
      ]
    },
    {
      "cell_type": "code",
      "metadata": {
        "id": "RAW7qaoFo1j9",
        "outputId": "6f1f5300-02d2-4532-f530-78012ac83aa0",
        "colab": {
          "base_uri": "https://localhost:8080/",
          "height": 350
        }
      },
      "source": [
        "plt.figure(figsize = (15,5))\n",
        "\n",
        "sns.countplot(satis['Dept'], palette = 'gist_earth')\n",
        "plt.title(\"Office Department\")\n",
        "\n",
        "plt.style.use('seaborn-whitegrid')\n",
        "plt.tight_layout()\n",
        "plt.show()\n",
        "\n",
        "# Here, Office Departments:\n",
        "  # Purchasing\t21.8%\n",
        "  # HR 21.2%\n",
        "  # Technology\t19.6%\n",
        "  # Marketing\t19.0%\n",
        "  # Sales\t18.4%\n",
        "\n",
        "# Departments in this office kind of balance. Still, purchasing is the most in number."
      ],
      "execution_count": 16,
      "outputs": [
        {
          "output_type": "display_data",
          "data": {
            "image/png": "[encoded data removed]",
            "text/plain": [
              "<Figure size 1080x360 with 1 Axes>"
            ]
          },
          "metadata": {
            "tags": []
          }
        }
      ]
    },
    {
      "cell_type": "code",
      "metadata": {
        "id": "_L2Aq7GFo1ox",
        "outputId": "4c9376a4-bbb4-4741-b8fb-5085786e7d64",
        "colab": {
          "base_uri": "https://localhost:8080/",
          "height": 204
        }
      },
      "source": [
        "satis.stb.freq(['Dept'], cum_cols = False)"
      ],
      "execution_count": 17,
      "outputs": [
        {
          "output_type": "execute_result",
          "data": {
            "text/html": [
              "<div>\n",
              "<style scoped>\n",
              "    .dataframe tbody tr th:only-of-type {\n",
              "        vertical-align: middle;\n",
              "    }\n",
              "\n",
              "    .dataframe tbody tr th {\n",
              "        vertical-align: top;\n",
              "    }\n",
              "\n",
              "    .dataframe thead th {\n",
              "        text-align: right;\n",
              "    }\n",
              "</style>\n",
              "<table border=\"1\" class=\"dataframe\">\n",
              "  <thead>\n",
              "    <tr style=\"text-align: right;\">\n",
              "      <th></th>\n",
              "      <th>Dept</th>\n",
              "      <th>count</th>\n",
              "      <th>percent</th>\n",
              "    </tr>\n",
              "  </thead>\n",
              "  <tbody>\n",
              "    <tr>\n",
              "      <th>0</th>\n",
              "      <td>Purchasing</td>\n",
              "      <td>109</td>\n",
              "      <td>21.8</td>\n",
              "    </tr>\n",
              "    <tr>\n",
              "      <th>1</th>\n",
              "      <td>HR</td>\n",
              "      <td>106</td>\n",
              "      <td>21.2</td>\n",
              "    </tr>\n",
              "    <tr>\n",
              "      <th>2</th>\n",
              "      <td>Technology</td>\n",
              "      <td>98</td>\n",
              "      <td>19.6</td>\n",
              "    </tr>\n",
              "    <tr>\n",
              "      <th>3</th>\n",
              "      <td>Marketing</td>\n",
              "      <td>95</td>\n",
              "      <td>19.0</td>\n",
              "    </tr>\n",
              "    <tr>\n",
              "      <th>4</th>\n",
              "      <td>Sales</td>\n",
              "      <td>92</td>\n",
              "      <td>18.4</td>\n",
              "    </tr>\n",
              "  </tbody>\n",
              "</table>\n",
              "</div>"
            ],
            "text/plain": [
              "         Dept  count  percent\n",
              "0  Purchasing    109     21.8\n",
              "1          HR    106     21.2\n",
              "2  Technology     98     19.6\n",
              "3   Marketing     95     19.0\n",
              "4       Sales     92     18.4"
            ]
          },
          "metadata": {
            "tags": []
          },
          "execution_count": 17
        }
      ]
    },
    {
      "cell_type": "code",
      "metadata": {
        "id": "Jj1LjvSjBtNr",
        "outputId": "abd8d4ac-fc13-42b9-f101-454357db72d6",
        "colab": {
          "base_uri": "https://localhost:8080/",
          "height": 350
        }
      },
      "source": [
        "plt.figure(figsize = (15,5))\n",
        "\n",
        "sns.countplot(satis['Dept'], hue = satis['satisfied'],palette = 'Set2')\n",
        "plt.title(\"Employee's Dept\")\n",
        "\n",
        "plt.style.use('seaborn-whitegrid')\n",
        "plt.tight_layout()\n",
        "plt.show()\n",
        "\n",
        "# notice that only marketing department is dominated by unsatisfied employees"
      ],
      "execution_count": 18,
      "outputs": [
        {
          "output_type": "display_data",
          "data": {
            "image/png": "[encoded data removed]",
            "text/plain": [
              "<Figure size 1080x360 with 1 Axes>"
            ]
          },
          "metadata": {
            "tags": []
          }
        }
      ]
    },
    {
      "cell_type": "code",
      "metadata": {
        "id": "GiJjyT60BtNy",
        "outputId": "4ae21c89-daa7-4123-e2f8-489e1186bdfd",
        "colab": {
          "base_uri": "https://localhost:8080/",
          "height": 142
        }
      },
      "source": [
        "(pd.crosstab(index = satis['satisfied'],\n",
        "            columns = satis['Dept'],\n",
        "            normalize = 'columns')*100).round(2)"
      ],
      "execution_count": 19,
      "outputs": [
        {
          "output_type": "execute_result",
          "data": {
            "text/html": [
              "<div>\n",
              "<style scoped>\n",
              "    .dataframe tbody tr th:only-of-type {\n",
              "        vertical-align: middle;\n",
              "    }\n",
              "\n",
              "    .dataframe tbody tr th {\n",
              "        vertical-align: top;\n",
              "    }\n",
              "\n",
              "    .dataframe thead th {\n",
              "        text-align: right;\n",
              "    }\n",
              "</style>\n",
              "<table border=\"1\" class=\"dataframe\">\n",
              "  <thead>\n",
              "    <tr style=\"text-align: right;\">\n",
              "      <th>Dept</th>\n",
              "      <th>HR</th>\n",
              "      <th>Marketing</th>\n",
              "      <th>Purchasing</th>\n",
              "      <th>Sales</th>\n",
              "      <th>Technology</th>\n",
              "    </tr>\n",
              "    <tr>\n",
              "      <th>satisfied</th>\n",
              "      <th></th>\n",
              "      <th></th>\n",
              "      <th></th>\n",
              "      <th></th>\n",
              "      <th></th>\n",
              "    </tr>\n",
              "  </thead>\n",
              "  <tbody>\n",
              "    <tr>\n",
              "      <th>0</th>\n",
              "      <td>50.0</td>\n",
              "      <td>53.68</td>\n",
              "      <td>43.12</td>\n",
              "      <td>44.57</td>\n",
              "      <td>45.92</td>\n",
              "    </tr>\n",
              "    <tr>\n",
              "      <th>1</th>\n",
              "      <td>50.0</td>\n",
              "      <td>46.32</td>\n",
              "      <td>56.88</td>\n",
              "      <td>55.43</td>\n",
              "      <td>54.08</td>\n",
              "    </tr>\n",
              "  </tbody>\n",
              "</table>\n",
              "</div>"
            ],
            "text/plain": [
              "Dept         HR  Marketing  Purchasing  Sales  Technology\n",
              "satisfied                                                \n",
              "0          50.0      53.68       43.12  44.57       45.92\n",
              "1          50.0      46.32       56.88  55.43       54.08"
            ]
          },
          "metadata": {
            "tags": []
          },
          "execution_count": 19
        }
      ]
    },
    {
      "cell_type": "code",
      "metadata": {
        "id": "ES8-F6w1rPXo",
        "outputId": "110140ca-ba4f-41fe-fdc7-eeb5a4cdb590",
        "colab": {
          "base_uri": "https://localhost:8080/",
          "height": 350
        }
      },
      "source": [
        "plt.figure(figsize = (15,5))\n",
        "\n",
        "sns.countplot(satis['location'], palette = 'gist_earth')\n",
        "plt.title(\"Employee's Location\")\n",
        "\n",
        "plt.style.use('seaborn-whitegrid')\n",
        "plt.tight_layout()\n",
        "plt.show()\n",
        "\n",
        "# 51.8% employees live in the city, while 48.2% employees live in suburb."
      ],
      "execution_count": 20,
      "outputs": [
        {
          "output_type": "display_data",
          "data": {
            "image/png": "[encoded data removed]",
            "text/plain": [
              "<Figure size 1080x360 with 1 Axes>"
            ]
          },
          "metadata": {
            "tags": []
          }
        }
      ]
    },
    {
      "cell_type": "code",
      "metadata": {
        "id": "EQTOEan1rPXv",
        "outputId": "f6d197af-0d3f-4bfa-82d5-32fdbc64f6a0",
        "colab": {
          "base_uri": "https://localhost:8080/",
          "height": 111
        }
      },
      "source": [
        "satis.stb.freq(['location'], cum_cols = False)"
      ],
      "execution_count": 21,
      "outputs": [
        {
          "output_type": "execute_result",
          "data": {
            "text/html": [
              "<div>\n",
              "<style scoped>\n",
              "    .dataframe tbody tr th:only-of-type {\n",
              "        vertical-align: middle;\n",
              "    }\n",
              "\n",
              "    .dataframe tbody tr th {\n",
              "        vertical-align: top;\n",
              "    }\n",
              "\n",
              "    .dataframe thead th {\n",
              "        text-align: right;\n",
              "    }\n",
              "</style>\n",
              "<table border=\"1\" class=\"dataframe\">\n",
              "  <thead>\n",
              "    <tr style=\"text-align: right;\">\n",
              "      <th></th>\n",
              "      <th>location</th>\n",
              "      <th>count</th>\n",
              "      <th>percent</th>\n",
              "    </tr>\n",
              "  </thead>\n",
              "  <tbody>\n",
              "    <tr>\n",
              "      <th>0</th>\n",
              "      <td>City</td>\n",
              "      <td>259</td>\n",
              "      <td>51.8</td>\n",
              "    </tr>\n",
              "    <tr>\n",
              "      <th>1</th>\n",
              "      <td>Suburb</td>\n",
              "      <td>241</td>\n",
              "      <td>48.2</td>\n",
              "    </tr>\n",
              "  </tbody>\n",
              "</table>\n",
              "</div>"
            ],
            "text/plain": [
              "  location  count  percent\n",
              "0     City    259     51.8\n",
              "1   Suburb    241     48.2"
            ]
          },
          "metadata": {
            "tags": []
          },
          "execution_count": 21
        }
      ]
    },
    {
      "cell_type": "code",
      "metadata": {
        "id": "-Y1EeFQJrkfb",
        "outputId": "456d39fe-4014-4906-8b24-5443528980b9",
        "colab": {
          "base_uri": "https://localhost:8080/",
          "height": 350
        }
      },
      "source": [
        "plt.figure(figsize = (15,5))\n",
        "\n",
        "sns.countplot(satis['education'], palette = 'gist_earth')\n",
        "plt.title(\"Employee's Education\")\n",
        "\n",
        "plt.style.use('seaborn-whitegrid')\n",
        "plt.tight_layout()\n",
        "plt.show()\n",
        "\n",
        "# 50.8% employees are postgraduate, while 40.2% employees are undergraduate\n",
        "# employees in this office are well educated."
      ],
      "execution_count": 22,
      "outputs": [
        {
          "output_type": "display_data",
          "data": {
            "image/png": "[encoded data removed]",
            "text/plain": [
              "<Figure size 1080x360 with 1 Axes>"
            ]
          },
          "metadata": {
            "tags": []
          }
        }
      ]
    },
    {
      "cell_type": "code",
      "metadata": {
        "id": "6kTHxOYHrkf2",
        "outputId": "545fd68e-dec5-4c5d-b100-c6b8082afb4d",
        "colab": {
          "base_uri": "https://localhost:8080/",
          "height": 111
        }
      },
      "source": [
        "satis.stb.freq(['education'], cum_cols = False)"
      ],
      "execution_count": 23,
      "outputs": [
        {
          "output_type": "execute_result",
          "data": {
            "text/html": [
              "<div>\n",
              "<style scoped>\n",
              "    .dataframe tbody tr th:only-of-type {\n",
              "        vertical-align: middle;\n",
              "    }\n",
              "\n",
              "    .dataframe tbody tr th {\n",
              "        vertical-align: top;\n",
              "    }\n",
              "\n",
              "    .dataframe thead th {\n",
              "        text-align: right;\n",
              "    }\n",
              "</style>\n",
              "<table border=\"1\" class=\"dataframe\">\n",
              "  <thead>\n",
              "    <tr style=\"text-align: right;\">\n",
              "      <th></th>\n",
              "      <th>education</th>\n",
              "      <th>count</th>\n",
              "      <th>percent</th>\n",
              "    </tr>\n",
              "  </thead>\n",
              "  <tbody>\n",
              "    <tr>\n",
              "      <th>0</th>\n",
              "      <td>PG</td>\n",
              "      <td>254</td>\n",
              "      <td>50.8</td>\n",
              "    </tr>\n",
              "    <tr>\n",
              "      <th>1</th>\n",
              "      <td>UG</td>\n",
              "      <td>246</td>\n",
              "      <td>49.2</td>\n",
              "    </tr>\n",
              "  </tbody>\n",
              "</table>\n",
              "</div>"
            ],
            "text/plain": [
              "  education  count  percent\n",
              "0        PG    254     50.8\n",
              "1        UG    246     49.2"
            ]
          },
          "metadata": {
            "tags": []
          },
          "execution_count": 23
        }
      ]
    },
    {
      "cell_type": "code",
      "metadata": {
        "id": "RtX7yX9JCTIh",
        "outputId": "42334370-458c-4332-d593-6f1d69cdd016",
        "colab": {
          "base_uri": "https://localhost:8080/",
          "height": 350
        }
      },
      "source": [
        "plt.figure(figsize = (15,5))\n",
        "\n",
        "sns.countplot(satis['education'], hue = satis['satisfied'],palette = 'Set2')\n",
        "plt.title(\"Employee's Education\")\n",
        "\n",
        "plt.style.use('seaborn-whitegrid')\n",
        "plt.tight_layout()\n",
        "plt.show()\n",
        "\n",
        "# Either PG or UG education level, they are still dominated by satisfied employees"
      ],
      "execution_count": 36,
      "outputs": [
        {
          "output_type": "display_data",
          "data": {
            "image/png": "[encoded data removed]",
            "text/plain": [
              "<Figure size 1080x360 with 1 Axes>"
            ]
          },
          "metadata": {
            "tags": []
          }
        }
      ]
    },
    {
      "cell_type": "code",
      "metadata": {
        "id": "8_FOrmOWCTIs",
        "outputId": "0afe04ad-6ca6-4734-a878-46c2668719d6",
        "colab": {
          "base_uri": "https://localhost:8080/",
          "height": 142
        }
      },
      "source": [
        "(pd.crosstab(index = satis['satisfied'],\n",
        "            columns = satis['education'],\n",
        "            normalize = 'columns')*100).round(2)"
      ],
      "execution_count": 37,
      "outputs": [
        {
          "output_type": "execute_result",
          "data": {
            "text/html": [
              "<div>\n",
              "<style scoped>\n",
              "    .dataframe tbody tr th:only-of-type {\n",
              "        vertical-align: middle;\n",
              "    }\n",
              "\n",
              "    .dataframe tbody tr th {\n",
              "        vertical-align: top;\n",
              "    }\n",
              "\n",
              "    .dataframe thead th {\n",
              "        text-align: right;\n",
              "    }\n",
              "</style>\n",
              "<table border=\"1\" class=\"dataframe\">\n",
              "  <thead>\n",
              "    <tr style=\"text-align: right;\">\n",
              "      <th>education</th>\n",
              "      <th>PG</th>\n",
              "      <th>UG</th>\n",
              "    </tr>\n",
              "    <tr>\n",
              "      <th>satisfied</th>\n",
              "      <th></th>\n",
              "      <th></th>\n",
              "    </tr>\n",
              "  </thead>\n",
              "  <tbody>\n",
              "    <tr>\n",
              "      <th>0</th>\n",
              "      <td>46.06</td>\n",
              "      <td>48.78</td>\n",
              "    </tr>\n",
              "    <tr>\n",
              "      <th>1</th>\n",
              "      <td>53.94</td>\n",
              "      <td>51.22</td>\n",
              "    </tr>\n",
              "  </tbody>\n",
              "</table>\n",
              "</div>"
            ],
            "text/plain": [
              "education     PG     UG\n",
              "satisfied              \n",
              "0          46.06  48.78\n",
              "1          53.94  51.22"
            ]
          },
          "metadata": {
            "tags": []
          },
          "execution_count": 37
        }
      ]
    },
    {
      "cell_type": "code",
      "metadata": {
        "id": "V8NHApEssFQT",
        "outputId": "cffe86fd-e8dd-4ffd-92d8-92115479ff83",
        "colab": {
          "base_uri": "https://localhost:8080/",
          "height": 350
        }
      },
      "source": [
        "plt.figure(figsize = (15,5))\n",
        "\n",
        "sns.countplot(satis['recruitment_type'], palette = 'gist_earth')\n",
        "plt.title(\"Employee's Recruitment Type\")\n",
        "\n",
        "plt.style.use('seaborn-whitegrid')\n",
        "plt.tight_layout()\n",
        "plt.show()\n",
        "\n",
        "# this recruitment type seems well-balanced too.\n",
        "# On-Campus recruitment is the most used to recruit with 133 employees,\n",
        "# while recruiting with referral is the second one with 131 employees."
      ],
      "execution_count": 24,
      "outputs": [
        {
          "output_type": "display_data",
          "data": {
            "image/png": "[encoded data removed]",
            "text/plain": [
              "<Figure size 1080x360 with 1 Axes>"
            ]
          },
          "metadata": {
            "tags": []
          }
        }
      ]
    },
    {
      "cell_type": "code",
      "metadata": {
        "id": "vvaNZdHlsFQa",
        "outputId": "fb390e3a-1538-4013-eb10-3e592af1cc7a",
        "colab": {
          "base_uri": "https://localhost:8080/",
          "height": 173
        }
      },
      "source": [
        "satis.stb.freq(['recruitment_type'], cum_cols = False)"
      ],
      "execution_count": 25,
      "outputs": [
        {
          "output_type": "execute_result",
          "data": {
            "text/html": [
              "<div>\n",
              "<style scoped>\n",
              "    .dataframe tbody tr th:only-of-type {\n",
              "        vertical-align: middle;\n",
              "    }\n",
              "\n",
              "    .dataframe tbody tr th {\n",
              "        vertical-align: top;\n",
              "    }\n",
              "\n",
              "    .dataframe thead th {\n",
              "        text-align: right;\n",
              "    }\n",
              "</style>\n",
              "<table border=\"1\" class=\"dataframe\">\n",
              "  <thead>\n",
              "    <tr style=\"text-align: right;\">\n",
              "      <th></th>\n",
              "      <th>recruitment_type</th>\n",
              "      <th>count</th>\n",
              "      <th>percent</th>\n",
              "    </tr>\n",
              "  </thead>\n",
              "  <tbody>\n",
              "    <tr>\n",
              "      <th>0</th>\n",
              "      <td>On-Campus</td>\n",
              "      <td>133</td>\n",
              "      <td>26.6</td>\n",
              "    </tr>\n",
              "    <tr>\n",
              "      <th>1</th>\n",
              "      <td>Referral</td>\n",
              "      <td>131</td>\n",
              "      <td>26.2</td>\n",
              "    </tr>\n",
              "    <tr>\n",
              "      <th>2</th>\n",
              "      <td>Walk-in</td>\n",
              "      <td>128</td>\n",
              "      <td>25.6</td>\n",
              "    </tr>\n",
              "    <tr>\n",
              "      <th>3</th>\n",
              "      <td>Recruitment Agency</td>\n",
              "      <td>108</td>\n",
              "      <td>21.6</td>\n",
              "    </tr>\n",
              "  </tbody>\n",
              "</table>\n",
              "</div>"
            ],
            "text/plain": [
              "     recruitment_type  count  percent\n",
              "0           On-Campus    133     26.6\n",
              "1            Referral    131     26.2\n",
              "2             Walk-in    128     25.6\n",
              "3  Recruitment Agency    108     21.6"
            ]
          },
          "metadata": {
            "tags": []
          },
          "execution_count": 25
        }
      ]
    },
    {
      "cell_type": "code",
      "metadata": {
        "id": "ptiWftXKsh6w",
        "outputId": "e5090585-3a37-4242-f1c2-a7709b566e42",
        "colab": {
          "base_uri": "https://localhost:8080/",
          "height": 350
        }
      },
      "source": [
        "plt.figure(figsize = (15,5))\n",
        "\n",
        "sns.countplot(satis['job_level'], palette = 'gist_earth')\n",
        "plt.title(\"Employee's Job Level\")\n",
        "\n",
        "plt.style.use('seaborn-whitegrid')\n",
        "plt.tight_layout()\n",
        "plt.show()\n",
        "\n",
        "# The most job level in this office is level 2 and 4 with 22% each."
      ],
      "execution_count": 26,
      "outputs": [
        {
          "output_type": "display_data",
          "data": {
            "image/png": "[encoded data removed]",
            "text/plain": [
              "<Figure size 1080x360 with 1 Axes>"
            ]
          },
          "metadata": {
            "tags": []
          }
        }
      ]
    },
    {
      "cell_type": "code",
      "metadata": {
        "id": "2Wc6_O7mA8_i",
        "outputId": "39f0248e-9a99-4cf5-c911-994586eb69de",
        "colab": {
          "base_uri": "https://localhost:8080/",
          "height": 350
        }
      },
      "source": [
        "plt.figure(figsize = (15,5))\n",
        "\n",
        "sns.countplot(satis['job_level'], hue = satis['satisfied'],palette = 'Set2')\n",
        "plt.title(\"Employee's Job Level\")\n",
        "\n",
        "plt.style.use('seaborn-whitegrid')\n",
        "plt.tight_layout()\n",
        "plt.show()\n",
        "\n",
        "# notice that only 'job level 2' is dominated by unsatisfied employees while 'job level 3' is neutral."
      ],
      "execution_count": 27,
      "outputs": [
        {
          "output_type": "display_data",
          "data": {
            "image/png": "[encoded data removed]",
            "text/plain": [
              "<Figure size 1080x360 with 1 Axes>"
            ]
          },
          "metadata": {
            "tags": []
          }
        }
      ]
    },
    {
      "cell_type": "code",
      "metadata": {
        "id": "hkMSu6nNsh62",
        "outputId": "68a6968f-9ca5-4c91-b6be-8e8e95e54bed",
        "colab": {
          "base_uri": "https://localhost:8080/",
          "height": 142
        }
      },
      "source": [
        "(pd.crosstab(index = satis['satisfied'],\n",
        "            columns = satis['job_level'],\n",
        "            normalize = 'columns')*100).round(2)"
      ],
      "execution_count": 28,
      "outputs": [
        {
          "output_type": "execute_result",
          "data": {
            "text/html": [
              "<div>\n",
              "<style scoped>\n",
              "    .dataframe tbody tr th:only-of-type {\n",
              "        vertical-align: middle;\n",
              "    }\n",
              "\n",
              "    .dataframe tbody tr th {\n",
              "        vertical-align: top;\n",
              "    }\n",
              "\n",
              "    .dataframe thead th {\n",
              "        text-align: right;\n",
              "    }\n",
              "</style>\n",
              "<table border=\"1\" class=\"dataframe\">\n",
              "  <thead>\n",
              "    <tr style=\"text-align: right;\">\n",
              "      <th>job_level</th>\n",
              "      <th>1</th>\n",
              "      <th>2</th>\n",
              "      <th>3</th>\n",
              "      <th>4</th>\n",
              "      <th>5</th>\n",
              "    </tr>\n",
              "    <tr>\n",
              "      <th>satisfied</th>\n",
              "      <th></th>\n",
              "      <th></th>\n",
              "      <th></th>\n",
              "      <th></th>\n",
              "      <th></th>\n",
              "    </tr>\n",
              "  </thead>\n",
              "  <tbody>\n",
              "    <tr>\n",
              "      <th>0</th>\n",
              "      <td>43.16</td>\n",
              "      <td>51.82</td>\n",
              "      <td>50.0</td>\n",
              "      <td>48.18</td>\n",
              "      <td>43.69</td>\n",
              "    </tr>\n",
              "    <tr>\n",
              "      <th>1</th>\n",
              "      <td>56.84</td>\n",
              "      <td>48.18</td>\n",
              "      <td>50.0</td>\n",
              "      <td>51.82</td>\n",
              "      <td>56.31</td>\n",
              "    </tr>\n",
              "  </tbody>\n",
              "</table>\n",
              "</div>"
            ],
            "text/plain": [
              "job_level      1      2     3      4      5\n",
              "satisfied                                  \n",
              "0          43.16  51.82  50.0  48.18  43.69\n",
              "1          56.84  48.18  50.0  51.82  56.31"
            ]
          },
          "metadata": {
            "tags": []
          },
          "execution_count": 28
        }
      ]
    },
    {
      "cell_type": "code",
      "metadata": {
        "id": "MGK8LvKmtCee",
        "outputId": "92e5198b-99fd-4a5a-9ccb-0688bd4eac27",
        "colab": {
          "base_uri": "https://localhost:8080/",
          "height": 350
        }
      },
      "source": [
        "plt.figure(figsize = (15,5))\n",
        "\n",
        "sns.countplot(satis['rating'], palette = 'gist_earth')\n",
        "plt.title(\"Employee's Rating\")\n",
        "\n",
        "plt.style.use('seaborn-whitegrid')\n",
        "plt.tight_layout()\n",
        "plt.show()\n",
        "\n",
        "# most employees are rated by number 4 of 5 with 22.6%\n",
        "# employees in here seems have pretty good performance overall in the previous year"
      ],
      "execution_count": 29,
      "outputs": [
        {
          "output_type": "display_data",
          "data": {
            "image/png": "[encoded data removed]",
            "text/plain": [
              "<Figure size 1080x360 with 1 Axes>"
            ]
          },
          "metadata": {
            "tags": []
          }
        }
      ]
    },
    {
      "cell_type": "code",
      "metadata": {
        "id": "CHHQSSQ3tCei",
        "outputId": "294ab3b8-48cb-4d4d-c1fd-43850d7072b0",
        "colab": {
          "base_uri": "https://localhost:8080/",
          "height": 204
        }
      },
      "source": [
        "satis.stb.freq(['rating'], cum_cols = False)"
      ],
      "execution_count": 30,
      "outputs": [
        {
          "output_type": "execute_result",
          "data": {
            "text/html": [
              "<div>\n",
              "<style scoped>\n",
              "    .dataframe tbody tr th:only-of-type {\n",
              "        vertical-align: middle;\n",
              "    }\n",
              "\n",
              "    .dataframe tbody tr th {\n",
              "        vertical-align: top;\n",
              "    }\n",
              "\n",
              "    .dataframe thead th {\n",
              "        text-align: right;\n",
              "    }\n",
              "</style>\n",
              "<table border=\"1\" class=\"dataframe\">\n",
              "  <thead>\n",
              "    <tr style=\"text-align: right;\">\n",
              "      <th></th>\n",
              "      <th>rating</th>\n",
              "      <th>count</th>\n",
              "      <th>percent</th>\n",
              "    </tr>\n",
              "  </thead>\n",
              "  <tbody>\n",
              "    <tr>\n",
              "      <th>0</th>\n",
              "      <td>4</td>\n",
              "      <td>113</td>\n",
              "      <td>22.6</td>\n",
              "    </tr>\n",
              "    <tr>\n",
              "      <th>1</th>\n",
              "      <td>5</td>\n",
              "      <td>106</td>\n",
              "      <td>21.2</td>\n",
              "    </tr>\n",
              "    <tr>\n",
              "      <th>2</th>\n",
              "      <td>2</td>\n",
              "      <td>99</td>\n",
              "      <td>19.8</td>\n",
              "    </tr>\n",
              "    <tr>\n",
              "      <th>3</th>\n",
              "      <td>1</td>\n",
              "      <td>95</td>\n",
              "      <td>19.0</td>\n",
              "    </tr>\n",
              "    <tr>\n",
              "      <th>4</th>\n",
              "      <td>3</td>\n",
              "      <td>87</td>\n",
              "      <td>17.4</td>\n",
              "    </tr>\n",
              "  </tbody>\n",
              "</table>\n",
              "</div>"
            ],
            "text/plain": [
              "   rating  count  percent\n",
              "0       4    113     22.6\n",
              "1       5    106     21.2\n",
              "2       2     99     19.8\n",
              "3       1     95     19.0\n",
              "4       3     87     17.4"
            ]
          },
          "metadata": {
            "tags": []
          },
          "execution_count": 30
        }
      ]
    },
    {
      "cell_type": "code",
      "metadata": {
        "id": "O-5JhRUDCnqV",
        "outputId": "78fa2f15-d03b-4cd5-cd21-7c279e9c8c15",
        "colab": {
          "base_uri": "https://localhost:8080/",
          "height": 350
        }
      },
      "source": [
        "plt.figure(figsize = (15,5))\n",
        "\n",
        "sns.countplot(satis['rating'], hue = satis['satisfied'],palette = 'Set2')\n",
        "plt.title(\"Employee's Rating\")\n",
        "\n",
        "plt.style.use('seaborn-whitegrid')\n",
        "plt.tight_layout()\n",
        "plt.show()\n",
        "\n",
        "# it's obvious that employee who has rating 4 and 5 is way dominated by the satisfied employees\n",
        "# while rating 1 and 2 are the most unsatisfied employees with above 50% employees."
      ],
      "execution_count": 38,
      "outputs": [
        {
          "output_type": "display_data",
          "data": {
            "image/png": "[encoded data removed]",
            "text/plain": [
              "<Figure size 1080x360 with 1 Axes>"
            ]
          },
          "metadata": {
            "tags": []
          }
        }
      ]
    },
    {
      "cell_type": "code",
      "metadata": {
        "id": "EyEn-mqrCnqa",
        "outputId": "dcbe6679-718f-4b6a-c82e-c8d689d5fa9c",
        "colab": {
          "base_uri": "https://localhost:8080/",
          "height": 142
        }
      },
      "source": [
        "(pd.crosstab(index = satis['satisfied'],\n",
        "            columns = satis['rating'],\n",
        "            normalize = 'columns')*100).round(2)"
      ],
      "execution_count": 39,
      "outputs": [
        {
          "output_type": "execute_result",
          "data": {
            "text/html": [
              "<div>\n",
              "<style scoped>\n",
              "    .dataframe tbody tr th:only-of-type {\n",
              "        vertical-align: middle;\n",
              "    }\n",
              "\n",
              "    .dataframe tbody tr th {\n",
              "        vertical-align: top;\n",
              "    }\n",
              "\n",
              "    .dataframe thead th {\n",
              "        text-align: right;\n",
              "    }\n",
              "</style>\n",
              "<table border=\"1\" class=\"dataframe\">\n",
              "  <thead>\n",
              "    <tr style=\"text-align: right;\">\n",
              "      <th>rating</th>\n",
              "      <th>1</th>\n",
              "      <th>2</th>\n",
              "      <th>3</th>\n",
              "      <th>4</th>\n",
              "      <th>5</th>\n",
              "    </tr>\n",
              "    <tr>\n",
              "      <th>satisfied</th>\n",
              "      <th></th>\n",
              "      <th></th>\n",
              "      <th></th>\n",
              "      <th></th>\n",
              "      <th></th>\n",
              "    </tr>\n",
              "  </thead>\n",
              "  <tbody>\n",
              "    <tr>\n",
              "      <th>0</th>\n",
              "      <td>53.68</td>\n",
              "      <td>48.48</td>\n",
              "      <td>52.87</td>\n",
              "      <td>44.25</td>\n",
              "      <td>39.62</td>\n",
              "    </tr>\n",
              "    <tr>\n",
              "      <th>1</th>\n",
              "      <td>46.32</td>\n",
              "      <td>51.52</td>\n",
              "      <td>47.13</td>\n",
              "      <td>55.75</td>\n",
              "      <td>60.38</td>\n",
              "    </tr>\n",
              "  </tbody>\n",
              "</table>\n",
              "</div>"
            ],
            "text/plain": [
              "rating         1      2      3      4      5\n",
              "satisfied                                   \n",
              "0          53.68  48.48  52.87  44.25  39.62\n",
              "1          46.32  51.52  47.13  55.75  60.38"
            ]
          },
          "metadata": {
            "tags": []
          },
          "execution_count": 39
        }
      ]
    },
    {
      "cell_type": "code",
      "metadata": {
        "id": "juKNH6uKtcNR",
        "outputId": "46a0662f-370b-4049-9093-ac117c3e58f4",
        "colab": {
          "base_uri": "https://localhost:8080/",
          "height": 350
        }
      },
      "source": [
        "plt.figure(figsize = (15,5))\n",
        "\n",
        "sns.countplot(satis['onsite'], palette = 'gist_earth')\n",
        "plt.title(\"Has the employee ever went to an onsite location?\")\n",
        "\n",
        "plt.style.use('seaborn-whitegrid')\n",
        "plt.tight_layout()\n",
        "plt.show()\n",
        "\n",
        "# 53.4% employees have not went to an on site location\n",
        "# 46.6% employees have went to an on site location"
      ],
      "execution_count": 31,
      "outputs": [
        {
          "output_type": "display_data",
          "data": {
            "image/png": "[encoded data removed]",
            "text/plain": [
              "<Figure size 1080x360 with 1 Axes>"
            ]
          },
          "metadata": {
            "tags": []
          }
        }
      ]
    },
    {
      "cell_type": "code",
      "metadata": {
        "id": "Vk_vcOV_tcNU",
        "outputId": "0adf493a-6e47-4ffb-e00e-fdbbcf931802",
        "colab": {
          "base_uri": "https://localhost:8080/",
          "height": 111
        }
      },
      "source": [
        "satis.stb.freq(['onsite'], cum_cols = False)"
      ],
      "execution_count": 32,
      "outputs": [
        {
          "output_type": "execute_result",
          "data": {
            "text/html": [
              "<div>\n",
              "<style scoped>\n",
              "    .dataframe tbody tr th:only-of-type {\n",
              "        vertical-align: middle;\n",
              "    }\n",
              "\n",
              "    .dataframe tbody tr th {\n",
              "        vertical-align: top;\n",
              "    }\n",
              "\n",
              "    .dataframe thead th {\n",
              "        text-align: right;\n",
              "    }\n",
              "</style>\n",
              "<table border=\"1\" class=\"dataframe\">\n",
              "  <thead>\n",
              "    <tr style=\"text-align: right;\">\n",
              "      <th></th>\n",
              "      <th>onsite</th>\n",
              "      <th>count</th>\n",
              "      <th>percent</th>\n",
              "    </tr>\n",
              "  </thead>\n",
              "  <tbody>\n",
              "    <tr>\n",
              "      <th>0</th>\n",
              "      <td>0</td>\n",
              "      <td>267</td>\n",
              "      <td>53.4</td>\n",
              "    </tr>\n",
              "    <tr>\n",
              "      <th>1</th>\n",
              "      <td>1</td>\n",
              "      <td>233</td>\n",
              "      <td>46.6</td>\n",
              "    </tr>\n",
              "  </tbody>\n",
              "</table>\n",
              "</div>"
            ],
            "text/plain": [
              "   onsite  count  percent\n",
              "0       0    267     53.4\n",
              "1       1    233     46.6"
            ]
          },
          "metadata": {
            "tags": []
          },
          "execution_count": 32
        }
      ]
    },
    {
      "cell_type": "code",
      "metadata": {
        "id": "iGE6rtYyC_0M",
        "outputId": "2f84baf7-f102-4549-d1b8-8d857d62f4b5",
        "colab": {
          "base_uri": "https://localhost:8080/",
          "height": 350
        }
      },
      "source": [
        "plt.figure(figsize = (15,5))\n",
        "\n",
        "sns.countplot(satis['onsite'], hue = satis['satisfied'],palette = 'Set2')\n",
        "plt.title(\"Employee's Onsite\")\n",
        "\n",
        "plt.style.use('seaborn-whitegrid')\n",
        "plt.tight_layout()\n",
        "plt.show()\n",
        "\n",
        "# Onsite doesn't affect employees satifaction"
      ],
      "execution_count": 42,
      "outputs": [
        {
          "output_type": "display_data",
          "data": {
            "image/png": "[encoded data removed]",
            "text/plain": [
              "<Figure size 1080x360 with 1 Axes>"
            ]
          },
          "metadata": {
            "tags": []
          }
        }
      ]
    },
    {
      "cell_type": "code",
      "metadata": {
        "id": "5KfsjrUGC_0V",
        "outputId": "282a7736-1265-4a2c-8219-5a65b0a266c2",
        "colab": {
          "base_uri": "https://localhost:8080/",
          "height": 142
        }
      },
      "source": [
        "(pd.crosstab(index = satis['satisfied'],\n",
        "            columns = satis['onsite'],\n",
        "            normalize = 'columns')*100).round(2)"
      ],
      "execution_count": 40,
      "outputs": [
        {
          "output_type": "execute_result",
          "data": {
            "text/html": [
              "<div>\n",
              "<style scoped>\n",
              "    .dataframe tbody tr th:only-of-type {\n",
              "        vertical-align: middle;\n",
              "    }\n",
              "\n",
              "    .dataframe tbody tr th {\n",
              "        vertical-align: top;\n",
              "    }\n",
              "\n",
              "    .dataframe thead th {\n",
              "        text-align: right;\n",
              "    }\n",
              "</style>\n",
              "<table border=\"1\" class=\"dataframe\">\n",
              "  <thead>\n",
              "    <tr style=\"text-align: right;\">\n",
              "      <th>onsite</th>\n",
              "      <th>0</th>\n",
              "      <th>1</th>\n",
              "    </tr>\n",
              "    <tr>\n",
              "      <th>satisfied</th>\n",
              "      <th></th>\n",
              "      <th></th>\n",
              "    </tr>\n",
              "  </thead>\n",
              "  <tbody>\n",
              "    <tr>\n",
              "      <th>0</th>\n",
              "      <td>48.69</td>\n",
              "      <td>45.92</td>\n",
              "    </tr>\n",
              "    <tr>\n",
              "      <th>1</th>\n",
              "      <td>51.31</td>\n",
              "      <td>54.08</td>\n",
              "    </tr>\n",
              "  </tbody>\n",
              "</table>\n",
              "</div>"
            ],
            "text/plain": [
              "onsite         0      1\n",
              "satisfied              \n",
              "0          48.69  45.92\n",
              "1          51.31  54.08"
            ]
          },
          "metadata": {
            "tags": []
          },
          "execution_count": 40
        }
      ]
    },
    {
      "cell_type": "code",
      "metadata": {
        "id": "-XaWK5NZt6No",
        "outputId": "2474bbc4-0283-45de-d6ca-09dd6dcf8b57",
        "colab": {
          "base_uri": "https://localhost:8080/",
          "height": 350
        }
      },
      "source": [
        "plt.figure(figsize = (15,5))\n",
        "\n",
        "sns.countplot(satis['awards'], palette = 'coolwarm')\n",
        "plt.title(\"Number of Awards\")\n",
        "\n",
        "plt.style.use('seaborn-whitegrid')\n",
        "plt.tight_layout()\n",
        "plt.show()\n",
        "\n",
        "# 10.4% employees are not awarded yet\n",
        "# but the other 89.6% are ever get the rewards.\n",
        "# Most employees have at 3 awards, but there's many employees who has 8 awards for themselves."
      ],
      "execution_count": 33,
      "outputs": [
        {
          "output_type": "display_data",
          "data": {
            "image/png": "[encoded data removed]",
            "text/plain": [
              "<Figure size 1080x360 with 1 Axes>"
            ]
          },
          "metadata": {
            "tags": []
          }
        }
      ]
    },
    {
      "cell_type": "code",
      "metadata": {
        "id": "GYrOGDK3t6Nt",
        "outputId": "404412f3-e296-42de-bd96-6be23657fd6d",
        "colab": {
          "base_uri": "https://localhost:8080/",
          "height": 359
        }
      },
      "source": [
        "satis.stb.freq(['awards'], cum_cols = False)"
      ],
      "execution_count": 34,
      "outputs": [
        {
          "output_type": "execute_result",
          "data": {
            "text/html": [
              "<div>\n",
              "<style scoped>\n",
              "    .dataframe tbody tr th:only-of-type {\n",
              "        vertical-align: middle;\n",
              "    }\n",
              "\n",
              "    .dataframe tbody tr th {\n",
              "        vertical-align: top;\n",
              "    }\n",
              "\n",
              "    .dataframe thead th {\n",
              "        text-align: right;\n",
              "    }\n",
              "</style>\n",
              "<table border=\"1\" class=\"dataframe\">\n",
              "  <thead>\n",
              "    <tr style=\"text-align: right;\">\n",
              "      <th></th>\n",
              "      <th>awards</th>\n",
              "      <th>count</th>\n",
              "      <th>percent</th>\n",
              "    </tr>\n",
              "  </thead>\n",
              "  <tbody>\n",
              "    <tr>\n",
              "      <th>0</th>\n",
              "      <td>3</td>\n",
              "      <td>57</td>\n",
              "      <td>11.4</td>\n",
              "    </tr>\n",
              "    <tr>\n",
              "      <th>1</th>\n",
              "      <td>8</td>\n",
              "      <td>56</td>\n",
              "      <td>11.2</td>\n",
              "    </tr>\n",
              "    <tr>\n",
              "      <th>2</th>\n",
              "      <td>5</td>\n",
              "      <td>52</td>\n",
              "      <td>10.4</td>\n",
              "    </tr>\n",
              "    <tr>\n",
              "      <th>3</th>\n",
              "      <td>0</td>\n",
              "      <td>52</td>\n",
              "      <td>10.4</td>\n",
              "    </tr>\n",
              "    <tr>\n",
              "      <th>4</th>\n",
              "      <td>4</td>\n",
              "      <td>51</td>\n",
              "      <td>10.2</td>\n",
              "    </tr>\n",
              "    <tr>\n",
              "      <th>5</th>\n",
              "      <td>7</td>\n",
              "      <td>50</td>\n",
              "      <td>10.0</td>\n",
              "    </tr>\n",
              "    <tr>\n",
              "      <th>6</th>\n",
              "      <td>2</td>\n",
              "      <td>48</td>\n",
              "      <td>9.6</td>\n",
              "    </tr>\n",
              "    <tr>\n",
              "      <th>7</th>\n",
              "      <td>9</td>\n",
              "      <td>47</td>\n",
              "      <td>9.4</td>\n",
              "    </tr>\n",
              "    <tr>\n",
              "      <th>8</th>\n",
              "      <td>6</td>\n",
              "      <td>46</td>\n",
              "      <td>9.2</td>\n",
              "    </tr>\n",
              "    <tr>\n",
              "      <th>9</th>\n",
              "      <td>1</td>\n",
              "      <td>41</td>\n",
              "      <td>8.2</td>\n",
              "    </tr>\n",
              "  </tbody>\n",
              "</table>\n",
              "</div>"
            ],
            "text/plain": [
              "   awards  count  percent\n",
              "0       3     57     11.4\n",
              "1       8     56     11.2\n",
              "2       5     52     10.4\n",
              "3       0     52     10.4\n",
              "4       4     51     10.2\n",
              "5       7     50     10.0\n",
              "6       2     48      9.6\n",
              "7       9     47      9.4\n",
              "8       6     46      9.2\n",
              "9       1     41      8.2"
            ]
          },
          "metadata": {
            "tags": []
          },
          "execution_count": 34
        }
      ]
    },
    {
      "cell_type": "code",
      "metadata": {
        "id": "AgiwEjZaDOUG",
        "outputId": "e1f9f425-f339-4b97-acd1-f5d96e3f7dfa",
        "colab": {
          "base_uri": "https://localhost:8080/",
          "height": 350
        }
      },
      "source": [
        "plt.figure(figsize = (15,5))\n",
        "\n",
        "sns.countplot(satis['awards'], hue = satis['satisfied'],palette = 'Set2')\n",
        "plt.title(\"Employee's Awards\")\n",
        "\n",
        "plt.style.use('seaborn-whitegrid')\n",
        "plt.tight_layout()\n",
        "plt.show()\n",
        "\n",
        "# Notice that employees who has 0 rewards tend to more satisfy than the other"
      ],
      "execution_count": 43,
      "outputs": [
        {
          "output_type": "display_data",
          "data": {
            "image/png": "[encoded data removed]",
            "text/plain": [
              "<Figure size 1080x360 with 1 Axes>"
            ]
          },
          "metadata": {
            "tags": []
          }
        }
      ]
    },
    {
      "cell_type": "code",
      "metadata": {
        "id": "F_pKPkh5DOUM",
        "outputId": "e75232d1-7bc4-4c42-f290-0d3081cbd275",
        "colab": {
          "base_uri": "https://localhost:8080/",
          "height": 142
        }
      },
      "source": [
        "(pd.crosstab(index = satis['satisfied'],\n",
        "            columns = satis['awards'],\n",
        "            normalize = 'columns')*100).round(2)"
      ],
      "execution_count": 44,
      "outputs": [
        {
          "output_type": "execute_result",
          "data": {
            "text/html": [
              "<div>\n",
              "<style scoped>\n",
              "    .dataframe tbody tr th:only-of-type {\n",
              "        vertical-align: middle;\n",
              "    }\n",
              "\n",
              "    .dataframe tbody tr th {\n",
              "        vertical-align: top;\n",
              "    }\n",
              "\n",
              "    .dataframe thead th {\n",
              "        text-align: right;\n",
              "    }\n",
              "</style>\n",
              "<table border=\"1\" class=\"dataframe\">\n",
              "  <thead>\n",
              "    <tr style=\"text-align: right;\">\n",
              "      <th>awards</th>\n",
              "      <th>0</th>\n",
              "      <th>1</th>\n",
              "      <th>2</th>\n",
              "      <th>3</th>\n",
              "      <th>4</th>\n",
              "      <th>5</th>\n",
              "      <th>6</th>\n",
              "      <th>7</th>\n",
              "      <th>8</th>\n",
              "      <th>9</th>\n",
              "    </tr>\n",
              "    <tr>\n",
              "      <th>satisfied</th>\n",
              "      <th></th>\n",
              "      <th></th>\n",
              "      <th></th>\n",
              "      <th></th>\n",
              "      <th></th>\n",
              "      <th></th>\n",
              "      <th></th>\n",
              "      <th></th>\n",
              "      <th></th>\n",
              "      <th></th>\n",
              "    </tr>\n",
              "  </thead>\n",
              "  <tbody>\n",
              "    <tr>\n",
              "      <th>0</th>\n",
              "      <td>38.46</td>\n",
              "      <td>48.78</td>\n",
              "      <td>60.42</td>\n",
              "      <td>56.14</td>\n",
              "      <td>43.14</td>\n",
              "      <td>48.08</td>\n",
              "      <td>41.3</td>\n",
              "      <td>36.0</td>\n",
              "      <td>53.57</td>\n",
              "      <td>46.81</td>\n",
              "    </tr>\n",
              "    <tr>\n",
              "      <th>1</th>\n",
              "      <td>61.54</td>\n",
              "      <td>51.22</td>\n",
              "      <td>39.58</td>\n",
              "      <td>43.86</td>\n",
              "      <td>56.86</td>\n",
              "      <td>51.92</td>\n",
              "      <td>58.7</td>\n",
              "      <td>64.0</td>\n",
              "      <td>46.43</td>\n",
              "      <td>53.19</td>\n",
              "    </tr>\n",
              "  </tbody>\n",
              "</table>\n",
              "</div>"
            ],
            "text/plain": [
              "awards         0      1      2      3      4      5     6     7      8      9\n",
              "satisfied                                                                    \n",
              "0          38.46  48.78  60.42  56.14  43.14  48.08  41.3  36.0  53.57  46.81\n",
              "1          61.54  51.22  39.58  43.86  56.86  51.92  58.7  64.0  46.43  53.19"
            ]
          },
          "metadata": {
            "tags": []
          },
          "execution_count": 44
        }
      ]
    },
    {
      "cell_type": "code",
      "metadata": {
        "id": "uRdaGV9nug1Z",
        "outputId": "e462377f-e672-482b-97b2-dcde2b6e594e",
        "colab": {
          "base_uri": "https://localhost:8080/",
          "height": 350
        }
      },
      "source": [
        "plt.figure(figsize = (15,5))\n",
        "\n",
        "sns.countplot(satis['certifications'], palette = 'coolwarm')\n",
        "plt.title(\"Is Certified?\")\n",
        "\n",
        "plt.style.use('seaborn-whitegrid')\n",
        "plt.tight_layout()\n",
        "plt.show()\n",
        "\n",
        "# 49.6% employees are already certified, while 50.4% employees are not certified yet."
      ],
      "execution_count": 45,
      "outputs": [
        {
          "output_type": "display_data",
          "data": {
            "image/png": "[encoded data removed]",
            "text/plain": [
              "<Figure size 1080x360 with 1 Axes>"
            ]
          },
          "metadata": {
            "tags": []
          }
        }
      ]
    },
    {
      "cell_type": "code",
      "metadata": {
        "id": "xpNlm88Gug1h",
        "outputId": "012c0dbb-9a64-44a2-c244-e8de8c97de93",
        "colab": {
          "base_uri": "https://localhost:8080/",
          "height": 111
        }
      },
      "source": [
        "satis.stb.freq(['certifications'], cum_cols = False)"
      ],
      "execution_count": 46,
      "outputs": [
        {
          "output_type": "execute_result",
          "data": {
            "text/html": [
              "<div>\n",
              "<style scoped>\n",
              "    .dataframe tbody tr th:only-of-type {\n",
              "        vertical-align: middle;\n",
              "    }\n",
              "\n",
              "    .dataframe tbody tr th {\n",
              "        vertical-align: top;\n",
              "    }\n",
              "\n",
              "    .dataframe thead th {\n",
              "        text-align: right;\n",
              "    }\n",
              "</style>\n",
              "<table border=\"1\" class=\"dataframe\">\n",
              "  <thead>\n",
              "    <tr style=\"text-align: right;\">\n",
              "      <th></th>\n",
              "      <th>certifications</th>\n",
              "      <th>count</th>\n",
              "      <th>percent</th>\n",
              "    </tr>\n",
              "  </thead>\n",
              "  <tbody>\n",
              "    <tr>\n",
              "      <th>0</th>\n",
              "      <td>0</td>\n",
              "      <td>252</td>\n",
              "      <td>50.4</td>\n",
              "    </tr>\n",
              "    <tr>\n",
              "      <th>1</th>\n",
              "      <td>1</td>\n",
              "      <td>248</td>\n",
              "      <td>49.6</td>\n",
              "    </tr>\n",
              "  </tbody>\n",
              "</table>\n",
              "</div>"
            ],
            "text/plain": [
              "   certifications  count  percent\n",
              "0               0    252     50.4\n",
              "1               1    248     49.6"
            ]
          },
          "metadata": {
            "tags": []
          },
          "execution_count": 46
        }
      ]
    },
    {
      "cell_type": "code",
      "metadata": {
        "id": "4O-8R2jcDoB0",
        "outputId": "a3e06577-8f16-4aab-be74-a7846f6a7bac",
        "colab": {
          "base_uri": "https://localhost:8080/",
          "height": 350
        }
      },
      "source": [
        "plt.figure(figsize = (15,5))\n",
        "\n",
        "sns.countplot(satis['certifications'], hue = satis['satisfied'],palette = 'Set2')\n",
        "plt.title(\"Employee's Certifications\")\n",
        "\n",
        "plt.style.use('seaborn-whitegrid')\n",
        "plt.tight_layout()\n",
        "plt.show()\n",
        "\n",
        "# certified or not doesn't affect employees satifaction"
      ],
      "execution_count": 48,
      "outputs": [
        {
          "output_type": "display_data",
          "data": {
            "image/png": "[encoded data removed]",
            "text/plain": [
              "<Figure size 1080x360 with 1 Axes>"
            ]
          },
          "metadata": {
            "tags": []
          }
        }
      ]
    },
    {
      "cell_type": "code",
      "metadata": {
        "id": "t14eJHeGDoB5",
        "outputId": "bc7b8c12-2291-498d-e3f0-f153d2399125",
        "colab": {
          "base_uri": "https://localhost:8080/",
          "height": 142
        }
      },
      "source": [
        "(pd.crosstab(index = satis['satisfied'],\n",
        "            columns = satis['certifications'],\n",
        "            normalize = 'columns')*100).round(2)"
      ],
      "execution_count": 53,
      "outputs": [
        {
          "output_type": "execute_result",
          "data": {
            "text/html": [
              "<div>\n",
              "<style scoped>\n",
              "    .dataframe tbody tr th:only-of-type {\n",
              "        vertical-align: middle;\n",
              "    }\n",
              "\n",
              "    .dataframe tbody tr th {\n",
              "        vertical-align: top;\n",
              "    }\n",
              "\n",
              "    .dataframe thead th {\n",
              "        text-align: right;\n",
              "    }\n",
              "</style>\n",
              "<table border=\"1\" class=\"dataframe\">\n",
              "  <thead>\n",
              "    <tr style=\"text-align: right;\">\n",
              "      <th>certifications</th>\n",
              "      <th>0</th>\n",
              "      <th>1</th>\n",
              "    </tr>\n",
              "    <tr>\n",
              "      <th>satisfied</th>\n",
              "      <th></th>\n",
              "      <th></th>\n",
              "    </tr>\n",
              "  </thead>\n",
              "  <tbody>\n",
              "    <tr>\n",
              "      <th>0</th>\n",
              "      <td>46.83</td>\n",
              "      <td>47.98</td>\n",
              "    </tr>\n",
              "    <tr>\n",
              "      <th>1</th>\n",
              "      <td>53.17</td>\n",
              "      <td>52.02</td>\n",
              "    </tr>\n",
              "  </tbody>\n",
              "</table>\n",
              "</div>"
            ],
            "text/plain": [
              "certifications      0      1\n",
              "satisfied                   \n",
              "0               46.83  47.98\n",
              "1               53.17  52.02"
            ]
          },
          "metadata": {
            "tags": []
          },
          "execution_count": 53
        }
      ]
    },
    {
      "cell_type": "code",
      "metadata": {
        "id": "OvLTVrR0u7x9",
        "outputId": "27a6b618-060a-494e-bbdb-5c322aba810e",
        "colab": {
          "base_uri": "https://localhost:8080/",
          "height": 350
        }
      },
      "source": [
        "plt.figure(figsize = (15,5))\n",
        "\n",
        "sns.countplot(satis['salary'], palette= 'Pastel1')\n",
        "plt.title(\"Employees' Salary\")\n",
        "\n",
        "plt.style.use('seaborn-whitegrid')\n",
        "plt.tight_layout()\n",
        "plt.show()\n",
        "\n",
        "# most employees have their salary with $65,715, 22%\n",
        "# with the same percentage, 22%, employees have $29,805 salary"
      ],
      "execution_count": 49,
      "outputs": [
        {
          "output_type": "display_data",
          "data": {
            "image/png": "[encoded data removed]",
            "text/plain": [
              "<Figure size 1080x360 with 1 Axes>"
            ]
          },
          "metadata": {
            "tags": []
          }
        }
      ]
    },
    {
      "cell_type": "code",
      "metadata": {
        "id": "W9yE8Rs8u7yB",
        "outputId": "df9f5300-4d1f-402a-d756-6f6a6d442f83",
        "colab": {
          "base_uri": "https://localhost:8080/",
          "height": 204
        }
      },
      "source": [
        "satis.stb.freq(['salary'], cum_cols = False)"
      ],
      "execution_count": 50,
      "outputs": [
        {
          "output_type": "execute_result",
          "data": {
            "text/html": [
              "<div>\n",
              "<style scoped>\n",
              "    .dataframe tbody tr th:only-of-type {\n",
              "        vertical-align: middle;\n",
              "    }\n",
              "\n",
              "    .dataframe tbody tr th {\n",
              "        vertical-align: top;\n",
              "    }\n",
              "\n",
              "    .dataframe thead th {\n",
              "        text-align: right;\n",
              "    }\n",
              "</style>\n",
              "<table border=\"1\" class=\"dataframe\">\n",
              "  <thead>\n",
              "    <tr style=\"text-align: right;\">\n",
              "      <th></th>\n",
              "      <th>salary</th>\n",
              "      <th>count</th>\n",
              "      <th>percent</th>\n",
              "    </tr>\n",
              "  </thead>\n",
              "  <tbody>\n",
              "    <tr>\n",
              "      <th>0</th>\n",
              "      <td>65715</td>\n",
              "      <td>110</td>\n",
              "      <td>22.0</td>\n",
              "    </tr>\n",
              "    <tr>\n",
              "      <th>1</th>\n",
              "      <td>29805</td>\n",
              "      <td>110</td>\n",
              "      <td>22.0</td>\n",
              "    </tr>\n",
              "    <tr>\n",
              "      <th>2</th>\n",
              "      <td>86750</td>\n",
              "      <td>103</td>\n",
              "      <td>20.6</td>\n",
              "    </tr>\n",
              "    <tr>\n",
              "      <th>3</th>\n",
              "      <td>24076</td>\n",
              "      <td>95</td>\n",
              "      <td>19.0</td>\n",
              "    </tr>\n",
              "    <tr>\n",
              "      <th>4</th>\n",
              "      <td>42419</td>\n",
              "      <td>82</td>\n",
              "      <td>16.4</td>\n",
              "    </tr>\n",
              "  </tbody>\n",
              "</table>\n",
              "</div>"
            ],
            "text/plain": [
              "   salary  count  percent\n",
              "0   65715    110     22.0\n",
              "1   29805    110     22.0\n",
              "2   86750    103     20.6\n",
              "3   24076     95     19.0\n",
              "4   42419     82     16.4"
            ]
          },
          "metadata": {
            "tags": []
          },
          "execution_count": 50
        }
      ]
    },
    {
      "cell_type": "code",
      "metadata": {
        "id": "8RLtlQqmD22J",
        "outputId": "91d368e9-0537-4452-df53-b1134948cf2f",
        "colab": {
          "base_uri": "https://localhost:8080/",
          "height": 350
        }
      },
      "source": [
        "plt.figure(figsize = (15,5))\n",
        "\n",
        "sns.countplot(satis['salary'], hue = satis['satisfied'],palette = 'Set2')\n",
        "plt.title(\"Employee's Salary\")\n",
        "\n",
        "plt.style.use('seaborn-whitegrid')\n",
        "plt.tight_layout()\n",
        "plt.show()\n",
        "\n",
        "# Employees who have $86750 salary and $24076 have the same percentage of satisfaction: 56%"
      ],
      "execution_count": 51,
      "outputs": [
        {
          "output_type": "display_data",
          "data": {
            "image/png": "[encoded data removed]",
            "text/plain": [
              "<Figure size 1080x360 with 1 Axes>"
            ]
          },
          "metadata": {
            "tags": []
          }
        }
      ]
    },
    {
      "cell_type": "code",
      "metadata": {
        "id": "dI0D1miVD22N",
        "outputId": "ba946953-9884-43bb-f2ca-53ad053f288b",
        "colab": {
          "base_uri": "https://localhost:8080/",
          "height": 142
        }
      },
      "source": [
        "(pd.crosstab(index = satis['satisfied'],\n",
        "            columns = satis['salary'],\n",
        "            normalize = 'columns')*100).round(2)"
      ],
      "execution_count": 52,
      "outputs": [
        {
          "output_type": "execute_result",
          "data": {
            "text/html": [
              "<div>\n",
              "<style scoped>\n",
              "    .dataframe tbody tr th:only-of-type {\n",
              "        vertical-align: middle;\n",
              "    }\n",
              "\n",
              "    .dataframe tbody tr th {\n",
              "        vertical-align: top;\n",
              "    }\n",
              "\n",
              "    .dataframe thead th {\n",
              "        text-align: right;\n",
              "    }\n",
              "</style>\n",
              "<table border=\"1\" class=\"dataframe\">\n",
              "  <thead>\n",
              "    <tr style=\"text-align: right;\">\n",
              "      <th>salary</th>\n",
              "      <th>24076</th>\n",
              "      <th>29805</th>\n",
              "      <th>42419</th>\n",
              "      <th>65715</th>\n",
              "      <th>86750</th>\n",
              "    </tr>\n",
              "    <tr>\n",
              "      <th>satisfied</th>\n",
              "      <th></th>\n",
              "      <th></th>\n",
              "      <th></th>\n",
              "      <th></th>\n",
              "      <th></th>\n",
              "    </tr>\n",
              "  </thead>\n",
              "  <tbody>\n",
              "    <tr>\n",
              "      <th>0</th>\n",
              "      <td>43.16</td>\n",
              "      <td>51.82</td>\n",
              "      <td>50.0</td>\n",
              "      <td>48.18</td>\n",
              "      <td>43.69</td>\n",
              "    </tr>\n",
              "    <tr>\n",
              "      <th>1</th>\n",
              "      <td>56.84</td>\n",
              "      <td>48.18</td>\n",
              "      <td>50.0</td>\n",
              "      <td>51.82</td>\n",
              "      <td>56.31</td>\n",
              "    </tr>\n",
              "  </tbody>\n",
              "</table>\n",
              "</div>"
            ],
            "text/plain": [
              "salary     24076  29805  42419  65715  86750\n",
              "satisfied                                   \n",
              "0          43.16  51.82   50.0  48.18  43.69\n",
              "1          56.84  48.18   50.0  51.82  56.31"
            ]
          },
          "metadata": {
            "tags": []
          },
          "execution_count": 52
        }
      ]
    },
    {
      "cell_type": "markdown",
      "metadata": {
        "id": "CKhhZthtTR38"
      },
      "source": [
        "# 8) Data Preprocessing"
      ]
    },
    {
      "cell_type": "code",
      "metadata": {
        "id": "OFDSiPBswekW"
      },
      "source": [
        "from sklearn.model_selection import train_test_split, GridSearchCV, RandomizedSearchCV\n",
        "from sklearn.preprocessing import MinMaxScaler, RobustScaler, StandardScaler"
      ],
      "execution_count": 54,
      "outputs": []
    },
    {
      "cell_type": "code",
      "metadata": {
        "id": "KiPkOfnlwQ4X",
        "outputId": "50863217-dafb-47a9-ab45-c9d8f463e1d4",
        "colab": {
          "base_uri": "https://localhost:8080/",
          "height": 241
        }
      },
      "source": [
        "satis.head()"
      ],
      "execution_count": 55,
      "outputs": [
        {
          "output_type": "execute_result",
          "data": {
            "text/html": [
              "<div>\n",
              "<style scoped>\n",
              "    .dataframe tbody tr th:only-of-type {\n",
              "        vertical-align: middle;\n",
              "    }\n",
              "\n",
              "    .dataframe tbody tr th {\n",
              "        vertical-align: top;\n",
              "    }\n",
              "\n",
              "    .dataframe thead th {\n",
              "        text-align: right;\n",
              "    }\n",
              "</style>\n",
              "<table border=\"1\" class=\"dataframe\">\n",
              "  <thead>\n",
              "    <tr style=\"text-align: right;\">\n",
              "      <th></th>\n",
              "      <th>emp_id</th>\n",
              "      <th>age</th>\n",
              "      <th>Dept</th>\n",
              "      <th>location</th>\n",
              "      <th>education</th>\n",
              "      <th>recruitment_type</th>\n",
              "      <th>job_level</th>\n",
              "      <th>rating</th>\n",
              "      <th>onsite</th>\n",
              "      <th>awards</th>\n",
              "      <th>certifications</th>\n",
              "      <th>salary</th>\n",
              "      <th>satisfied</th>\n",
              "    </tr>\n",
              "  </thead>\n",
              "  <tbody>\n",
              "    <tr>\n",
              "      <th>0</th>\n",
              "      <td>HR8270</td>\n",
              "      <td>28</td>\n",
              "      <td>HR</td>\n",
              "      <td>Suburb</td>\n",
              "      <td>PG</td>\n",
              "      <td>Referral</td>\n",
              "      <td>5</td>\n",
              "      <td>2</td>\n",
              "      <td>0</td>\n",
              "      <td>1</td>\n",
              "      <td>0</td>\n",
              "      <td>86750</td>\n",
              "      <td>1</td>\n",
              "    </tr>\n",
              "    <tr>\n",
              "      <th>1</th>\n",
              "      <td>TECH1860</td>\n",
              "      <td>50</td>\n",
              "      <td>Technology</td>\n",
              "      <td>Suburb</td>\n",
              "      <td>PG</td>\n",
              "      <td>Walk-in</td>\n",
              "      <td>3</td>\n",
              "      <td>5</td>\n",
              "      <td>1</td>\n",
              "      <td>2</td>\n",
              "      <td>1</td>\n",
              "      <td>42419</td>\n",
              "      <td>0</td>\n",
              "    </tr>\n",
              "    <tr>\n",
              "      <th>2</th>\n",
              "      <td>TECH6390</td>\n",
              "      <td>43</td>\n",
              "      <td>Technology</td>\n",
              "      <td>Suburb</td>\n",
              "      <td>UG</td>\n",
              "      <td>Referral</td>\n",
              "      <td>4</td>\n",
              "      <td>1</td>\n",
              "      <td>0</td>\n",
              "      <td>2</td>\n",
              "      <td>0</td>\n",
              "      <td>65715</td>\n",
              "      <td>0</td>\n",
              "    </tr>\n",
              "    <tr>\n",
              "      <th>3</th>\n",
              "      <td>SAL6191</td>\n",
              "      <td>44</td>\n",
              "      <td>Sales</td>\n",
              "      <td>City</td>\n",
              "      <td>PG</td>\n",
              "      <td>On-Campus</td>\n",
              "      <td>2</td>\n",
              "      <td>3</td>\n",
              "      <td>1</td>\n",
              "      <td>0</td>\n",
              "      <td>0</td>\n",
              "      <td>29805</td>\n",
              "      <td>1</td>\n",
              "    </tr>\n",
              "    <tr>\n",
              "      <th>4</th>\n",
              "      <td>HR6734</td>\n",
              "      <td>33</td>\n",
              "      <td>HR</td>\n",
              "      <td>City</td>\n",
              "      <td>UG</td>\n",
              "      <td>Recruitment Agency</td>\n",
              "      <td>2</td>\n",
              "      <td>1</td>\n",
              "      <td>0</td>\n",
              "      <td>5</td>\n",
              "      <td>0</td>\n",
              "      <td>29805</td>\n",
              "      <td>1</td>\n",
              "    </tr>\n",
              "  </tbody>\n",
              "</table>\n",
              "</div>"
            ],
            "text/plain": [
              "     emp_id  age        Dept  ... certifications salary satisfied\n",
              "0    HR8270   28          HR  ...              0  86750         1\n",
              "1  TECH1860   50  Technology  ...              1  42419         0\n",
              "2  TECH6390   43  Technology  ...              0  65715         0\n",
              "3   SAL6191   44       Sales  ...              0  29805         1\n",
              "4    HR6734   33          HR  ...              0  29805         1\n",
              "\n",
              "[5 rows x 13 columns]"
            ]
          },
          "metadata": {
            "tags": []
          },
          "execution_count": 55
        }
      ]
    },
    {
      "cell_type": "markdown",
      "metadata": {
        "id": "qD3Sq9vXxH2y"
      },
      "source": [
        "## Label Encoding"
      ]
    },
    {
      "cell_type": "code",
      "metadata": {
        "id": "TpApYBUHTTPQ"
      },
      "source": [
        "satis['education'] = satis['education'].map({\n",
        "                                            'PG' : 1,\n",
        "                                            'UG' : 0})\n",
        "\n",
        "# we have to make it ordinal because postgraduate has a better education rather than undergraduate.\n",
        "# PG = 1, UG = 0"
      ],
      "execution_count": 56,
      "outputs": []
    },
    {
      "cell_type": "code",
      "metadata": {
        "id": "Aw8iSnKuwQxF",
        "outputId": "815fa88d-ae0c-408c-a2a8-b5a883e673a0",
        "colab": {
          "base_uri": "https://localhost:8080/",
          "height": 241
        }
      },
      "source": [
        "satis.head()"
      ],
      "execution_count": 57,
      "outputs": [
        {
          "output_type": "execute_result",
          "data": {
            "text/html": [
              "<div>\n",
              "<style scoped>\n",
              "    .dataframe tbody tr th:only-of-type {\n",
              "        vertical-align: middle;\n",
              "    }\n",
              "\n",
              "    .dataframe tbody tr th {\n",
              "        vertical-align: top;\n",
              "    }\n",
              "\n",
              "    .dataframe thead th {\n",
              "        text-align: right;\n",
              "    }\n",
              "</style>\n",
              "<table border=\"1\" class=\"dataframe\">\n",
              "  <thead>\n",
              "    <tr style=\"text-align: right;\">\n",
              "      <th></th>\n",
              "      <th>emp_id</th>\n",
              "      <th>age</th>\n",
              "      <th>Dept</th>\n",
              "      <th>location</th>\n",
              "      <th>education</th>\n",
              "      <th>recruitment_type</th>\n",
              "      <th>job_level</th>\n",
              "      <th>rating</th>\n",
              "      <th>onsite</th>\n",
              "      <th>awards</th>\n",
              "      <th>certifications</th>\n",
              "      <th>salary</th>\n",
              "      <th>satisfied</th>\n",
              "    </tr>\n",
              "  </thead>\n",
              "  <tbody>\n",
              "    <tr>\n",
              "      <th>0</th>\n",
              "      <td>HR8270</td>\n",
              "      <td>28</td>\n",
              "      <td>HR</td>\n",
              "      <td>Suburb</td>\n",
              "      <td>1</td>\n",
              "      <td>Referral</td>\n",
              "      <td>5</td>\n",
              "      <td>2</td>\n",
              "      <td>0</td>\n",
              "      <td>1</td>\n",
              "      <td>0</td>\n",
              "      <td>86750</td>\n",
              "      <td>1</td>\n",
              "    </tr>\n",
              "    <tr>\n",
              "      <th>1</th>\n",
              "      <td>TECH1860</td>\n",
              "      <td>50</td>\n",
              "      <td>Technology</td>\n",
              "      <td>Suburb</td>\n",
              "      <td>1</td>\n",
              "      <td>Walk-in</td>\n",
              "      <td>3</td>\n",
              "      <td>5</td>\n",
              "      <td>1</td>\n",
              "      <td>2</td>\n",
              "      <td>1</td>\n",
              "      <td>42419</td>\n",
              "      <td>0</td>\n",
              "    </tr>\n",
              "    <tr>\n",
              "      <th>2</th>\n",
              "      <td>TECH6390</td>\n",
              "      <td>43</td>\n",
              "      <td>Technology</td>\n",
              "      <td>Suburb</td>\n",
              "      <td>0</td>\n",
              "      <td>Referral</td>\n",
              "      <td>4</td>\n",
              "      <td>1</td>\n",
              "      <td>0</td>\n",
              "      <td>2</td>\n",
              "      <td>0</td>\n",
              "      <td>65715</td>\n",
              "      <td>0</td>\n",
              "    </tr>\n",
              "    <tr>\n",
              "      <th>3</th>\n",
              "      <td>SAL6191</td>\n",
              "      <td>44</td>\n",
              "      <td>Sales</td>\n",
              "      <td>City</td>\n",
              "      <td>1</td>\n",
              "      <td>On-Campus</td>\n",
              "      <td>2</td>\n",
              "      <td>3</td>\n",
              "      <td>1</td>\n",
              "      <td>0</td>\n",
              "      <td>0</td>\n",
              "      <td>29805</td>\n",
              "      <td>1</td>\n",
              "    </tr>\n",
              "    <tr>\n",
              "      <th>4</th>\n",
              "      <td>HR6734</td>\n",
              "      <td>33</td>\n",
              "      <td>HR</td>\n",
              "      <td>City</td>\n",
              "      <td>0</td>\n",
              "      <td>Recruitment Agency</td>\n",
              "      <td>2</td>\n",
              "      <td>1</td>\n",
              "      <td>0</td>\n",
              "      <td>5</td>\n",
              "      <td>0</td>\n",
              "      <td>29805</td>\n",
              "      <td>1</td>\n",
              "    </tr>\n",
              "  </tbody>\n",
              "</table>\n",
              "</div>"
            ],
            "text/plain": [
              "     emp_id  age        Dept  ... certifications  salary satisfied\n",
              "0    HR8270   28          HR  ...              0   86750         1\n",
              "1  TECH1860   50  Technology  ...              1   42419         0\n",
              "2  TECH6390   43  Technology  ...              0   65715         0\n",
              "3   SAL6191   44       Sales  ...              0   29805         1\n",
              "4    HR6734   33          HR  ...              0   29805         1\n",
              "\n",
              "[5 rows x 13 columns]"
            ]
          },
          "metadata": {
            "tags": []
          },
          "execution_count": 57
        }
      ]
    },
    {
      "cell_type": "markdown",
      "metadata": {
        "id": "fOuKeCSlyGXZ"
      },
      "source": [
        "## One Hot Encoding"
      ]
    },
    {
      "cell_type": "code",
      "metadata": {
        "id": "jQcdj_VZyH7q"
      },
      "source": [
        "satis = pd.get_dummies(satis, columns = ['Dept', 'location', 'recruitment_type'], drop_first = True)\n",
        "\n",
        "# convert nominal categorical column into with one hot encoding methods.\n",
        "# using drop_first = True to avoid dummy variable trap to reduce optimize machine learning computation\n",
        "      # ref: https://www.algosome.com/articles/dummy-variable-trap-regression.html#:~:text=The%20Dummy%20Variable%20trap%20is,%2Ffemale)%20as%20an%20example."
      ],
      "execution_count": 58,
      "outputs": []
    },
    {
      "cell_type": "code",
      "metadata": {
        "id": "Jd04gcSJyH5X",
        "outputId": "273078fd-ad07-40b9-b6b9-ac72f6e0fb91",
        "colab": {
          "base_uri": "https://localhost:8080/",
          "height": 241
        }
      },
      "source": [
        "satis.head()"
      ],
      "execution_count": 59,
      "outputs": [
        {
          "output_type": "execute_result",
          "data": {
            "text/html": [
              "<div>\n",
              "<style scoped>\n",
              "    .dataframe tbody tr th:only-of-type {\n",
              "        vertical-align: middle;\n",
              "    }\n",
              "\n",
              "    .dataframe tbody tr th {\n",
              "        vertical-align: top;\n",
              "    }\n",
              "\n",
              "    .dataframe thead th {\n",
              "        text-align: right;\n",
              "    }\n",
              "</style>\n",
              "<table border=\"1\" class=\"dataframe\">\n",
              "  <thead>\n",
              "    <tr style=\"text-align: right;\">\n",
              "      <th></th>\n",
              "      <th>emp_id</th>\n",
              "      <th>age</th>\n",
              "      <th>education</th>\n",
              "      <th>job_level</th>\n",
              "      <th>rating</th>\n",
              "      <th>onsite</th>\n",
              "      <th>awards</th>\n",
              "      <th>certifications</th>\n",
              "      <th>salary</th>\n",
              "      <th>satisfied</th>\n",
              "      <th>Dept_Marketing</th>\n",
              "      <th>Dept_Purchasing</th>\n",
              "      <th>Dept_Sales</th>\n",
              "      <th>Dept_Technology</th>\n",
              "      <th>location_Suburb</th>\n",
              "      <th>recruitment_type_Recruitment Agency</th>\n",
              "      <th>recruitment_type_Referral</th>\n",
              "      <th>recruitment_type_Walk-in</th>\n",
              "    </tr>\n",
              "  </thead>\n",
              "  <tbody>\n",
              "    <tr>\n",
              "      <th>0</th>\n",
              "      <td>HR8270</td>\n",
              "      <td>28</td>\n",
              "      <td>1</td>\n",
              "      <td>5</td>\n",
              "      <td>2</td>\n",
              "      <td>0</td>\n",
              "      <td>1</td>\n",
              "      <td>0</td>\n",
              "      <td>86750</td>\n",
              "      <td>1</td>\n",
              "      <td>0</td>\n",
              "      <td>0</td>\n",
              "      <td>0</td>\n",
              "      <td>0</td>\n",
              "      <td>1</td>\n",
              "      <td>0</td>\n",
              "      <td>1</td>\n",
              "      <td>0</td>\n",
              "    </tr>\n",
              "    <tr>\n",
              "      <th>1</th>\n",
              "      <td>TECH1860</td>\n",
              "      <td>50</td>\n",
              "      <td>1</td>\n",
              "      <td>3</td>\n",
              "      <td>5</td>\n",
              "      <td>1</td>\n",
              "      <td>2</td>\n",
              "      <td>1</td>\n",
              "      <td>42419</td>\n",
              "      <td>0</td>\n",
              "      <td>0</td>\n",
              "      <td>0</td>\n",
              "      <td>0</td>\n",
              "      <td>1</td>\n",
              "      <td>1</td>\n",
              "      <td>0</td>\n",
              "      <td>0</td>\n",
              "      <td>1</td>\n",
              "    </tr>\n",
              "    <tr>\n",
              "      <th>2</th>\n",
              "      <td>TECH6390</td>\n",
              "      <td>43</td>\n",
              "      <td>0</td>\n",
              "      <td>4</td>\n",
              "      <td>1</td>\n",
              "      <td>0</td>\n",
              "      <td>2</td>\n",
              "      <td>0</td>\n",
              "      <td>65715</td>\n",
              "      <td>0</td>\n",
              "      <td>0</td>\n",
              "      <td>0</td>\n",
              "      <td>0</td>\n",
              "      <td>1</td>\n",
              "      <td>1</td>\n",
              "      <td>0</td>\n",
              "      <td>1</td>\n",
              "      <td>0</td>\n",
              "    </tr>\n",
              "    <tr>\n",
              "      <th>3</th>\n",
              "      <td>SAL6191</td>\n",
              "      <td>44</td>\n",
              "      <td>1</td>\n",
              "      <td>2</td>\n",
              "      <td>3</td>\n",
              "      <td>1</td>\n",
              "      <td>0</td>\n",
              "      <td>0</td>\n",
              "      <td>29805</td>\n",
              "      <td>1</td>\n",
              "      <td>0</td>\n",
              "      <td>0</td>\n",
              "      <td>1</td>\n",
              "      <td>0</td>\n",
              "      <td>0</td>\n",
              "      <td>0</td>\n",
              "      <td>0</td>\n",
              "      <td>0</td>\n",
              "    </tr>\n",
              "    <tr>\n",
              "      <th>4</th>\n",
              "      <td>HR6734</td>\n",
              "      <td>33</td>\n",
              "      <td>0</td>\n",
              "      <td>2</td>\n",
              "      <td>1</td>\n",
              "      <td>0</td>\n",
              "      <td>5</td>\n",
              "      <td>0</td>\n",
              "      <td>29805</td>\n",
              "      <td>1</td>\n",
              "      <td>0</td>\n",
              "      <td>0</td>\n",
              "      <td>0</td>\n",
              "      <td>0</td>\n",
              "      <td>0</td>\n",
              "      <td>1</td>\n",
              "      <td>0</td>\n",
              "      <td>0</td>\n",
              "    </tr>\n",
              "  </tbody>\n",
              "</table>\n",
              "</div>"
            ],
            "text/plain": [
              "     emp_id  age  ...  recruitment_type_Referral  recruitment_type_Walk-in\n",
              "0    HR8270   28  ...                          1                         0\n",
              "1  TECH1860   50  ...                          0                         1\n",
              "2  TECH6390   43  ...                          1                         0\n",
              "3   SAL6191   44  ...                          0                         0\n",
              "4    HR6734   33  ...                          0                         0\n",
              "\n",
              "[5 rows x 18 columns]"
            ]
          },
          "metadata": {
            "tags": []
          },
          "execution_count": 59
        }
      ]
    },
    {
      "cell_type": "markdown",
      "metadata": {
        "id": "rlkaEdGAwqy_"
      },
      "source": [
        "## Feature Selection"
      ]
    },
    {
      "cell_type": "code",
      "metadata": {
        "id": "jUPCF82zTQu8",
        "outputId": "ad1cfacd-b0e7-4999-b152-60a4e5c7b78c",
        "colab": {
          "base_uri": "https://localhost:8080/",
          "height": 748
        }
      },
      "source": [
        "corr = satis.corr().abs()\n",
        "mask = np.triu(np.ones_like(corr, dtype = bool))\n",
        "\n",
        "plt.figure(figsize = (10,10))\n",
        "sns.heatmap(corr, mask = mask, cmap = 'coolwarm', annot = True, linewidths = 1, fmt = '.2f')\n",
        "plt.show()\n",
        "\n",
        "# we see that correlation between salary and job_level is the highest correlation\n",
        "# and we could see that each department job seems correlated each one another."
      ],
      "execution_count": 60,
      "outputs": [
        {
          "output_type": "display_data",
          "data": {
            "image/png": "[encoded data removed]",
            "text/plain": [
              "<Figure size 720x720 with 2 Axes>"
            ]
          },
          "metadata": {
            "tags": []
          }
        }
      ]
    },
    {
      "cell_type": "code",
      "metadata": {
        "id": "FgYHr8FBy40T"
      },
      "source": [
        "# since emp_id is just an unique id, we got to drop this column\n",
        "\n",
        "satis.drop('emp_id', axis = 1, inplace = True)"
      ],
      "execution_count": 61,
      "outputs": []
    },
    {
      "cell_type": "code",
      "metadata": {
        "id": "2sxhQLZnzZKN",
        "outputId": "6195d2d5-db1c-49f0-f975-b11e8e190001",
        "colab": {
          "base_uri": "https://localhost:8080/",
          "height": 241
        }
      },
      "source": [
        "satis.head()"
      ],
      "execution_count": 62,
      "outputs": [
        {
          "output_type": "execute_result",
          "data": {
            "text/html": [
              "<div>\n",
              "<style scoped>\n",
              "    .dataframe tbody tr th:only-of-type {\n",
              "        vertical-align: middle;\n",
              "    }\n",
              "\n",
              "    .dataframe tbody tr th {\n",
              "        vertical-align: top;\n",
              "    }\n",
              "\n",
              "    .dataframe thead th {\n",
              "        text-align: right;\n",
              "    }\n",
              "</style>\n",
              "<table border=\"1\" class=\"dataframe\">\n",
              "  <thead>\n",
              "    <tr style=\"text-align: right;\">\n",
              "      <th></th>\n",
              "      <th>age</th>\n",
              "      <th>education</th>\n",
              "      <th>job_level</th>\n",
              "      <th>rating</th>\n",
              "      <th>onsite</th>\n",
              "      <th>awards</th>\n",
              "      <th>certifications</th>\n",
              "      <th>salary</th>\n",
              "      <th>satisfied</th>\n",
              "      <th>Dept_Marketing</th>\n",
              "      <th>Dept_Purchasing</th>\n",
              "      <th>Dept_Sales</th>\n",
              "      <th>Dept_Technology</th>\n",
              "      <th>location_Suburb</th>\n",
              "      <th>recruitment_type_Recruitment Agency</th>\n",
              "      <th>recruitment_type_Referral</th>\n",
              "      <th>recruitment_type_Walk-in</th>\n",
              "    </tr>\n",
              "  </thead>\n",
              "  <tbody>\n",
              "    <tr>\n",
              "      <th>0</th>\n",
              "      <td>28</td>\n",
              "      <td>1</td>\n",
              "      <td>5</td>\n",
              "      <td>2</td>\n",
              "      <td>0</td>\n",
              "      <td>1</td>\n",
              "      <td>0</td>\n",
              "      <td>86750</td>\n",
              "      <td>1</td>\n",
              "      <td>0</td>\n",
              "      <td>0</td>\n",
              "      <td>0</td>\n",
              "      <td>0</td>\n",
              "      <td>1</td>\n",
              "      <td>0</td>\n",
              "      <td>1</td>\n",
              "      <td>0</td>\n",
              "    </tr>\n",
              "    <tr>\n",
              "      <th>1</th>\n",
              "      <td>50</td>\n",
              "      <td>1</td>\n",
              "      <td>3</td>\n",
              "      <td>5</td>\n",
              "      <td>1</td>\n",
              "      <td>2</td>\n",
              "      <td>1</td>\n",
              "      <td>42419</td>\n",
              "      <td>0</td>\n",
              "      <td>0</td>\n",
              "      <td>0</td>\n",
              "      <td>0</td>\n",
              "      <td>1</td>\n",
              "      <td>1</td>\n",
              "      <td>0</td>\n",
              "      <td>0</td>\n",
              "      <td>1</td>\n",
              "    </tr>\n",
              "    <tr>\n",
              "      <th>2</th>\n",
              "      <td>43</td>\n",
              "      <td>0</td>\n",
              "      <td>4</td>\n",
              "      <td>1</td>\n",
              "      <td>0</td>\n",
              "      <td>2</td>\n",
              "      <td>0</td>\n",
              "      <td>65715</td>\n",
              "      <td>0</td>\n",
              "      <td>0</td>\n",
              "      <td>0</td>\n",
              "      <td>0</td>\n",
              "      <td>1</td>\n",
              "      <td>1</td>\n",
              "      <td>0</td>\n",
              "      <td>1</td>\n",
              "      <td>0</td>\n",
              "    </tr>\n",
              "    <tr>\n",
              "      <th>3</th>\n",
              "      <td>44</td>\n",
              "      <td>1</td>\n",
              "      <td>2</td>\n",
              "      <td>3</td>\n",
              "      <td>1</td>\n",
              "      <td>0</td>\n",
              "      <td>0</td>\n",
              "      <td>29805</td>\n",
              "      <td>1</td>\n",
              "      <td>0</td>\n",
              "      <td>0</td>\n",
              "      <td>1</td>\n",
              "      <td>0</td>\n",
              "      <td>0</td>\n",
              "      <td>0</td>\n",
              "      <td>0</td>\n",
              "      <td>0</td>\n",
              "    </tr>\n",
              "    <tr>\n",
              "      <th>4</th>\n",
              "      <td>33</td>\n",
              "      <td>0</td>\n",
              "      <td>2</td>\n",
              "      <td>1</td>\n",
              "      <td>0</td>\n",
              "      <td>5</td>\n",
              "      <td>0</td>\n",
              "      <td>29805</td>\n",
              "      <td>1</td>\n",
              "      <td>0</td>\n",
              "      <td>0</td>\n",
              "      <td>0</td>\n",
              "      <td>0</td>\n",
              "      <td>0</td>\n",
              "      <td>1</td>\n",
              "      <td>0</td>\n",
              "      <td>0</td>\n",
              "    </tr>\n",
              "  </tbody>\n",
              "</table>\n",
              "</div>"
            ],
            "text/plain": [
              "   age  education  ...  recruitment_type_Referral  recruitment_type_Walk-in\n",
              "0   28          1  ...                          1                         0\n",
              "1   50          1  ...                          0                         1\n",
              "2   43          0  ...                          1                         0\n",
              "3   44          1  ...                          0                         0\n",
              "4   33          0  ...                          0                         0\n",
              "\n",
              "[5 rows x 17 columns]"
            ]
          },
          "metadata": {
            "tags": []
          },
          "execution_count": 62
        }
      ]
    },
    {
      "cell_type": "code",
      "metadata": {
        "id": "6deNGNWx7kVW"
      },
      "source": [
        "satis_feat = satis[['age', 'education', 'job_level', 'rating', 'onsite',\n",
        "       'certifications', 'salary', 'satisfied', 'Dept_Marketing',\n",
        "       'Dept_Purchasing', 'Dept_Technology',\n",
        "       'recruitment_type_Recruitment Agency', 'recruitment_type_Referral',\n",
        "       'recruitment_type_Walk-in']]\n",
        "\n",
        "# Selecting features based on Correlation and LogReg's Coefficient"
      ],
      "execution_count": 79,
      "outputs": []
    },
    {
      "cell_type": "code",
      "metadata": {
        "id": "0Q06TpME0CHi"
      },
      "source": [
        "X = satis_feat.drop(['satisfied'], axis = 1)\n",
        "y = satis_feat['satisfied']"
      ],
      "execution_count": 80,
      "outputs": []
    },
    {
      "cell_type": "markdown",
      "metadata": {
        "id": "c0rkMKp-wZNR"
      },
      "source": [
        "## Splitting Data"
      ]
    },
    {
      "cell_type": "code",
      "metadata": {
        "id": "vGPjqzvBwQ8C"
      },
      "source": [
        "X_train, X_test, y_train, y_test = train_test_split(X, y, test_size = 0.2, stratify = y)"
      ],
      "execution_count": 81,
      "outputs": []
    },
    {
      "cell_type": "markdown",
      "metadata": {
        "id": "-G3_pfy10cJP"
      },
      "source": [
        "## Scaling the Features\n",
        "We do scaling because there's a feature like `salary` has different ranges with other features."
      ]
    },
    {
      "cell_type": "code",
      "metadata": {
        "id": "LX6zO75-wRAC"
      },
      "source": [
        "scaler = RobustScaler()"
      ],
      "execution_count": 82,
      "outputs": []
    },
    {
      "cell_type": "code",
      "metadata": {
        "id": "3fBW__Js0hjm"
      },
      "source": [
        "X_train_sc = scaler.fit_transform(X_train)\n",
        "X_test_sc = scaler.transform(X_test)"
      ],
      "execution_count": 83,
      "outputs": []
    },
    {
      "cell_type": "markdown",
      "metadata": {
        "id": "Fi7njdFETTok"
      },
      "source": [
        "# 9) Machine Learning Modelling"
      ]
    },
    {
      "cell_type": "code",
      "metadata": {
        "id": "SS-McCfIi2DC"
      },
      "source": [
        "from sklearn.linear_model import LogisticRegression\n",
        "from sklearn.neighbors import KNeighborsClassifier\n",
        "from sklearn.svm import SVC\n",
        "from sklearn.tree import DecisionTreeClassifier\n",
        "from sklearn.ensemble import RandomForestClassifier, GradientBoostingClassifier\n",
        "\n",
        "from sklearn.metrics import confusion_matrix, classification_report, accuracy_score, precision_score, recall_score, f1_score"
      ],
      "execution_count": 84,
      "outputs": []
    },
    {
      "cell_type": "markdown",
      "metadata": {
        "id": "Dyk2-Xe2HIrD"
      },
      "source": [
        "## Logistic Regression"
      ]
    },
    {
      "cell_type": "code",
      "metadata": {
        "id": "NPfgOLLB9X1M",
        "outputId": "95fa58a1-09c8-487c-acd6-0813f514e348",
        "colab": {
          "base_uri": "https://localhost:8080/"
        }
      },
      "source": [
        "print(f\"There are {len(X_train)} rows in X_train.\")\n",
        "print(f\"There are {len(y_train)} rows in y_train\")\n",
        "print(f\"There are {len(X_test)} rows in X_test.\")\n",
        "print(f\"There are {len(y_test)} rows in y_test\")\n",
        "\n",
        "print(f\"There are {len(X_train_sc)} rows in X_train_sc.\")\n",
        "print(f\"There are {len(X_test_sc)} rows in X_test_sc\")\n"
      ],
      "execution_count": 85,
      "outputs": [
        {
          "output_type": "stream",
          "text": [
            "There are 400 rows in X_train.\n",
            "There are 400 rows in y_train\n",
            "There are 100 rows in X_test.\n",
            "There are 100 rows in y_test\n",
            "There are 400 rows in X_train_sc.\n",
            "There are 100 rows in X_test_sc\n"
          ],
          "name": "stdout"
        }
      ]
    },
    {
      "cell_type": "code",
      "metadata": {
        "id": "3Sc9qj_tHMss"
      },
      "source": [
        "lr = LogisticRegression()"
      ],
      "execution_count": 86,
      "outputs": []
    },
    {
      "cell_type": "code",
      "metadata": {
        "id": "HXCnV0P7HMqc",
        "outputId": "54c52cd7-a3eb-4ec5-d475-292bf2d2995f",
        "colab": {
          "base_uri": "https://localhost:8080/"
        }
      },
      "source": [
        "lr.fit(X_train_sc, y_train)"
      ],
      "execution_count": 87,
      "outputs": [
        {
          "output_type": "execute_result",
          "data": {
            "text/plain": [
              "LogisticRegression(C=1.0, class_weight=None, dual=False, fit_intercept=True,\n",
              "                   intercept_scaling=1, l1_ratio=None, max_iter=100,\n",
              "                   multi_class='auto', n_jobs=None, penalty='l2',\n",
              "                   random_state=None, solver='lbfgs', tol=0.0001, verbose=0,\n",
              "                   warm_start=False)"
            ]
          },
          "metadata": {
            "tags": []
          },
          "execution_count": 87
        }
      ]
    },
    {
      "cell_type": "code",
      "metadata": {
        "id": "msXmFwy_HMnh"
      },
      "source": [
        "pred_lr = lr.predict(X_test_sc)"
      ],
      "execution_count": 88,
      "outputs": []
    },
    {
      "cell_type": "code",
      "metadata": {
        "id": "cMk08kcJ2Xat",
        "outputId": "cc83f643-9008-49e4-d1d2-b3ff7129a18d",
        "colab": {
          "base_uri": "https://localhost:8080/",
          "height": 80
        }
      },
      "source": [
        "# OVERFIT/UNDERFIT CHECK\n",
        "\n",
        "fit_lr = pd.DataFrame(data = {\n",
        "    \"Training\" : lr.score(X_train_sc, y_train),\n",
        "    \"Testing\"  : lr.score(X_test_sc, y_test)\n",
        "}, index = ['Logistic Regression'])\n",
        "\n",
        "fit_lr"
      ],
      "execution_count": 89,
      "outputs": [
        {
          "output_type": "execute_result",
          "data": {
            "text/html": [
              "<div>\n",
              "<style scoped>\n",
              "    .dataframe tbody tr th:only-of-type {\n",
              "        vertical-align: middle;\n",
              "    }\n",
              "\n",
              "    .dataframe tbody tr th {\n",
              "        vertical-align: top;\n",
              "    }\n",
              "\n",
              "    .dataframe thead th {\n",
              "        text-align: right;\n",
              "    }\n",
              "</style>\n",
              "<table border=\"1\" class=\"dataframe\">\n",
              "  <thead>\n",
              "    <tr style=\"text-align: right;\">\n",
              "      <th></th>\n",
              "      <th>Training</th>\n",
              "      <th>Testing</th>\n",
              "    </tr>\n",
              "  </thead>\n",
              "  <tbody>\n",
              "    <tr>\n",
              "      <th>Logistic Regression</th>\n",
              "      <td>0.5775</td>\n",
              "      <td>0.5</td>\n",
              "    </tr>\n",
              "  </tbody>\n",
              "</table>\n",
              "</div>"
            ],
            "text/plain": [
              "                     Training  Testing\n",
              "Logistic Regression    0.5775      0.5"
            ]
          },
          "metadata": {
            "tags": []
          },
          "execution_count": 89
        }
      ]
    },
    {
      "cell_type": "code",
      "metadata": {
        "id": "O8sow7Xm1-0N",
        "outputId": "672b0442-f57e-4669-fad8-d52b06823358",
        "colab": {
          "base_uri": "https://localhost:8080/"
        }
      },
      "source": [
        "print(classification_report(y_test, pred_lr))"
      ],
      "execution_count": 90,
      "outputs": [
        {
          "output_type": "stream",
          "text": [
            "              precision    recall  f1-score   support\n",
            "\n",
            "           0       0.47      0.47      0.47        47\n",
            "           1       0.53      0.53      0.53        53\n",
            "\n",
            "    accuracy                           0.50       100\n",
            "   macro avg       0.50      0.50      0.50       100\n",
            "weighted avg       0.50      0.50      0.50       100\n",
            "\n"
          ],
          "name": "stdout"
        }
      ]
    },
    {
      "cell_type": "code",
      "metadata": {
        "id": "ZrNxDVOMHMjI",
        "outputId": "8cb1cb6c-63a4-41ff-aada-613b7d02ec15",
        "colab": {
          "base_uri": "https://localhost:8080/",
          "height": 266
        }
      },
      "source": [
        "lr_cmx = confusion_matrix(y_test, pred_lr, labels = [1,0])\n",
        "lr_cm = pd.DataFrame(data = lr_cmx,  columns = ['Prediction 1', 'Prediction 0'], index = ['Aktual 1', 'Aktual 0'])\n",
        "sns.heatmap(lr_cm, annot = True, cmap = 'bone')\n",
        "plt.style.use('seaborn-whitegrid')\n",
        "plt.show()"
      ],
      "execution_count": 91,
      "outputs": [
        {
          "output_type": "display_data",
          "data": {
            "image/png": "[encoded data removed]",
            "text/plain": [
              "<Figure size 432x288 with 2 Axes>"
            ]
          },
          "metadata": {
            "tags": []
          }
        }
      ]
    },
    {
      "cell_type": "code",
      "metadata": {
        "id": "NfPwlGtotO5O",
        "outputId": "11253d50-1fcb-4e41-b00f-ccefcd61a5e3",
        "colab": {
          "base_uri": "https://localhost:8080/",
          "height": 111
        }
      },
      "source": [
        "tp_lr = lr_cm['Prediction 1'][0]\n",
        "tn_lr = lr_cm['Prediction 0'][1]\n",
        "fp_lr = lr_cm['Prediction 1'][1]\n",
        "fn_lr = lr_cm['Prediction 0'][0]\n",
        "\n",
        "lr_cm"
      ],
      "execution_count": 92,
      "outputs": [
        {
          "output_type": "execute_result",
          "data": {
            "text/html": [
              "<div>\n",
              "<style scoped>\n",
              "    .dataframe tbody tr th:only-of-type {\n",
              "        vertical-align: middle;\n",
              "    }\n",
              "\n",
              "    .dataframe tbody tr th {\n",
              "        vertical-align: top;\n",
              "    }\n",
              "\n",
              "    .dataframe thead th {\n",
              "        text-align: right;\n",
              "    }\n",
              "</style>\n",
              "<table border=\"1\" class=\"dataframe\">\n",
              "  <thead>\n",
              "    <tr style=\"text-align: right;\">\n",
              "      <th></th>\n",
              "      <th>Prediction 1</th>\n",
              "      <th>Prediction 0</th>\n",
              "    </tr>\n",
              "  </thead>\n",
              "  <tbody>\n",
              "    <tr>\n",
              "      <th>Aktual 1</th>\n",
              "      <td>28</td>\n",
              "      <td>25</td>\n",
              "    </tr>\n",
              "    <tr>\n",
              "      <th>Aktual 0</th>\n",
              "      <td>25</td>\n",
              "      <td>22</td>\n",
              "    </tr>\n",
              "  </tbody>\n",
              "</table>\n",
              "</div>"
            ],
            "text/plain": [
              "          Prediction 1  Prediction 0\n",
              "Aktual 1            28            25\n",
              "Aktual 0            25            22"
            ]
          },
          "metadata": {
            "tags": []
          },
          "execution_count": 92
        }
      ]
    },
    {
      "cell_type": "code",
      "metadata": {
        "id": "3dpOQRYTHMli"
      },
      "source": [
        "acc_logreg = accuracy_score(y_test, pred_lr)\n",
        "# prec_logreg = precision_score(y_test, pred_lr)\n",
        "# rec_logreg = recall_score(y_test, pred_lr)\n",
        "# f1_logreg = f1_score(y_test, pred_lr)"
      ],
      "execution_count": 93,
      "outputs": []
    },
    {
      "cell_type": "code",
      "metadata": {
        "id": "uTm-_Wpr3LtQ",
        "outputId": "83bdb8f3-0553-4229-9892-7a6b9a2c9078",
        "colab": {
          "base_uri": "https://localhost:8080/"
        }
      },
      "source": [
        "lr.coef_[0].mean()"
      ],
      "execution_count": 94,
      "outputs": [
        {
          "output_type": "execute_result",
          "data": {
            "text/plain": [
              "0.07399581347893064"
            ]
          },
          "metadata": {
            "tags": []
          },
          "execution_count": 94
        }
      ]
    },
    {
      "cell_type": "code",
      "metadata": {
        "id": "j5FqeH_N0g1K",
        "outputId": "b92a28a9-5eb5-4b64-8a02-1499afc35b2d",
        "colab": {
          "base_uri": "https://localhost:8080/",
          "height": 452
        }
      },
      "source": [
        "# Finding Features that contribute little to a model\n",
        "\n",
        "lr_coef = dict(zip(X.columns, abs(lr.coef_[0])))\n",
        "pd.DataFrame.from_dict(data = lr_coef, orient = 'index', columns=['Coef']).sort_values(by = 'Coef', ascending = False)"
      ],
      "execution_count": 95,
      "outputs": [
        {
          "output_type": "execute_result",
          "data": {
            "text/html": [
              "<div>\n",
              "<style scoped>\n",
              "    .dataframe tbody tr th:only-of-type {\n",
              "        vertical-align: middle;\n",
              "    }\n",
              "\n",
              "    .dataframe tbody tr th {\n",
              "        vertical-align: top;\n",
              "    }\n",
              "\n",
              "    .dataframe thead th {\n",
              "        text-align: right;\n",
              "    }\n",
              "</style>\n",
              "<table border=\"1\" class=\"dataframe\">\n",
              "  <thead>\n",
              "    <tr style=\"text-align: right;\">\n",
              "      <th></th>\n",
              "      <th>Coef</th>\n",
              "    </tr>\n",
              "  </thead>\n",
              "  <tbody>\n",
              "    <tr>\n",
              "      <th>salary</th>\n",
              "      <td>0.586960</td>\n",
              "    </tr>\n",
              "    <tr>\n",
              "      <th>job_level</th>\n",
              "      <td>0.458778</td>\n",
              "    </tr>\n",
              "    <tr>\n",
              "      <th>rating</th>\n",
              "      <td>0.354013</td>\n",
              "    </tr>\n",
              "    <tr>\n",
              "      <th>Dept_Purchasing</th>\n",
              "      <td>0.301246</td>\n",
              "    </tr>\n",
              "    <tr>\n",
              "      <th>Dept_Marketing</th>\n",
              "      <td>0.175834</td>\n",
              "    </tr>\n",
              "    <tr>\n",
              "      <th>age</th>\n",
              "      <td>0.154477</td>\n",
              "    </tr>\n",
              "    <tr>\n",
              "      <th>onsite</th>\n",
              "      <td>0.121964</td>\n",
              "    </tr>\n",
              "    <tr>\n",
              "      <th>education</th>\n",
              "      <td>0.116044</td>\n",
              "    </tr>\n",
              "    <tr>\n",
              "      <th>recruitment_type_Recruitment Agency</th>\n",
              "      <td>0.110715</td>\n",
              "    </tr>\n",
              "    <tr>\n",
              "      <th>certifications</th>\n",
              "      <td>0.066427</td>\n",
              "    </tr>\n",
              "    <tr>\n",
              "      <th>recruitment_type_Referral</th>\n",
              "      <td>0.034681</td>\n",
              "    </tr>\n",
              "    <tr>\n",
              "      <th>Dept_Technology</th>\n",
              "      <td>0.024687</td>\n",
              "    </tr>\n",
              "    <tr>\n",
              "      <th>recruitment_type_Walk-in</th>\n",
              "      <td>0.023068</td>\n",
              "    </tr>\n",
              "  </tbody>\n",
              "</table>\n",
              "</div>"
            ],
            "text/plain": [
              "                                         Coef\n",
              "salary                               0.586960\n",
              "job_level                            0.458778\n",
              "rating                               0.354013\n",
              "Dept_Purchasing                      0.301246\n",
              "Dept_Marketing                       0.175834\n",
              "age                                  0.154477\n",
              "onsite                               0.121964\n",
              "education                            0.116044\n",
              "recruitment_type_Recruitment Agency  0.110715\n",
              "certifications                       0.066427\n",
              "recruitment_type_Referral            0.034681\n",
              "Dept_Technology                      0.024687\n",
              "recruitment_type_Walk-in             0.023068"
            ]
          },
          "metadata": {
            "tags": []
          },
          "execution_count": 95
        }
      ]
    },
    {
      "cell_type": "markdown",
      "metadata": {
        "id": "QopHAoDaqBtj"
      },
      "source": [
        "## Random Forest"
      ]
    },
    {
      "cell_type": "code",
      "metadata": {
        "id": "uHVBrgf33Wn5"
      },
      "source": [
        "rf = RandomForestClassifier()"
      ],
      "execution_count": 96,
      "outputs": []
    },
    {
      "cell_type": "code",
      "metadata": {
        "id": "L55V_dGo3Wn9",
        "outputId": "664cc681-3a42-4d2c-cb2b-3c9f309e64bc",
        "colab": {
          "base_uri": "https://localhost:8080/"
        }
      },
      "source": [
        "rf.fit(X_train, y_train)"
      ],
      "execution_count": 97,
      "outputs": [
        {
          "output_type": "execute_result",
          "data": {
            "text/plain": [
              "RandomForestClassifier(bootstrap=True, ccp_alpha=0.0, class_weight=None,\n",
              "                       criterion='gini', max_depth=None, max_features='auto',\n",
              "                       max_leaf_nodes=None, max_samples=None,\n",
              "                       min_impurity_decrease=0.0, min_impurity_split=None,\n",
              "                       min_samples_leaf=1, min_samples_split=2,\n",
              "                       min_weight_fraction_leaf=0.0, n_estimators=100,\n",
              "                       n_jobs=None, oob_score=False, random_state=None,\n",
              "                       verbose=0, warm_start=False)"
            ]
          },
          "metadata": {
            "tags": []
          },
          "execution_count": 97
        }
      ]
    },
    {
      "cell_type": "code",
      "metadata": {
        "id": "0Hwnkklk3WoA"
      },
      "source": [
        "pred_rf = rf.predict(X_test)"
      ],
      "execution_count": 98,
      "outputs": []
    },
    {
      "cell_type": "code",
      "metadata": {
        "id": "GixhbMFv3WoC",
        "outputId": "d5048a73-42b7-42bb-9e21-8c830ffff4f6",
        "colab": {
          "base_uri": "https://localhost:8080/",
          "height": 80
        }
      },
      "source": [
        "# OVERFIT/UNDERFIT CHECK\n",
        "\n",
        "fit_rf = pd.DataFrame(data = {\n",
        "    \"Training\" : rf.score(X_train, y_train),\n",
        "    \"Testing\"  : rf.score(X_test, y_test)\n",
        "}, index = ['Random Forest'])\n",
        "\n",
        "fit_rf\n"
      ],
      "execution_count": 99,
      "outputs": [
        {
          "output_type": "execute_result",
          "data": {
            "text/html": [
              "<div>\n",
              "<style scoped>\n",
              "    .dataframe tbody tr th:only-of-type {\n",
              "        vertical-align: middle;\n",
              "    }\n",
              "\n",
              "    .dataframe tbody tr th {\n",
              "        vertical-align: top;\n",
              "    }\n",
              "\n",
              "    .dataframe thead th {\n",
              "        text-align: right;\n",
              "    }\n",
              "</style>\n",
              "<table border=\"1\" class=\"dataframe\">\n",
              "  <thead>\n",
              "    <tr style=\"text-align: right;\">\n",
              "      <th></th>\n",
              "      <th>Training</th>\n",
              "      <th>Testing</th>\n",
              "    </tr>\n",
              "  </thead>\n",
              "  <tbody>\n",
              "    <tr>\n",
              "      <th>Random Forest</th>\n",
              "      <td>1.0</td>\n",
              "      <td>0.54</td>\n",
              "    </tr>\n",
              "  </tbody>\n",
              "</table>\n",
              "</div>"
            ],
            "text/plain": [
              "               Training  Testing\n",
              "Random Forest       1.0     0.54"
            ]
          },
          "metadata": {
            "tags": []
          },
          "execution_count": 99
        }
      ]
    },
    {
      "cell_type": "code",
      "metadata": {
        "id": "d_uEkh2Q3WoK",
        "outputId": "6cdcabb8-5c52-403e-df44-8e94c30dca2f",
        "colab": {
          "base_uri": "https://localhost:8080/",
          "height": 266
        }
      },
      "source": [
        "rf_cm = confusion_matrix(y_test, pred_rf, labels = [1,0])\n",
        "rf_cm_df = pd.DataFrame(data = rf_cm,  columns = ['Prediction 1', 'Prediction 0'], index = ['Actual 1', 'Actual 0'])\n",
        "\n",
        "sns.heatmap(rf_cm_df, annot = True, cmap = 'bone')\n",
        "plt.style.use('seaborn-whitegrid')\n",
        "plt.show()"
      ],
      "execution_count": 100,
      "outputs": [
        {
          "output_type": "display_data",
          "data": {
            "image/png": "[encoded data removed]",
            "text/plain": [
              "<Figure size 432x288 with 2 Axes>"
            ]
          },
          "metadata": {
            "tags": []
          }
        }
      ]
    },
    {
      "cell_type": "code",
      "metadata": {
        "id": "GY9cipMF3WoM",
        "outputId": "ffadcc33-5158-46b8-f703-e6cb06dd9c7b",
        "colab": {
          "base_uri": "https://localhost:8080/",
          "height": 111
        }
      },
      "source": [
        "tp_rf = rf_cm_df['Prediction 1'][0]\n",
        "tn_rf = rf_cm_df['Prediction 0'][1]\n",
        "fp_rf = rf_cm_df['Prediction 1'][1]\n",
        "fn_rf = rf_cm_df['Prediction 0'][0]\n",
        "\n",
        "rf_cm_df\n"
      ],
      "execution_count": 101,
      "outputs": [
        {
          "output_type": "execute_result",
          "data": {
            "text/html": [
              "<div>\n",
              "<style scoped>\n",
              "    .dataframe tbody tr th:only-of-type {\n",
              "        vertical-align: middle;\n",
              "    }\n",
              "\n",
              "    .dataframe tbody tr th {\n",
              "        vertical-align: top;\n",
              "    }\n",
              "\n",
              "    .dataframe thead th {\n",
              "        text-align: right;\n",
              "    }\n",
              "</style>\n",
              "<table border=\"1\" class=\"dataframe\">\n",
              "  <thead>\n",
              "    <tr style=\"text-align: right;\">\n",
              "      <th></th>\n",
              "      <th>Prediction 1</th>\n",
              "      <th>Prediction 0</th>\n",
              "    </tr>\n",
              "  </thead>\n",
              "  <tbody>\n",
              "    <tr>\n",
              "      <th>Actual 1</th>\n",
              "      <td>27</td>\n",
              "      <td>26</td>\n",
              "    </tr>\n",
              "    <tr>\n",
              "      <th>Actual 0</th>\n",
              "      <td>20</td>\n",
              "      <td>27</td>\n",
              "    </tr>\n",
              "  </tbody>\n",
              "</table>\n",
              "</div>"
            ],
            "text/plain": [
              "          Prediction 1  Prediction 0\n",
              "Actual 1            27            26\n",
              "Actual 0            20            27"
            ]
          },
          "metadata": {
            "tags": []
          },
          "execution_count": 101
        }
      ]
    },
    {
      "cell_type": "code",
      "metadata": {
        "id": "kKWtFcqv3WoH",
        "outputId": "fe672a75-f41b-42f3-ca27-f1a2074fdee7",
        "colab": {
          "base_uri": "https://localhost:8080/"
        }
      },
      "source": [
        "print(classification_report(y_test, pred_rf))"
      ],
      "execution_count": 102,
      "outputs": [
        {
          "output_type": "stream",
          "text": [
            "              precision    recall  f1-score   support\n",
            "\n",
            "           0       0.51      0.57      0.54        47\n",
            "           1       0.57      0.51      0.54        53\n",
            "\n",
            "    accuracy                           0.54       100\n",
            "   macro avg       0.54      0.54      0.54       100\n",
            "weighted avg       0.54      0.54      0.54       100\n",
            "\n"
          ],
          "name": "stdout"
        }
      ]
    },
    {
      "cell_type": "code",
      "metadata": {
        "id": "tLZZr0Pb3WoQ"
      },
      "source": [
        "acc_rf = accuracy_score(y_test, pred_rf)\n",
        "# prec_rf = precision_score(y_test, pred_rf)\n",
        "# rec_rf = recall_score(y_test, pred_rf)\n",
        "# f1_rf = f1_score(y_test, pred_rf)"
      ],
      "execution_count": 103,
      "outputs": []
    },
    {
      "cell_type": "markdown",
      "metadata": {
        "id": "Tgr-6-aO42tH"
      },
      "source": [
        "## Support Vector Machine"
      ]
    },
    {
      "cell_type": "code",
      "metadata": {
        "id": "GiiUvsdq42tJ"
      },
      "source": [
        "sv = SVC()"
      ],
      "execution_count": 104,
      "outputs": []
    },
    {
      "cell_type": "code",
      "metadata": {
        "id": "ha-FiDoG42tN",
        "outputId": "76b7dba3-45c1-4871-ed16-1bd99d389c59",
        "colab": {
          "base_uri": "https://localhost:8080/"
        }
      },
      "source": [
        "sv.fit(X_train_sc, y_train)"
      ],
      "execution_count": 105,
      "outputs": [
        {
          "output_type": "execute_result",
          "data": {
            "text/plain": [
              "SVC(C=1.0, break_ties=False, cache_size=200, class_weight=None, coef0=0.0,\n",
              "    decision_function_shape='ovr', degree=3, gamma='scale', kernel='rbf',\n",
              "    max_iter=-1, probability=False, random_state=None, shrinking=True,\n",
              "    tol=0.001, verbose=False)"
            ]
          },
          "metadata": {
            "tags": []
          },
          "execution_count": 105
        }
      ]
    },
    {
      "cell_type": "code",
      "metadata": {
        "id": "hMCNVjyf42tR"
      },
      "source": [
        "pred_sv = sv.predict(X_test_sc)"
      ],
      "execution_count": 106,
      "outputs": []
    },
    {
      "cell_type": "code",
      "metadata": {
        "id": "3UCA1D5A42tT",
        "outputId": "533c2ad1-ca40-48f7-aa8b-5c2fae51804f",
        "colab": {
          "base_uri": "https://localhost:8080/",
          "height": 80
        }
      },
      "source": [
        "# OVERFIT/UNDERFIT CHECK\n",
        "\n",
        "fit_sv = pd.DataFrame(data = {\n",
        "    \"Training\" : sv.score(X_train_sc, y_train),\n",
        "    \"Testing\"  : sv.score(X_test_sc, y_test)\n",
        "}, index = ['SVC'])\n",
        "\n",
        "fit_sv\n"
      ],
      "execution_count": 107,
      "outputs": [
        {
          "output_type": "execute_result",
          "data": {
            "text/html": [
              "<div>\n",
              "<style scoped>\n",
              "    .dataframe tbody tr th:only-of-type {\n",
              "        vertical-align: middle;\n",
              "    }\n",
              "\n",
              "    .dataframe tbody tr th {\n",
              "        vertical-align: top;\n",
              "    }\n",
              "\n",
              "    .dataframe thead th {\n",
              "        text-align: right;\n",
              "    }\n",
              "</style>\n",
              "<table border=\"1\" class=\"dataframe\">\n",
              "  <thead>\n",
              "    <tr style=\"text-align: right;\">\n",
              "      <th></th>\n",
              "      <th>Training</th>\n",
              "      <th>Testing</th>\n",
              "    </tr>\n",
              "  </thead>\n",
              "  <tbody>\n",
              "    <tr>\n",
              "      <th>SVC</th>\n",
              "      <td>0.725</td>\n",
              "      <td>0.54</td>\n",
              "    </tr>\n",
              "  </tbody>\n",
              "</table>\n",
              "</div>"
            ],
            "text/plain": [
              "     Training  Testing\n",
              "SVC     0.725     0.54"
            ]
          },
          "metadata": {
            "tags": []
          },
          "execution_count": 107
        }
      ]
    },
    {
      "cell_type": "code",
      "metadata": {
        "id": "csKcE0gw42tW",
        "outputId": "937fd9db-57f3-4681-ca09-857e13134f1d",
        "colab": {
          "base_uri": "https://localhost:8080/",
          "height": 266
        }
      },
      "source": [
        "sv_cm = confusion_matrix(y_test, pred_sv, labels = [1,0])\n",
        "sv_cm_df = pd.DataFrame(data = sv_cm,  columns = ['Prediction 1', 'Prediction 0'], index = ['Actual 1', 'Actual 0'])\n",
        "\n",
        "sns.heatmap(sv_cm_df, annot = True, cmap = 'bone')\n",
        "plt.style.use('seaborn-whitegrid')\n",
        "plt.show()"
      ],
      "execution_count": 108,
      "outputs": [
        {
          "output_type": "display_data",
          "data": {
            "image/png": "[encoded data removed]",
            "text/plain": [
              "<Figure size 432x288 with 2 Axes>"
            ]
          },
          "metadata": {
            "tags": []
          }
        }
      ]
    },
    {
      "cell_type": "code",
      "metadata": {
        "id": "fKBsdX4_42tY",
        "outputId": "bb594606-2983-4250-a9d0-b4aa9a6968b2",
        "colab": {
          "base_uri": "https://localhost:8080/",
          "height": 111
        }
      },
      "source": [
        "tp_sv = sv_cm_df['Prediction 1'][0]\n",
        "tn_sv = sv_cm_df['Prediction 0'][1]\n",
        "fp_sv = sv_cm_df['Prediction 1'][1]\n",
        "fn_sv = sv_cm_df['Prediction 0'][0]\n",
        "\n",
        "sv_cm_df"
      ],
      "execution_count": 109,
      "outputs": [
        {
          "output_type": "execute_result",
          "data": {
            "text/html": [
              "<div>\n",
              "<style scoped>\n",
              "    .dataframe tbody tr th:only-of-type {\n",
              "        vertical-align: middle;\n",
              "    }\n",
              "\n",
              "    .dataframe tbody tr th {\n",
              "        vertical-align: top;\n",
              "    }\n",
              "\n",
              "    .dataframe thead th {\n",
              "        text-align: right;\n",
              "    }\n",
              "</style>\n",
              "<table border=\"1\" class=\"dataframe\">\n",
              "  <thead>\n",
              "    <tr style=\"text-align: right;\">\n",
              "      <th></th>\n",
              "      <th>Prediction 1</th>\n",
              "      <th>Prediction 0</th>\n",
              "    </tr>\n",
              "  </thead>\n",
              "  <tbody>\n",
              "    <tr>\n",
              "      <th>Actual 1</th>\n",
              "      <td>31</td>\n",
              "      <td>22</td>\n",
              "    </tr>\n",
              "    <tr>\n",
              "      <th>Actual 0</th>\n",
              "      <td>24</td>\n",
              "      <td>23</td>\n",
              "    </tr>\n",
              "  </tbody>\n",
              "</table>\n",
              "</div>"
            ],
            "text/plain": [
              "          Prediction 1  Prediction 0\n",
              "Actual 1            31            22\n",
              "Actual 0            24            23"
            ]
          },
          "metadata": {
            "tags": []
          },
          "execution_count": 109
        }
      ]
    },
    {
      "cell_type": "code",
      "metadata": {
        "id": "aR6c5tq342tf",
        "outputId": "27864405-dbff-4025-cd28-b4e2a04aae1a",
        "colab": {
          "base_uri": "https://localhost:8080/"
        }
      },
      "source": [
        "print(classification_report(y_test, pred_sv))"
      ],
      "execution_count": 110,
      "outputs": [
        {
          "output_type": "stream",
          "text": [
            "              precision    recall  f1-score   support\n",
            "\n",
            "           0       0.51      0.49      0.50        47\n",
            "           1       0.56      0.58      0.57        53\n",
            "\n",
            "    accuracy                           0.54       100\n",
            "   macro avg       0.54      0.54      0.54       100\n",
            "weighted avg       0.54      0.54      0.54       100\n",
            "\n"
          ],
          "name": "stdout"
        }
      ]
    },
    {
      "cell_type": "code",
      "metadata": {
        "id": "NK5yb6ge42th"
      },
      "source": [
        "acc_sv = accuracy_score(y_test, pred_sv)\n",
        "# prec_sv = precision_score(y_test, pred_sv)\n",
        "# rec_sv= recall_score(y_test, pred_sv)\n",
        "# f1_sv = f1_score(y_test, pred_sv)"
      ],
      "execution_count": 111,
      "outputs": []
    },
    {
      "cell_type": "markdown",
      "metadata": {
        "id": "D6_lcC8lTgtR"
      },
      "source": [
        "# 10) Optimization"
      ]
    },
    {
      "cell_type": "markdown",
      "metadata": {
        "id": "7PU9TXL_5j7D"
      },
      "source": [
        "## Logistic Regression"
      ]
    },
    {
      "cell_type": "code",
      "metadata": {
        "id": "Eew_TBtj5j7F"
      },
      "source": [
        "lr_t = LogisticRegression()\n",
        "\n",
        "param_lr = {\n",
        "    \"penalty\": ['l1', 'l2', 'elasticnet', 'none'], \n",
        "    \"C\"      : np.logspace(-5,5,20),\n",
        "    \"max_iter\" : [100, 500, 1000]\n",
        "}\n",
        "\n",
        "grid_lr = GridSearchCV(\n",
        "    estimator = lr_t,\n",
        "    param_grid = param_lr,\n",
        "    cv = 10,\n",
        "    scoring = 'accuracy',\n",
        "    refit = True,\n",
        "    n_jobs = -1,\n",
        "    verbose = 1\n",
        ")"
      ],
      "execution_count": 112,
      "outputs": []
    },
    {
      "cell_type": "code",
      "metadata": {
        "id": "fcRJJKM85j7I",
        "outputId": "56f639bc-ac2c-4afe-e1d4-f79f44ba6400",
        "colab": {
          "base_uri": "https://localhost:8080/"
        }
      },
      "source": [
        "grid_lr.fit(X_train_sc, y_train)"
      ],
      "execution_count": 113,
      "outputs": [
        {
          "output_type": "stream",
          "text": [
            "Fitting 10 folds for each of 240 candidates, totalling 2400 fits\n"
          ],
          "name": "stdout"
        },
        {
          "output_type": "stream",
          "text": [
            "[Parallel(n_jobs=-1)]: Using backend LokyBackend with 40 concurrent workers.\n",
            "[Parallel(n_jobs=-1)]: Done 120 tasks      | elapsed:    1.7s\n",
            "[Parallel(n_jobs=-1)]: Done 720 tasks      | elapsed:    2.4s\n",
            "[Parallel(n_jobs=-1)]: Done 2120 tasks      | elapsed:    3.7s\n",
            "[Parallel(n_jobs=-1)]: Done 2400 out of 2400 | elapsed:    4.0s finished\n"
          ],
          "name": "stderr"
        },
        {
          "output_type": "execute_result",
          "data": {
            "text/plain": [
              "GridSearchCV(cv=10, error_score=nan,\n",
              "             estimator=LogisticRegression(C=1.0, class_weight=None, dual=False,\n",
              "                                          fit_intercept=True,\n",
              "                                          intercept_scaling=1, l1_ratio=None,\n",
              "                                          max_iter=100, multi_class='auto',\n",
              "                                          n_jobs=None, penalty='l2',\n",
              "                                          random_state=None, solver='lbfgs',\n",
              "                                          tol=0.0001, verbose=0,\n",
              "                                          warm_start=False),\n",
              "             iid='deprecated', n_jobs=-1,\n",
              "             param_grid={'C': array([1.00000000e-05, 3.35...\n",
              "       1.27427499e-03, 4.28133240e-03, 1.43844989e-02, 4.83293024e-02,\n",
              "       1.62377674e-01, 5.45559478e-01, 1.83298071e+00, 6.15848211e+00,\n",
              "       2.06913808e+01, 6.95192796e+01, 2.33572147e+02, 7.84759970e+02,\n",
              "       2.63665090e+03, 8.85866790e+03, 2.97635144e+04, 1.00000000e+05]),\n",
              "                         'max_iter': [100, 500, 1000],\n",
              "                         'penalty': ['l1', 'l2', 'elasticnet', 'none']},\n",
              "             pre_dispatch='2*n_jobs', refit=True, return_train_score=False,\n",
              "             scoring='accuracy', verbose=1)"
            ]
          },
          "metadata": {
            "tags": []
          },
          "execution_count": 113
        }
      ]
    },
    {
      "cell_type": "code",
      "metadata": {
        "id": "WbIEWepV6P6M",
        "outputId": "df0cd346-b617-4f17-a09e-6286240b724f",
        "colab": {
          "base_uri": "https://localhost:8080/"
        }
      },
      "source": [
        "grid_lr.best_params_"
      ],
      "execution_count": 114,
      "outputs": [
        {
          "output_type": "execute_result",
          "data": {
            "text/plain": [
              "{'C': 0.01438449888287663, 'max_iter': 100, 'penalty': 'l2'}"
            ]
          },
          "metadata": {
            "tags": []
          },
          "execution_count": 114
        }
      ]
    },
    {
      "cell_type": "code",
      "metadata": {
        "id": "ZcRvk-zy5j7L"
      },
      "source": [
        "pred_lrt = grid_lr.predict(X_test_sc)"
      ],
      "execution_count": 115,
      "outputs": []
    },
    {
      "cell_type": "code",
      "metadata": {
        "id": "zyp1-4Sc5j7O",
        "outputId": "675c0881-6541-4006-e4df-dea0ee661ae2",
        "colab": {
          "base_uri": "https://localhost:8080/",
          "height": 80
        }
      },
      "source": [
        "# OVERFIT/UNDERFIT CHECK\n",
        "\n",
        "fit_lrt = pd.DataFrame(data = {\n",
        "    \"Training\" : grid_lr.best_score_,\n",
        "    \"Testing\"  : accuracy_score(y_test, pred_lrt)\n",
        "}, index = ['Tuned Logistic Regression'])\n",
        "\n",
        "fit_lrt"
      ],
      "execution_count": 116,
      "outputs": [
        {
          "output_type": "execute_result",
          "data": {
            "text/html": [
              "<div>\n",
              "<style scoped>\n",
              "    .dataframe tbody tr th:only-of-type {\n",
              "        vertical-align: middle;\n",
              "    }\n",
              "\n",
              "    .dataframe tbody tr th {\n",
              "        vertical-align: top;\n",
              "    }\n",
              "\n",
              "    .dataframe thead th {\n",
              "        text-align: right;\n",
              "    }\n",
              "</style>\n",
              "<table border=\"1\" class=\"dataframe\">\n",
              "  <thead>\n",
              "    <tr style=\"text-align: right;\">\n",
              "      <th></th>\n",
              "      <th>Training</th>\n",
              "      <th>Testing</th>\n",
              "    </tr>\n",
              "  </thead>\n",
              "  <tbody>\n",
              "    <tr>\n",
              "      <th>Tuned Logistic Regression</th>\n",
              "      <td>0.5275</td>\n",
              "      <td>0.46</td>\n",
              "    </tr>\n",
              "  </tbody>\n",
              "</table>\n",
              "</div>"
            ],
            "text/plain": [
              "                           Training  Testing\n",
              "Tuned Logistic Regression    0.5275     0.46"
            ]
          },
          "metadata": {
            "tags": []
          },
          "execution_count": 116
        }
      ]
    },
    {
      "cell_type": "code",
      "metadata": {
        "id": "7bILMa165j7U",
        "outputId": "3d7f8afe-bfa1-4343-ddd2-f9b223d12a10",
        "colab": {
          "base_uri": "https://localhost:8080/",
          "height": 262
        }
      },
      "source": [
        "lrt_cm = confusion_matrix(y_test, pred_lrt, labels = [1,0])\n",
        "lrt_cm_df = pd.DataFrame(data = lrt_cm,  columns = ['Prediction 1', 'Prediction 0'], index = ['Actual 1', 'Actual 0'])\n",
        "\n",
        "sns.heatmap(lrt_cm_df, annot = True, cmap = 'bone')\n",
        "plt.style.use('seaborn-whitegrid')\n",
        "plt.show()"
      ],
      "execution_count": 117,
      "outputs": [
        {
          "output_type": "display_data",
          "data": {
            "image/png": "[encoded data removed]",
            "text/plain": [
              "<Figure size 432x288 with 2 Axes>"
            ]
          },
          "metadata": {
            "tags": []
          }
        }
      ]
    },
    {
      "cell_type": "code",
      "metadata": {
        "id": "ZIm8gtl-5j7X",
        "outputId": "48db344c-a897-4d68-885c-046b48ca8112",
        "colab": {
          "base_uri": "https://localhost:8080/",
          "height": 111
        }
      },
      "source": [
        "lrt_cm_df\n"
      ],
      "execution_count": 118,
      "outputs": [
        {
          "output_type": "execute_result",
          "data": {
            "text/html": [
              "<div>\n",
              "<style scoped>\n",
              "    .dataframe tbody tr th:only-of-type {\n",
              "        vertical-align: middle;\n",
              "    }\n",
              "\n",
              "    .dataframe tbody tr th {\n",
              "        vertical-align: top;\n",
              "    }\n",
              "\n",
              "    .dataframe thead th {\n",
              "        text-align: right;\n",
              "    }\n",
              "</style>\n",
              "<table border=\"1\" class=\"dataframe\">\n",
              "  <thead>\n",
              "    <tr style=\"text-align: right;\">\n",
              "      <th></th>\n",
              "      <th>Prediction 1</th>\n",
              "      <th>Prediction 0</th>\n",
              "    </tr>\n",
              "  </thead>\n",
              "  <tbody>\n",
              "    <tr>\n",
              "      <th>Actual 1</th>\n",
              "      <td>36</td>\n",
              "      <td>17</td>\n",
              "    </tr>\n",
              "    <tr>\n",
              "      <th>Actual 0</th>\n",
              "      <td>37</td>\n",
              "      <td>10</td>\n",
              "    </tr>\n",
              "  </tbody>\n",
              "</table>\n",
              "</div>"
            ],
            "text/plain": [
              "          Prediction 1  Prediction 0\n",
              "Actual 1            36            17\n",
              "Actual 0            37            10"
            ]
          },
          "metadata": {
            "tags": []
          },
          "execution_count": 118
        }
      ]
    },
    {
      "cell_type": "code",
      "metadata": {
        "id": "gKgmgiGm5j7Z"
      },
      "source": [
        "tp_lrt = lrt_cm_df['Prediction 1'][0]\n",
        "tn_lrt = lrt_cm_df['Prediction 0'][1]\n",
        "fp_lrt = lrt_cm_df['Prediction 1'][1]\n",
        "fn_lrt = lrt_cm_df['Prediction 0'][0]"
      ],
      "execution_count": 119,
      "outputs": []
    },
    {
      "cell_type": "code",
      "metadata": {
        "id": "hSSIG7kU5j7c",
        "outputId": "f6f998a3-187a-4627-c873-cb436bbcadc5",
        "colab": {
          "base_uri": "https://localhost:8080/"
        }
      },
      "source": [
        "print(classification_report(y_test, pred_lrt))\n"
      ],
      "execution_count": 120,
      "outputs": [
        {
          "output_type": "stream",
          "text": [
            "              precision    recall  f1-score   support\n",
            "\n",
            "           0       0.37      0.21      0.27        47\n",
            "           1       0.49      0.68      0.57        53\n",
            "\n",
            "    accuracy                           0.46       100\n",
            "   macro avg       0.43      0.45      0.42       100\n",
            "weighted avg       0.44      0.46      0.43       100\n",
            "\n"
          ],
          "name": "stdout"
        }
      ]
    },
    {
      "cell_type": "markdown",
      "metadata": {
        "id": "H06CgjMRuCKF"
      },
      "source": [
        "## Random Forest"
      ]
    },
    {
      "cell_type": "code",
      "metadata": {
        "id": "Xn1p8eNzuCKG"
      },
      "source": [
        "rf_t = RandomForestClassifier()\n",
        "\n",
        "param_rf = {\n",
        "    \"n_estimators\" : [10, 25, 50, 100, 500, 1000],\n",
        "    # \"max_depth\" : [None,4,8, 10, 12],\n",
        "    \"min_samples_leaf\" : np.linspace(0.01, 1.00, 10),\n",
        "    \"min_samples_split\" : np.linspace(0.02, 2.00, 10)\n",
        "}\n",
        "\n",
        "grid_rf = GridSearchCV(\n",
        "    estimator = rf_t,\n",
        "    param_grid = param_rf,\n",
        "    cv = 5,\n",
        "    scoring = 'accuracy',\n",
        "    refit = True,\n",
        "    n_jobs = -1,\n",
        "    verbose = 3\n",
        ")"
      ],
      "execution_count": 121,
      "outputs": []
    },
    {
      "cell_type": "code",
      "metadata": {
        "id": "O-MBgyg7xYGY",
        "outputId": "41471b60-f7fe-43d3-9eb9-a25332c9dec0",
        "colab": {
          "base_uri": "https://localhost:8080/"
        }
      },
      "source": [
        "grid_rf.fit(X_train, y_train)"
      ],
      "execution_count": 122,
      "outputs": [
        {
          "output_type": "stream",
          "text": [
            "Fitting 5 folds for each of 600 candidates, totalling 3000 fits\n"
          ],
          "name": "stdout"
        },
        {
          "output_type": "stream",
          "text": [
            "[Parallel(n_jobs=-1)]: Using backend LokyBackend with 40 concurrent workers.\n",
            "[Parallel(n_jobs=-1)]: Done  48 tasks      | elapsed:    0.5s\n",
            "[Parallel(n_jobs=-1)]: Done 336 tasks      | elapsed:    3.5s\n",
            "[Parallel(n_jobs=-1)]: Done 620 tasks      | elapsed:    6.9s\n",
            "[Parallel(n_jobs=-1)]: Done 920 tasks      | elapsed:   10.3s\n",
            "[Parallel(n_jobs=-1)]: Done 1272 tasks      | elapsed:   14.2s\n",
            "[Parallel(n_jobs=-1)]: Done 1688 tasks      | elapsed:   17.8s\n",
            "[Parallel(n_jobs=-1)]: Done 2168 tasks      | elapsed:   20.4s\n",
            "[Parallel(n_jobs=-1)]: Done 2712 tasks      | elapsed:   23.4s\n",
            "[Parallel(n_jobs=-1)]: Done 3000 out of 3000 | elapsed:   25.3s finished\n"
          ],
          "name": "stderr"
        },
        {
          "output_type": "execute_result",
          "data": {
            "text/plain": [
              "GridSearchCV(cv=5, error_score=nan,\n",
              "             estimator=RandomForestClassifier(bootstrap=True, ccp_alpha=0.0,\n",
              "                                              class_weight=None,\n",
              "                                              criterion='gini', max_depth=None,\n",
              "                                              max_features='auto',\n",
              "                                              max_leaf_nodes=None,\n",
              "                                              max_samples=None,\n",
              "                                              min_impurity_decrease=0.0,\n",
              "                                              min_impurity_split=None,\n",
              "                                              min_samples_leaf=1,\n",
              "                                              min_samples_split=2,\n",
              "                                              min_weight_fraction_leaf=0.0,\n",
              "                                              n_estimators=100, n_jobs=None,...\n",
              "                                              random_state=None, verbose=0,\n",
              "                                              warm_start=False),\n",
              "             iid='deprecated', n_jobs=-1,\n",
              "             param_grid={'min_samples_leaf': array([0.01, 0.12, 0.23, 0.34, 0.45, 0.56, 0.67, 0.78, 0.89, 1.  ]),\n",
              "                         'min_samples_split': array([0.02, 0.24, 0.46, 0.68, 0.9 , 1.12, 1.34, 1.56, 1.78, 2.  ]),\n",
              "                         'n_estimators': [10, 25, 50, 100, 500, 1000]},\n",
              "             pre_dispatch='2*n_jobs', refit=True, return_train_score=False,\n",
              "             scoring='accuracy', verbose=3)"
            ]
          },
          "metadata": {
            "tags": []
          },
          "execution_count": 122
        }
      ]
    },
    {
      "cell_type": "code",
      "metadata": {
        "id": "kzOlFcFG6mn4",
        "outputId": "f9affb50-3b64-4c6c-f699-2a767baca8ec",
        "colab": {
          "base_uri": "https://localhost:8080/"
        }
      },
      "source": [
        "grid_rf.best_params_"
      ],
      "execution_count": 123,
      "outputs": [
        {
          "output_type": "execute_result",
          "data": {
            "text/plain": [
              "{'min_samples_leaf': 0.01, 'min_samples_split': 0.02, 'n_estimators': 1000}"
            ]
          },
          "metadata": {
            "tags": []
          },
          "execution_count": 123
        }
      ]
    },
    {
      "cell_type": "code",
      "metadata": {
        "id": "TPG5x7UDuCKK"
      },
      "source": [
        "pred_rft = grid_rf.predict(X_test)"
      ],
      "execution_count": 124,
      "outputs": []
    },
    {
      "cell_type": "code",
      "metadata": {
        "id": "2qCMf4QXuCKM",
        "outputId": "70dd9146-5629-4b12-d6ea-3e6622337709",
        "colab": {
          "base_uri": "https://localhost:8080/",
          "height": 80
        }
      },
      "source": [
        "# OVERFIT/UNDERFIT CHECK\n",
        "\n",
        "fit_rft = pd.DataFrame(data = {\n",
        "    \"Training\" : grid_rf.best_score_,\n",
        "    \"Testing\"  : accuracy_score(y_test, pred_rft)\n",
        "}, index = ['Tuned Random Forest'])\n",
        "\n",
        "fit_rft"
      ],
      "execution_count": 125,
      "outputs": [
        {
          "output_type": "execute_result",
          "data": {
            "text/html": [
              "<div>\n",
              "<style scoped>\n",
              "    .dataframe tbody tr th:only-of-type {\n",
              "        vertical-align: middle;\n",
              "    }\n",
              "\n",
              "    .dataframe tbody tr th {\n",
              "        vertical-align: top;\n",
              "    }\n",
              "\n",
              "    .dataframe thead th {\n",
              "        text-align: right;\n",
              "    }\n",
              "</style>\n",
              "<table border=\"1\" class=\"dataframe\">\n",
              "  <thead>\n",
              "    <tr style=\"text-align: right;\">\n",
              "      <th></th>\n",
              "      <th>Training</th>\n",
              "      <th>Testing</th>\n",
              "    </tr>\n",
              "  </thead>\n",
              "  <tbody>\n",
              "    <tr>\n",
              "      <th>Tuned Random Forest</th>\n",
              "      <td>0.55</td>\n",
              "      <td>0.5</td>\n",
              "    </tr>\n",
              "  </tbody>\n",
              "</table>\n",
              "</div>"
            ],
            "text/plain": [
              "                     Training  Testing\n",
              "Tuned Random Forest      0.55      0.5"
            ]
          },
          "metadata": {
            "tags": []
          },
          "execution_count": 125
        }
      ]
    },
    {
      "cell_type": "code",
      "metadata": {
        "id": "2Ff_0L2huCKV",
        "outputId": "8c011174-37d3-4f4e-e847-0b8e6e90c1b8",
        "colab": {
          "base_uri": "https://localhost:8080/",
          "height": 266
        }
      },
      "source": [
        "rft_cm = confusion_matrix(y_test, pred_rft, labels = [1,0])\n",
        "rft_cm_df = pd.DataFrame(data = rft_cm,  columns = ['Prediction 1', 'Prediction 0'], index = ['Actual 1', 'Actual 0'])\n",
        "\n",
        "sns.heatmap(rft_cm_df, annot = True, cmap = 'bone')\n",
        "plt.style.use('seaborn-whitegrid')\n",
        "plt.show()"
      ],
      "execution_count": 126,
      "outputs": [
        {
          "output_type": "display_data",
          "data": {
            "image/png": "[encoded data removed]",
            "text/plain": [
              "<Figure size 432x288 with 2 Axes>"
            ]
          },
          "metadata": {
            "tags": []
          }
        }
      ]
    },
    {
      "cell_type": "code",
      "metadata": {
        "id": "c1KriPyWuCKZ",
        "outputId": "e920e317-150b-436a-d34d-29beedf04ba3",
        "colab": {
          "base_uri": "https://localhost:8080/",
          "height": 111
        }
      },
      "source": [
        "rft_cm_df\n"
      ],
      "execution_count": 127,
      "outputs": [
        {
          "output_type": "execute_result",
          "data": {
            "text/html": [
              "<div>\n",
              "<style scoped>\n",
              "    .dataframe tbody tr th:only-of-type {\n",
              "        vertical-align: middle;\n",
              "    }\n",
              "\n",
              "    .dataframe tbody tr th {\n",
              "        vertical-align: top;\n",
              "    }\n",
              "\n",
              "    .dataframe thead th {\n",
              "        text-align: right;\n",
              "    }\n",
              "</style>\n",
              "<table border=\"1\" class=\"dataframe\">\n",
              "  <thead>\n",
              "    <tr style=\"text-align: right;\">\n",
              "      <th></th>\n",
              "      <th>Prediction 1</th>\n",
              "      <th>Prediction 0</th>\n",
              "    </tr>\n",
              "  </thead>\n",
              "  <tbody>\n",
              "    <tr>\n",
              "      <th>Actual 1</th>\n",
              "      <td>26</td>\n",
              "      <td>27</td>\n",
              "    </tr>\n",
              "    <tr>\n",
              "      <th>Actual 0</th>\n",
              "      <td>23</td>\n",
              "      <td>24</td>\n",
              "    </tr>\n",
              "  </tbody>\n",
              "</table>\n",
              "</div>"
            ],
            "text/plain": [
              "          Prediction 1  Prediction 0\n",
              "Actual 1            26            27\n",
              "Actual 0            23            24"
            ]
          },
          "metadata": {
            "tags": []
          },
          "execution_count": 127
        }
      ]
    },
    {
      "cell_type": "code",
      "metadata": {
        "id": "OHznCIbybEf0"
      },
      "source": [
        "tp_rft = rft_cm_df['Prediction 1'][0]\n",
        "tn_rft = rft_cm_df['Prediction 0'][1]\n",
        "fp_rft = rft_cm_df['Prediction 1'][1]\n",
        "fn_rft = rft_cm_df['Prediction 0'][0]"
      ],
      "execution_count": 128,
      "outputs": []
    },
    {
      "cell_type": "code",
      "metadata": {
        "id": "yUH-LusTuCKe",
        "outputId": "53a0712a-0bef-4d86-ff08-8537eafa827d",
        "colab": {
          "base_uri": "https://localhost:8080/"
        }
      },
      "source": [
        "print(classification_report(y_test, pred_rft))\n"
      ],
      "execution_count": 129,
      "outputs": [
        {
          "output_type": "stream",
          "text": [
            "              precision    recall  f1-score   support\n",
            "\n",
            "           0       0.47      0.51      0.49        47\n",
            "           1       0.53      0.49      0.51        53\n",
            "\n",
            "    accuracy                           0.50       100\n",
            "   macro avg       0.50      0.50      0.50       100\n",
            "weighted avg       0.50      0.50      0.50       100\n",
            "\n"
          ],
          "name": "stdout"
        }
      ]
    },
    {
      "cell_type": "markdown",
      "metadata": {
        "id": "Qqtk8KVp9Vls"
      },
      "source": [
        "## Support Vector Machine"
      ]
    },
    {
      "cell_type": "code",
      "metadata": {
        "id": "wEJDgWn49Vl0"
      },
      "source": [
        "sv_t = SVC()\n",
        "\n",
        "param_sv = {\n",
        "    \"C\" : np.logspace(-4,4,15),\n",
        "    \"gamma\" : ['scale', 'auto'],\n",
        "    \"max_iter\" : np.arange(1000,5001, 500),\n",
        "}\n",
        "\n",
        "grid_sv = GridSearchCV(\n",
        "    estimator = sv_t,\n",
        "    param_grid = param_sv,\n",
        "    cv = 10,\n",
        "    scoring = 'accuracy',\n",
        "    refit = True,\n",
        "    n_jobs = -1,\n",
        "    verbose = 3\n",
        ")"
      ],
      "execution_count": 130,
      "outputs": []
    },
    {
      "cell_type": "code",
      "metadata": {
        "id": "PUUBYUJZ9Vl6",
        "outputId": "bf283076-a5a6-4d42-e35f-890b0c0b36a6",
        "colab": {
          "base_uri": "https://localhost:8080/"
        }
      },
      "source": [
        "grid_sv.fit(X_train_sc, y_train)"
      ],
      "execution_count": 131,
      "outputs": [
        {
          "output_type": "stream",
          "text": [
            "Fitting 10 folds for each of 270 candidates, totalling 2700 fits\n"
          ],
          "name": "stdout"
        },
        {
          "output_type": "stream",
          "text": [
            "[Parallel(n_jobs=-1)]: Using backend LokyBackend with 40 concurrent workers.\n",
            "[Parallel(n_jobs=-1)]: Done  48 tasks      | elapsed:    0.3s\n",
            "[Parallel(n_jobs=-1)]: Done 432 tasks      | elapsed:    0.8s\n",
            "[Parallel(n_jobs=-1)]: Done 1328 tasks      | elapsed:    1.6s\n",
            "[Parallel(n_jobs=-1)]: Done 2480 tasks      | elapsed:    2.8s\n",
            "[Parallel(n_jobs=-1)]: Done 2621 out of 2700 | elapsed:    2.9s remaining:    0.1s\n",
            "[Parallel(n_jobs=-1)]: Done 2700 out of 2700 | elapsed:    3.0s finished\n"
          ],
          "name": "stderr"
        },
        {
          "output_type": "execute_result",
          "data": {
            "text/plain": [
              "GridSearchCV(cv=10, error_score=nan,\n",
              "             estimator=SVC(C=1.0, break_ties=False, cache_size=200,\n",
              "                           class_weight=None, coef0=0.0,\n",
              "                           decision_function_shape='ovr', degree=3,\n",
              "                           gamma='scale', kernel='rbf', max_iter=-1,\n",
              "                           probability=False, random_state=None, shrinking=True,\n",
              "                           tol=0.001, verbose=False),\n",
              "             iid='deprecated', n_jobs=-1,\n",
              "             param_grid={'C': array([1.00000000e-04, 3.72759372e-04, 1...03,\n",
              "       1.93069773e-02, 7.19685673e-02, 2.68269580e-01, 1.00000000e+00,\n",
              "       3.72759372e+00, 1.38949549e+01, 5.17947468e+01, 1.93069773e+02,\n",
              "       7.19685673e+02, 2.68269580e+03, 1.00000000e+04]),\n",
              "                         'gamma': ['scale', 'auto'],\n",
              "                         'max_iter': array([1000, 1500, 2000, 2500, 3000, 3500, 4000, 4500, 5000])},\n",
              "             pre_dispatch='2*n_jobs', refit=True, return_train_score=False,\n",
              "             scoring='accuracy', verbose=3)"
            ]
          },
          "metadata": {
            "tags": []
          },
          "execution_count": 131
        }
      ]
    },
    {
      "cell_type": "code",
      "metadata": {
        "id": "DfZ-3pqD9VmB",
        "outputId": "c0beab99-6d4f-4a3d-c337-2312258c14b8",
        "colab": {
          "base_uri": "https://localhost:8080/"
        }
      },
      "source": [
        "grid_sv.best_params_"
      ],
      "execution_count": 132,
      "outputs": [
        {
          "output_type": "execute_result",
          "data": {
            "text/plain": [
              "{'C': 193.06977288832496, 'gamma': 'auto', 'max_iter': 1500}"
            ]
          },
          "metadata": {
            "tags": []
          },
          "execution_count": 132
        }
      ]
    },
    {
      "cell_type": "code",
      "metadata": {
        "id": "mDgcXEKq9VmI"
      },
      "source": [
        "pred_svt = grid_sv.predict(X_test_sc)"
      ],
      "execution_count": 133,
      "outputs": []
    },
    {
      "cell_type": "code",
      "metadata": {
        "id": "W83o-p3o9VmN",
        "outputId": "34082af5-f917-4904-f529-8c4161f31a20",
        "colab": {
          "base_uri": "https://localhost:8080/",
          "height": 80
        }
      },
      "source": [
        "# OVERFIT/UNDERFIT CHECK\n",
        "\n",
        "fit_svt = pd.DataFrame(data = {\n",
        "    \"Training\" : grid_sv.best_score_,\n",
        "    \"Testing\"  : accuracy_score(y_test, pred_svt)\n",
        "}, index = ['Tuned SVC'])\n",
        "\n",
        "fit_svt"
      ],
      "execution_count": 134,
      "outputs": [
        {
          "output_type": "execute_result",
          "data": {
            "text/html": [
              "<div>\n",
              "<style scoped>\n",
              "    .dataframe tbody tr th:only-of-type {\n",
              "        vertical-align: middle;\n",
              "    }\n",
              "\n",
              "    .dataframe tbody tr th {\n",
              "        vertical-align: top;\n",
              "    }\n",
              "\n",
              "    .dataframe thead th {\n",
              "        text-align: right;\n",
              "    }\n",
              "</style>\n",
              "<table border=\"1\" class=\"dataframe\">\n",
              "  <thead>\n",
              "    <tr style=\"text-align: right;\">\n",
              "      <th></th>\n",
              "      <th>Training</th>\n",
              "      <th>Testing</th>\n",
              "    </tr>\n",
              "  </thead>\n",
              "  <tbody>\n",
              "    <tr>\n",
              "      <th>Tuned SVC</th>\n",
              "      <td>0.5625</td>\n",
              "      <td>0.59</td>\n",
              "    </tr>\n",
              "  </tbody>\n",
              "</table>\n",
              "</div>"
            ],
            "text/plain": [
              "           Training  Testing\n",
              "Tuned SVC    0.5625     0.59"
            ]
          },
          "metadata": {
            "tags": []
          },
          "execution_count": 134
        }
      ]
    },
    {
      "cell_type": "code",
      "metadata": {
        "id": "9lkBGeKj9VmS",
        "outputId": "f9f408cc-79c6-426f-b12f-7d56af7ae3ca",
        "colab": {
          "base_uri": "https://localhost:8080/",
          "height": 262
        }
      },
      "source": [
        "svt_cm = confusion_matrix(y_test, pred_svt, labels = [1,0])\n",
        "svt_cm_df = pd.DataFrame(data = svt_cm,  columns = ['Prediction 1', 'Prediction 0'], index = ['Actual 1', 'Actual 0'])\n",
        "\n",
        "sns.heatmap(svt_cm_df, annot = True, cmap = 'bone')\n",
        "plt.style.use('seaborn-whitegrid')\n",
        "plt.show()"
      ],
      "execution_count": 135,
      "outputs": [
        {
          "output_type": "display_data",
          "data": {
            "image/png": "[encoded data removed]",
            "text/plain": [
              "<Figure size 432x288 with 2 Axes>"
            ]
          },
          "metadata": {
            "tags": []
          }
        }
      ]
    },
    {
      "cell_type": "code",
      "metadata": {
        "id": "j3JY7f0M9Vma",
        "outputId": "9ea35697-f1a5-4c40-f0a6-8a317cfc4208",
        "colab": {
          "base_uri": "https://localhost:8080/",
          "height": 111
        }
      },
      "source": [
        "svt_cm_df\n"
      ],
      "execution_count": 136,
      "outputs": [
        {
          "output_type": "execute_result",
          "data": {
            "text/html": [
              "<div>\n",
              "<style scoped>\n",
              "    .dataframe tbody tr th:only-of-type {\n",
              "        vertical-align: middle;\n",
              "    }\n",
              "\n",
              "    .dataframe tbody tr th {\n",
              "        vertical-align: top;\n",
              "    }\n",
              "\n",
              "    .dataframe thead th {\n",
              "        text-align: right;\n",
              "    }\n",
              "</style>\n",
              "<table border=\"1\" class=\"dataframe\">\n",
              "  <thead>\n",
              "    <tr style=\"text-align: right;\">\n",
              "      <th></th>\n",
              "      <th>Prediction 1</th>\n",
              "      <th>Prediction 0</th>\n",
              "    </tr>\n",
              "  </thead>\n",
              "  <tbody>\n",
              "    <tr>\n",
              "      <th>Actual 1</th>\n",
              "      <td>25</td>\n",
              "      <td>28</td>\n",
              "    </tr>\n",
              "    <tr>\n",
              "      <th>Actual 0</th>\n",
              "      <td>13</td>\n",
              "      <td>34</td>\n",
              "    </tr>\n",
              "  </tbody>\n",
              "</table>\n",
              "</div>"
            ],
            "text/plain": [
              "          Prediction 1  Prediction 0\n",
              "Actual 1            25            28\n",
              "Actual 0            13            34"
            ]
          },
          "metadata": {
            "tags": []
          },
          "execution_count": 136
        }
      ]
    },
    {
      "cell_type": "code",
      "metadata": {
        "id": "BCn6qmdN9Vmk"
      },
      "source": [
        "tp_svt = svt_cm_df['Prediction 1'][0]\n",
        "tn_svt = svt_cm_df['Prediction 0'][1]\n",
        "fp_svt = svt_cm_df['Prediction 1'][1]\n",
        "fn_svt = svt_cm_df['Prediction 0'][0]"
      ],
      "execution_count": 137,
      "outputs": []
    },
    {
      "cell_type": "code",
      "metadata": {
        "id": "WUW8xHbg9Vmr",
        "outputId": "fe983017-97f5-4865-f6b2-e8a3bd4beaa6",
        "colab": {
          "base_uri": "https://localhost:8080/"
        }
      },
      "source": [
        "print(classification_report(y_test, pred_svt))\n"
      ],
      "execution_count": 138,
      "outputs": [
        {
          "output_type": "stream",
          "text": [
            "              precision    recall  f1-score   support\n",
            "\n",
            "           0       0.55      0.72      0.62        47\n",
            "           1       0.66      0.47      0.55        53\n",
            "\n",
            "    accuracy                           0.59       100\n",
            "   macro avg       0.60      0.60      0.59       100\n",
            "weighted avg       0.61      0.59      0.58       100\n",
            "\n"
          ],
          "name": "stdout"
        }
      ]
    },
    {
      "cell_type": "markdown",
      "metadata": {
        "id": "jpv5vPbjdIPE"
      },
      "source": [
        "## Summary"
      ]
    },
    {
      "cell_type": "code",
      "metadata": {
        "id": "Kd67KwGfi-sV",
        "outputId": "df929ac1-eaa2-4731-ad66-a1f9dc7c4199",
        "colab": {
          "base_uri": "https://localhost:8080/",
          "height": 235
        }
      },
      "source": [
        "model_summary = pd.concat([fit_lr, fit_rf, fit_sv,\n",
        "                           fit_lrt,fit_rft, fit_svt])\n",
        "model_summary"
      ],
      "execution_count": 139,
      "outputs": [
        {
          "output_type": "execute_result",
          "data": {
            "text/html": [
              "<div>\n",
              "<style scoped>\n",
              "    .dataframe tbody tr th:only-of-type {\n",
              "        vertical-align: middle;\n",
              "    }\n",
              "\n",
              "    .dataframe tbody tr th {\n",
              "        vertical-align: top;\n",
              "    }\n",
              "\n",
              "    .dataframe thead th {\n",
              "        text-align: right;\n",
              "    }\n",
              "</style>\n",
              "<table border=\"1\" class=\"dataframe\">\n",
              "  <thead>\n",
              "    <tr style=\"text-align: right;\">\n",
              "      <th></th>\n",
              "      <th>Training</th>\n",
              "      <th>Testing</th>\n",
              "    </tr>\n",
              "  </thead>\n",
              "  <tbody>\n",
              "    <tr>\n",
              "      <th>Logistic Regression</th>\n",
              "      <td>0.5775</td>\n",
              "      <td>0.50</td>\n",
              "    </tr>\n",
              "    <tr>\n",
              "      <th>Random Forest</th>\n",
              "      <td>1.0000</td>\n",
              "      <td>0.54</td>\n",
              "    </tr>\n",
              "    <tr>\n",
              "      <th>SVC</th>\n",
              "      <td>0.7250</td>\n",
              "      <td>0.54</td>\n",
              "    </tr>\n",
              "    <tr>\n",
              "      <th>Tuned Logistic Regression</th>\n",
              "      <td>0.5275</td>\n",
              "      <td>0.46</td>\n",
              "    </tr>\n",
              "    <tr>\n",
              "      <th>Tuned Random Forest</th>\n",
              "      <td>0.5500</td>\n",
              "      <td>0.50</td>\n",
              "    </tr>\n",
              "    <tr>\n",
              "      <th>Tuned SVC</th>\n",
              "      <td>0.5625</td>\n",
              "      <td>0.59</td>\n",
              "    </tr>\n",
              "  </tbody>\n",
              "</table>\n",
              "</div>"
            ],
            "text/plain": [
              "                           Training  Testing\n",
              "Logistic Regression          0.5775     0.50\n",
              "Random Forest                1.0000     0.54\n",
              "SVC                          0.7250     0.54\n",
              "Tuned Logistic Regression    0.5275     0.46\n",
              "Tuned Random Forest          0.5500     0.50\n",
              "Tuned SVC                    0.5625     0.59"
            ]
          },
          "metadata": {
            "tags": []
          },
          "execution_count": 139
        }
      ]
    },
    {
      "cell_type": "code",
      "metadata": {
        "id": "9SLksR5RdMOc",
        "outputId": "aed929d8-848e-42a3-ab24-73d3e5ac4064",
        "colab": {
          "base_uri": "https://localhost:8080/",
          "height": 235
        }
      },
      "source": [
        "summary_cm = pd.DataFrame({\n",
        "    \"TruePositive\" : [tp_lr, tp_sv, tp_rf, tp_lrt, tp_svt, tp_rft],\n",
        "    \"TrueNegative\" : [tn_lr, tn_sv, tp_rf, tn_lrt, tn_svt, tn_rft],\n",
        "    \"FalsePositive\": [fp_lr, fp_sv, fp_rf, fp_lrt, fp_svt, fp_rft],\n",
        "    \"FalseNegative\": [fn_lr, fn_sv, fn_rf, fn_lrt, fn_svt, fn_rft]\n",
        "}, \n",
        "index = model_summary.index)\n",
        "\n",
        "summary_cm"
      ],
      "execution_count": 140,
      "outputs": [
        {
          "output_type": "execute_result",
          "data": {
            "text/html": [
              "<div>\n",
              "<style scoped>\n",
              "    .dataframe tbody tr th:only-of-type {\n",
              "        vertical-align: middle;\n",
              "    }\n",
              "\n",
              "    .dataframe tbody tr th {\n",
              "        vertical-align: top;\n",
              "    }\n",
              "\n",
              "    .dataframe thead th {\n",
              "        text-align: right;\n",
              "    }\n",
              "</style>\n",
              "<table border=\"1\" class=\"dataframe\">\n",
              "  <thead>\n",
              "    <tr style=\"text-align: right;\">\n",
              "      <th></th>\n",
              "      <th>TruePositive</th>\n",
              "      <th>TrueNegative</th>\n",
              "      <th>FalsePositive</th>\n",
              "      <th>FalseNegative</th>\n",
              "    </tr>\n",
              "  </thead>\n",
              "  <tbody>\n",
              "    <tr>\n",
              "      <th>Logistic Regression</th>\n",
              "      <td>28</td>\n",
              "      <td>22</td>\n",
              "      <td>25</td>\n",
              "      <td>25</td>\n",
              "    </tr>\n",
              "    <tr>\n",
              "      <th>Random Forest</th>\n",
              "      <td>31</td>\n",
              "      <td>23</td>\n",
              "      <td>24</td>\n",
              "      <td>22</td>\n",
              "    </tr>\n",
              "    <tr>\n",
              "      <th>SVC</th>\n",
              "      <td>27</td>\n",
              "      <td>27</td>\n",
              "      <td>20</td>\n",
              "      <td>26</td>\n",
              "    </tr>\n",
              "    <tr>\n",
              "      <th>Tuned Logistic Regression</th>\n",
              "      <td>36</td>\n",
              "      <td>10</td>\n",
              "      <td>37</td>\n",
              "      <td>17</td>\n",
              "    </tr>\n",
              "    <tr>\n",
              "      <th>Tuned Random Forest</th>\n",
              "      <td>25</td>\n",
              "      <td>34</td>\n",
              "      <td>13</td>\n",
              "      <td>28</td>\n",
              "    </tr>\n",
              "    <tr>\n",
              "      <th>Tuned SVC</th>\n",
              "      <td>26</td>\n",
              "      <td>24</td>\n",
              "      <td>23</td>\n",
              "      <td>27</td>\n",
              "    </tr>\n",
              "  </tbody>\n",
              "</table>\n",
              "</div>"
            ],
            "text/plain": [
              "                           TruePositive  ...  FalseNegative\n",
              "Logistic Regression                  28  ...             25\n",
              "Random Forest                        31  ...             22\n",
              "SVC                                  27  ...             26\n",
              "Tuned Logistic Regression            36  ...             17\n",
              "Tuned Random Forest                  25  ...             28\n",
              "Tuned SVC                            26  ...             27\n",
              "\n",
              "[6 rows x 4 columns]"
            ]
          },
          "metadata": {
            "tags": []
          },
          "execution_count": 140
        }
      ]
    },
    {
      "cell_type": "markdown",
      "metadata": {
        "id": "1Bq2QFY0K2GF"
      },
      "source": [
        "## Choosing the Model"
      ]
    },
    {
      "cell_type": "code",
      "metadata": {
        "id": "e-orgds1K5xq"
      },
      "source": [
        "from sklearn.externals import joblib"
      ],
      "execution_count": 141,
      "outputs": []
    },
    {
      "cell_type": "code",
      "metadata": {
        "id": "xKXhQ2jfK5tk",
        "outputId": "ecb1a6c8-f791-4d39-f2a0-4ce52fddad32",
        "colab": {
          "base_uri": "https://localhost:8080/"
        }
      },
      "source": [
        "joblib.dump(grid_sv, 'ModelSVC')\n",
        "\n",
        "# we choose this model since it has the best accuracy compares to other model.\n",
        "# and this model doesn't so overfitting.\n",
        "# Tuned SVC predicts great with 26 TP and 24 TN, while the model still has error with 23 FP and 27 FN."
      ],
      "execution_count": 142,
      "outputs": [
        {
          "output_type": "execute_result",
          "data": {
            "text/plain": [
              "['ModelSVC']"
            ]
          },
          "metadata": {
            "tags": []
          },
          "execution_count": 142
        }
      ]
    },
    {
      "cell_type": "markdown",
      "metadata": {
        "id": "TQ7owed6Tol3"
      },
      "source": [
        "# 11) Conclusion\n",
        "1. Only Marketing department which dominated by unsatisfied employees.\n",
        "2. Either PG or UG education level, they are still dominated by satisfied employees.\n",
        "3. Only 'job level 2' is dominated by unsatisfied employees while 'job level 3' is neutral.\n",
        "4. It's obvious that employee who has rating 4 and 5 is way dominated by the satisfied employees, while rating 1 and 2 are the most unsatisfied employees with above 50% employees.\n",
        "5. Onsite doesn't affect employees satifaction.\n",
        "6. Employees who has 0 rewards tend to more satisfy than the other.\n",
        "7. Certified or not doesn't affect employees satifaction.\n",
        "8. Employees who have \\$86750 of their salary and \\$24076 have the same percentage of satisfaction: 56%. We can strongly say that in this case, salary doesn't affect the employee's satisfaction.\n",
        "9. The best Machine Learning Model with Support Vector Machine (Classifier) algorithm could predict employee's satisfaction within 0.59 of 1.0 accuracy.\n",
        "\n"
      ]
    },
    {
      "cell_type": "code",
      "metadata": {
        "id": "l5LrRFbCTs2W"
      },
      "source": [
        ""
      ],
      "execution_count": null,
      "outputs": []
    },
    {
      "cell_type": "markdown",
      "metadata": {
        "id": "L1g8ajvDTtXf"
      },
      "source": [
        "#12) Recommendation\n",
        "1. Companies should pay more attention to their employees who work in the Marketing department, especially those with level 2 jobs.\n",
        "2. Ratings given by the company affect employee satisfaction, therefore companies can add intrapersonal aspects as a rating indicator. So it is not only technical performance that is assessed.\n",
        "3. Award is very good given but if you want to balance employee satisfaction with performance, it is better if the award is given periodically. This can create social jealousy that affects employee satisfaction.\n",
        "4. It's not about money and awards, but must be checked again on the work environment and rating indicators.\n",
        "5. Since the Machine Learning model got 0.59, we consider that employees dataset should be more reliable. For example, the `salary` feature. The salary feature should not be fixed like categorical and you have to be frankly about the whole data."
      ]
    },
    {
      "cell_type": "code",
      "metadata": {
        "id": "iufV5CBOTvI0"
      },
      "source": [
        "|"
      ],
      "execution_count": null,
      "outputs": []
    }
  ]
}